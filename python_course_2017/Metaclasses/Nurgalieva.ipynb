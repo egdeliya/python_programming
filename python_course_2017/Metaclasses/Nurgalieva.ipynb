{
 "cells": [
  {
   "cell_type": "markdown",
   "metadata": {},
   "source": [
    "# Задание 7"
   ]
  },
  {
   "cell_type": "markdown",
   "metadata": {},
   "source": [
    "## 1. PropertyCreator (0.2 балла)\n",
    "\n",
    "Напишите мета класс для создания свойств (property) класса из функций начинающихся с \"set\\_\", \"get\\_\" или \"del_\". Пример использования:\n",
    "<code>\n",
    "class TestPropertyCreator(metaclass=PropertyCreator):\n",
    "    def \\__init\\__(self, lo):\n",
    "        self.__x = None\n",
    "        self.lo = lo\n",
    "\n",
    "    def get_x(self):\n",
    "        return self.__x\n",
    "\n",
    "    def set_x(self, value):\n",
    "        if value < self.lo:\n",
    "            raise ValueError(\"Value must in condition: {} <= value\".format(self.lo))\n",
    "        self.__x = value\n",
    "    \n",
    "    def del_x(self):\n",
    "        self.__x = \"No more\"\n",
    "\n",
    "    pass\n",
    "\n",
    "\n",
    "obj = TestPropertyCreator(5)\n",
    "obj.x = 4\n",
    "print(obj.x)\n",
    "del (obj.x)\n",
    "</code>\n",
    "\n",
    "* Мета класс должен поддерживать наследование, в смысле создавать свойства у потомков.\n",
    "* Должен поддерживать частичное описание свойств, т. е. например, описание одного метода get_val (без set_val и del_val).\n",
    "* Поддерживать множественное использование одного свойства с одним именем в разных классах:\n",
    "\n",
    "<code>\n",
    "class A(metaclass=PropertyCreator):\n",
    "    def get_x(self):\n",
    "        return \"x in class A\"\n",
    "\n",
    "class B(metaclass=PropertyCreator):\n",
    "    def get_x(self):\n",
    "        return \"x in class B\"\n",
    "\n",
    "class C(metaclass=PropertyCreator):\n",
    "    def set_x(self, value):\n",
    "        self.value = \"x in class C\"\n",
    "    def get_x(self):\n",
    "        return self.value\n",
    "</code>\n",
    "* Должен уметь обрабатывать имен с несколькими подчеркиваниями \"get_raw_text\"."
   ]
  },
  {
   "cell_type": "markdown",
   "metadata": {},
   "source": [
    "#### Решение"
   ]
  },
  {
   "cell_type": "code",
   "execution_count": 1,
   "metadata": {
    "collapsed": true
   },
   "outputs": [],
   "source": [
    "import re"
   ]
  },
  {
   "cell_type": "code",
   "execution_count": 2,
   "metadata": {
    "collapsed": true
   },
   "outputs": [],
   "source": [
    "dict_ = dict()"
   ]
  },
  {
   "cell_type": "code",
   "execution_count": 3,
   "metadata": {
    "collapsed": true
   },
   "outputs": [],
   "source": [
    "class PropertyCreator(type):\n",
    "    \n",
    "    def __new__(cls, name, bases, attrs):\n",
    "\n",
    "        properties = dict()\n",
    "        \n",
    "        def add_property(pr_name, pr_type, pr_body):\n",
    "            if (properties.get(pr_name) == None):\n",
    "                properties[pr_name] = {}\n",
    "            properties[pr_name][pr_type] = pr_body\n",
    "        \n",
    "        for attr_name, attr_body in attrs.items():\n",
    "            if (callable(attr_body)):\n",
    "                if (attr_name.startswith('get_') or attr_name.startswith('set_') or\n",
    "                    attr_name.startswith('del_')):\n",
    "                    add_property(attr_name[4:], attr_name[:3], attr_body)\n",
    "         \n",
    "        for prop_name in properties:\n",
    "            attrs[prop_name] = property(properties[prop_name].get('get'), properties[prop_name].get('set'), \n",
    "                                       properties[prop_name].get('del'))\n",
    "            \n",
    "        return super().__new__(cls, name, bases, attrs)"
   ]
  },
  {
   "cell_type": "code",
   "execution_count": 4,
   "metadata": {
    "collapsed": true
   },
   "outputs": [],
   "source": [
    "cls = PropertyCreator('Hello', (object, ), {})\n",
    "get_pat = re.compile('get_')"
   ]
  },
  {
   "cell_type": "code",
   "execution_count": 5,
   "metadata": {
    "collapsed": true
   },
   "outputs": [],
   "source": [
    "class SimplePropertyCreator(metaclass=PropertyCreator):\n",
    "        def __init__(self, lo):\n",
    "            self.__x = None\n",
    "            self.lo = lo\n",
    "            \n",
    "        def get_x(self):\n",
    "            return self.__x\n",
    "        \n",
    "        def get_get_x(self):\n",
    "            return 0\n",
    "\n",
    "        def set_x(self, value):\n",
    "            print(\"i'm in set\")\n",
    "            if value < self.lo:\n",
    "                raise ValueError(\"Value must in condition: {} <= value\".format(self.lo))\n",
    "            self.__x = value\n",
    "\n",
    "        def del_x(self):\n",
    "            self.__x = \"No more\""
   ]
  },
  {
   "cell_type": "code",
   "execution_count": 6,
   "metadata": {
    "collapsed": true
   },
   "outputs": [],
   "source": [
    "testingClass = SimplePropertyCreator(4)"
   ]
  },
  {
   "cell_type": "code",
   "execution_count": 7,
   "metadata": {},
   "outputs": [
    {
     "name": "stdout",
     "output_type": "stream",
     "text": [
      "i'm in set\n",
      "5\n"
     ]
    }
   ],
   "source": [
    "testingClass.x = 5\n",
    "print(testingClass.x)"
   ]
  },
  {
   "cell_type": "markdown",
   "metadata": {},
   "source": [
    "#### Протестируйте свое решение"
   ]
  },
  {
   "cell_type": "code",
   "execution_count": null,
   "metadata": {
    "collapsed": true
   },
   "outputs": [],
   "source": [
    "def test_simple():\n",
    "    class TestPropertyCreator(metaclass=PropertyCreator):\n",
    "        def init(self, lo):\n",
    "            self.__x = None\n",
    "            self.lo = lo\n",
    "            \n",
    "        def get_x(self):\n",
    "            return self.__x\n",
    "\n",
    "        def set_x(self, value):\n",
    "            if value < self.lo:\n",
    "                raise ValueError(\"Value must in condition: {} <= value\".format(self.lo))\n",
    "            self.__x = value\n",
    "\n",
    "        def del_x(self):\n",
    "            self.__x = \"No more\"\n",
    "    <your code here>\n",
    "\n",
    "    \n",
    "def test_with_inheritance():\n",
    "    class TestPropertyCreator(metaclass=PropertyCreator):\n",
    "        pass\n",
    "\n",
    "    class TestPropertyCreatorInheritance(A):\n",
    "        def __init__(self):\n",
    "            self._secret_list = []\n",
    "\n",
    "        def get_x(self):\n",
    "            self._secret_list.append(\"get\")\n",
    "            return 0\n",
    "\n",
    "        def set_x(self, value):\n",
    "            self._secret_list.append(\"set\")\n",
    "    <your code here>\n",
    "\n",
    "    \n",
    "def test_partially_defined():\n",
    "    class TestPropertyCreator(metaclass=PropertyCreator):\n",
    "        def __init__(self):\n",
    "            self._secret_list = []\n",
    "\n",
    "        def get_x(self):\n",
    "            self._secret_list.append(\"get\")\n",
    "            return 0\n",
    "\n",
    "        def set_y(self, value):\n",
    "            self._secret_list.append(\"set\")\n",
    "            self._y = value\n",
    "    <your code here>\n",
    "\n",
    "    \n",
    "def test_sanity():\n",
    "    class TestPropertyCreator(metaclass=PropertyCreator):\n",
    "        _text = 0\n",
    "        def get_raw_text(self):\n",
    "             return self._boo\n",
    "\n",
    "        def get_text(self):\n",
    "             return self._text % 2\n",
    "\n",
    "        def set_text(self, value):\n",
    "            try:\n",
    "                self._text = int(value)\n",
    "            except ValueError:\n",
    "                raise TypeError(\"unproper value for text: {}\".format(value))\n",
    "    <your code here>\n",
    "\n",
    "\n",
    "def test_multiple_usages():\n",
    "    class TestPropertyCreatorA(metaclass=PropertyCreator):\n",
    "        def get_x(self):\n",
    "            return 0\n",
    "    class TestPropertyCreatorB(metaclass=PropertyCreator):\n",
    "        def get_x(self):\n",
    "            return 1\n",
    "    class TestPropertyCreatorC(metaclass=PropertyCreator):\n",
    "        def set_x(self, value):\n",
    "            self.value = value + 1\n",
    "        def get_x(self):\n",
    "            return self.value\n",
    "    <your code here>"
   ]
  },
  {
   "cell_type": "markdown",
   "metadata": {},
   "source": [
    "## 2. InstanceCountExeptioner (0.2 балла)\n",
    "Напишите метакласс InstanceCountExeptioner, который будет следить за количеством экземпляров класса, использующих его. Количество задается через поле класса \\_\\_max_instane\\_count\\_\\_. Т. е. число экземпляров каждого класса регулируется отдельно. Если в классе не указано поле \\_\\_max_instane\\_count\\_\\_, то используйте заранее заданное число в метаклассе (любое). Пример:\n",
    "\n",
    "<code>\n",
    "class TestInstanceCountExeptionerA(metaclass=InstanceCountExeptioner):\n",
    "    \\_\\_max_instane\\_count\\_\\_ = 2\n",
    "    def \\__init\\__(self, a):\n",
    "        self.a = a\n",
    "\n",
    "\n",
    "class TestInstanceCountExeptionerB(metaclass=InstanceCountExeptioner):\n",
    "    \\_\\_max_instane\\_count\\_\\_ = 1\n",
    "    def \\__init\\__(self, a):\n",
    "        self.a = a\n",
    "\n",
    "a_one = TestInstanceCountExeptionerA('one')\n",
    "a_two = TestInstanceCountExeptionerA('two')\n",
    "b_one = TestInstanceCountExeptionerB('one')\n",
    "\\# пока всё шло хорошо\n",
    "\n",
    "\\# а вот\n",
    "a_three = TestInstanceCountExeptionerA('three')\n",
    "\\# выкенет исключение InstanceCountExeption (ваше собственное исключение)\n",
    "</code>"
   ]
  },
  {
   "cell_type": "code",
   "execution_count": 9,
   "metadata": {},
   "outputs": [
    {
     "name": "stdout",
     "output_type": "stream",
     "text": [
      "division by zero\n"
     ]
    }
   ],
   "source": [
    "try:\n",
    "    1/0\n",
    "except Exception as e:\n",
    "    print(e)"
   ]
  },
  {
   "cell_type": "markdown",
   "metadata": {},
   "source": [
    "#### Решение"
   ]
  },
  {
   "cell_type": "code",
   "execution_count": 10,
   "metadata": {
    "collapsed": true
   },
   "outputs": [],
   "source": [
    "# Опишите исключение InstanceCountExeption\n",
    "class InstanceCountExeption(Exception):\n",
    "    def __str__(self):\n",
    "        return \"Too many insatancies\""
   ]
  },
  {
   "cell_type": "code",
   "execution_count": 11,
   "metadata": {
    "collapsed": true
   },
   "outputs": [],
   "source": [
    "# Опишите мета класс InstanceCountExeptioner\n",
    "class InstanceCountExeptioner(type):\n",
    "\n",
    "    __current_instance_counter__ = 0\n",
    "        \n",
    "    def __call__(cls, *args, **kwargs):\n",
    "        cls.__current_instance_counter__ += 1\n",
    "        \n",
    "        if (cls.__current_instance_counter__ <= cls.__max_instance_count__):\n",
    "            return super().__call__(*args, **kwargs)\n",
    "        else:\n",
    "            raise InstanceCountExeption"
   ]
  },
  {
   "cell_type": "markdown",
   "metadata": {},
   "source": [
    "#### Протестируйте свое решение"
   ]
  },
  {
   "cell_type": "code",
   "execution_count": 12,
   "metadata": {
    "collapsed": true
   },
   "outputs": [],
   "source": [
    "class TestInstanceCountExeptionerA(metaclass=InstanceCountExeptioner):\n",
    "    __max_instance_count__ = 2\n",
    "\n",
    "    def __init__(self, counter):\n",
    "        self.a = 1\n",
    "\n",
    "    def get(self):\n",
    "        return self.a"
   ]
  },
  {
   "cell_type": "code",
   "execution_count": 13,
   "metadata": {
    "collapsed": true
   },
   "outputs": [],
   "source": [
    "class TestInstanceCountExeptionerB(metaclass=InstanceCountExeptioner):\n",
    "    __max_instance_count__ = 3\n",
    "\n",
    "    def __init__(self, counter):\n",
    "        self.b = 2\n",
    "\n",
    "    def get(self):\n",
    "        return self.b"
   ]
  },
  {
   "cell_type": "code",
   "execution_count": 14,
   "metadata": {
    "collapsed": true
   },
   "outputs": [],
   "source": [
    "a_one = TestInstanceCountExeptionerA('one')\n",
    "a_two = TestInstanceCountExeptionerA('two')\n",
    "b_one = TestInstanceCountExeptionerB('one')\n",
    "# пока всё шло хорошо"
   ]
  },
  {
   "cell_type": "code",
   "execution_count": 15,
   "metadata": {},
   "outputs": [
    {
     "ename": "InstanceCountExeption",
     "evalue": "Too many insatancies",
     "output_type": "error",
     "traceback": [
      "\u001b[1;31m---------------------------------------------------------------------------\u001b[0m",
      "\u001b[1;31mInstanceCountExeption\u001b[0m                     Traceback (most recent call last)",
      "\u001b[1;32m<ipython-input-15-2e9f96a3c1c2>\u001b[0m in \u001b[0;36m<module>\u001b[1;34m()\u001b[0m\n\u001b[0;32m      1\u001b[0m \u001b[1;31m# а вот\u001b[0m\u001b[1;33m\u001b[0m\u001b[1;33m\u001b[0m\u001b[0m\n\u001b[1;32m----> 2\u001b[1;33m \u001b[0ma_three\u001b[0m \u001b[1;33m=\u001b[0m \u001b[0mTestInstanceCountExeptionerA\u001b[0m\u001b[1;33m(\u001b[0m\u001b[1;34m'three'\u001b[0m\u001b[1;33m)\u001b[0m\u001b[1;33m\u001b[0m\u001b[0m\n\u001b[0m\u001b[0;32m      3\u001b[0m \u001b[1;31m# выкенет исключение InstanceCountExeption (ваше собственное исключение)\u001b[0m\u001b[1;33m\u001b[0m\u001b[1;33m\u001b[0m\u001b[0m\n",
      "\u001b[1;32m<ipython-input-11-023e153a1a73>\u001b[0m in \u001b[0;36m__call__\u001b[1;34m(cls, *args, **kwargs)\u001b[0m\n\u001b[0;32m     10\u001b[0m             \u001b[1;32mreturn\u001b[0m \u001b[0msuper\u001b[0m\u001b[1;33m(\u001b[0m\u001b[1;33m)\u001b[0m\u001b[1;33m.\u001b[0m\u001b[0m__call__\u001b[0m\u001b[1;33m(\u001b[0m\u001b[1;33m*\u001b[0m\u001b[0margs\u001b[0m\u001b[1;33m,\u001b[0m \u001b[1;33m**\u001b[0m\u001b[0mkwargs\u001b[0m\u001b[1;33m)\u001b[0m\u001b[1;33m\u001b[0m\u001b[0m\n\u001b[0;32m     11\u001b[0m         \u001b[1;32melse\u001b[0m\u001b[1;33m:\u001b[0m\u001b[1;33m\u001b[0m\u001b[0m\n\u001b[1;32m---> 12\u001b[1;33m             \u001b[1;32mraise\u001b[0m \u001b[0mInstanceCountExeption\u001b[0m\u001b[1;33m\u001b[0m\u001b[0m\n\u001b[0m",
      "\u001b[1;31mInstanceCountExeption\u001b[0m: Too many insatancies"
     ]
    }
   ],
   "source": [
    "# а вот\n",
    "a_three = TestInstanceCountExeptionerA('three')\n",
    "# выкенет исключение InstanceCountExeption (ваше собственное исключение)"
   ]
  },
  {
   "cell_type": "code",
   "execution_count": 16,
   "metadata": {},
   "outputs": [
    {
     "ename": "IndentationError",
     "evalue": "expected an indented block (<ipython-input-16-250157564a31>, line 3)",
     "output_type": "error",
     "traceback": [
      "\u001b[1;36m  File \u001b[1;32m\"<ipython-input-16-250157564a31>\"\u001b[1;36m, line \u001b[1;32m3\u001b[0m\n\u001b[1;33m    <your code here>\u001b[0m\n\u001b[1;37m    ^\u001b[0m\n\u001b[1;31mIndentationError\u001b[0m\u001b[1;31m:\u001b[0m expected an indented block\n"
     ]
    }
   ],
   "source": [
    "    \n",
    "def test_simple(self):\n",
    "    <your code here>\n",
    "    \n",
    "\n",
    "def test_create(self):\n",
    "    <your code here>\n",
    "\n",
    "def test_fail_create_a(self):\n",
    "    <your code here>\n",
    "    try:\n",
    "        <your code here>\n",
    "    except InstanceCountExeption as e:\n",
    "        <your code here>\n",
    "    \n",
    "\n",
    "def test_fail_create_b(self):\n",
    "    <your code here>\n",
    "    try:\n",
    "        <your code here>\n",
    "    except InstanceCountExeption as e:\n",
    "        <your code here>"
   ]
  },
  {
   "cell_type": "markdown",
   "metadata": {},
   "source": [
    "## 3. JSONClassCreator (0.6 баллов)\n",
    "Напишите метакласс, который будет по json представлению строить новый класс и обратно. Класс должен уметь следующее:\n",
    "* Поддерживать сохранение и получение магических функций класса.\n",
    "* Поддерживать сохранение и получение обычных функций.\n",
    "* Поддерживать сохранение полей со стандартными типами.\n",
    "* Уберите из сохранения следующие поля и методы: ['\\_\\_dict\\_\\_', '\\_\\_weakref\\_\\_', '\\_\\_module\\_\\_', '\\_\\_init\\_\\_']\n",
    "* У создаваемого класса должна быть функция to_json_str\n",
    "\n",
    "Формат json строки должен быть следующий:\n",
    "\n",
    "<code>\n",
    "{\n",
    "    \"name\": название класса,\n",
    "    \"bases\": базовые классы,\n",
    "    \"methods\": методы класса,\n",
    "    \"attrs\": поля класса\n",
    "}\n",
    "</code>\n",
    "\n",
    "Рекомендации:\n",
    "* Для получения кода функций используйте модуль <a href=\"http://python-lab.ru/documentation/27/stdlib/inspect.html\">inspect</a>.\n",
    "* Для того, чтобы запустить код функций, можно использовать exec.\n",
    "* Можно не исправлять ошибку типа OSError: could not get source code - возникает для функций, полученных с помощью exec."
   ]
  },
  {
   "cell_type": "markdown",
   "metadata": {},
   "source": [
    "#### Решение"
   ]
  },
  {
   "cell_type": "code",
   "execution_count": 96,
   "metadata": {},
   "outputs": [],
   "source": [
    "import inspect\n",
    "\n",
    "class JSONClassCreator(type):\n",
    "    def __new__(mcls, json_str):\n",
    "        pass\n",
    "\n",
    "    def to_json_str(cls):\n",
    "        exclude = ['__dict__', '__weakref__', '__module__', '__init__']\n",
    "#         print(cls)\n",
    "#         <your code here>\n",
    "\n",
    "#         return json.dumps({\n",
    "#             \"name\": <your code here>,\n",
    "#             \"bases\": inspect.getmro(cls)[1:],\n",
    "#             \"methods\": <your code here>,\n",
    "#             \"attrs\": <your code here>\n",
    "#         })\n",
    "\n",
    "        # получение bases\n",
    "        print(inspect.getmro(cls)[1:-1])\n",
    "        # получение магических функций\n",
    "        magic_func = inspect.getmembers(cls, predicate=inspect.isfunction)\n",
    "        # получение атирбутов\n",
    "        print(list(filter(lambda x: not(x[0].endswith('__')) and not(inspect.isfunction(x[1])), \n",
    "                          inspect.getmembers(cls, predicate=not(inspect.isroutine)))))\n",
    "        \n",
    "\n"
   ]
  },
  {
   "cell_type": "markdown",
   "metadata": {},
   "source": [
    "#### Проверьте свое решение на примере"
   ]
  },
  {
   "cell_type": "code",
   "execution_count": 97,
   "metadata": {
    "collapsed": true
   },
   "outputs": [],
   "source": [
    "class ParentTest1(object):\n",
    "    pass\n",
    "\n",
    "class ParentTest2(object):\n",
    "    pass\n",
    "\n",
    "class Test(ParentTest1, ParentTest2):\n",
    "    \"\"\"Тестовый класс\"\"\"\n",
    "\n",
    "    val = [1, 2, 3]\n",
    "\n",
    "    def f(self, x):\n",
    "        print(x)\n",
    "    \n",
    "    def __repr__(self):\n",
    "        return \"Test(val={})\".format(self.val)\n",
    "\n",
    "    def __str__(self):\n",
    "        return \"Test(val={})\".format(self.val)\n",
    "\n",
    "    pass"
   ]
  },
  {
   "cell_type": "code",
   "execution_count": 98,
   "metadata": {},
   "outputs": [
    {
     "name": "stdout",
     "output_type": "stream",
     "text": [
      "(<class '__main__.ParentTest1'>, <class '__main__.ParentTest2'>)\n",
      "[('__repr__', <function Test.__repr__ at 0x00000265DBAFD488>), ('__str__', <function Test.__str__ at 0x00000265DBAFD620>), ('f', <function Test.f at 0x00000265DBAFD1E0>)]\n",
      "[('val', [1, 2, 3])]\n"
     ]
    }
   ],
   "source": [
    "JSONClassCreator.to_json_str(Test)"
   ]
  },
  {
   "cell_type": "code",
   "execution_count": null,
   "metadata": {
    "collapsed": true
   },
   "outputs": [],
   "source": []
  },
  {
   "cell_type": "code",
   "execution_count": null,
   "metadata": {
    "collapsed": true
   },
   "outputs": [],
   "source": []
  }
 ],
 "metadata": {
  "kernelspec": {
   "display_name": "Python 3",
   "language": "python",
   "name": "python3"
  },
  "language_info": {
   "codemirror_mode": {
    "name": "ipython",
    "version": 3
   },
   "file_extension": ".py",
   "mimetype": "text/x-python",
   "name": "python",
   "nbconvert_exporter": "python",
   "pygments_lexer": "ipython3",
   "version": "3.6.1"
  }
 },
 "nbformat": 4,
 "nbformat_minor": 2
}
