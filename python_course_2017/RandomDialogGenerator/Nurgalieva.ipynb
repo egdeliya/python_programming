{
 "cells": [
  {
   "cell_type": "markdown",
   "metadata": {},
   "source": [
    "# Задание 6"
   ]
  },
  {
   "cell_type": "markdown",
   "metadata": {},
   "source": [
    "### Пример входных данных"
   ]
  },
  {
   "cell_type": "code",
   "execution_count": 1,
   "metadata": {
    "collapsed": true
   },
   "outputs": [],
   "source": [
    "import pandas as pd\n",
    "clinton = pd.read_csv(\"clinton.csv\", encoding=\"utf-8\")\n",
    "trump = pd.read_csv(\"trump.csv\", encoding=\"utf-8\")"
   ]
  },
  {
   "cell_type": "code",
   "execution_count": 2,
   "metadata": {},
   "outputs": [
    {
     "data": {
      "text/plain": [
       "'Join me for a 3pm rally - tomorrow at the Mid-America Center in Council Bluffs, Iowa! Tickets:… https://t.co/dfzsbICiXc'"
      ]
     },
     "execution_count": 2,
     "metadata": {},
     "output_type": "execute_result"
    }
   ],
   "source": [
    "trump['text'][0]"
   ]
  },
  {
   "cell_type": "code",
   "execution_count": 3,
   "metadata": {},
   "outputs": [
    {
     "data": {
      "text/plain": [
       "'Join me for a 3pm rally - tomorrow at the Mid-America Center in Council Bluffs, Iowa! Tickets:… https://t.co/dfzsbICiXc'"
      ]
     },
     "execution_count": 3,
     "metadata": {},
     "output_type": "execute_result"
    }
   ],
   "source": [
    "str(trump.loc[0][0])"
   ]
  },
  {
   "cell_type": "code",
   "execution_count": 4,
   "metadata": {
    "scrolled": true
   },
   "outputs": [
    {
     "data": {
      "text/html": [
       "<div>\n",
       "<style>\n",
       "    .dataframe thead tr:only-child th {\n",
       "        text-align: right;\n",
       "    }\n",
       "\n",
       "    .dataframe thead th {\n",
       "        text-align: left;\n",
       "    }\n",
       "\n",
       "    .dataframe tbody tr th {\n",
       "        vertical-align: top;\n",
       "    }\n",
       "</style>\n",
       "<table border=\"1\" class=\"dataframe\">\n",
       "  <thead>\n",
       "    <tr style=\"text-align: right;\">\n",
       "      <th></th>\n",
       "      <th>text</th>\n",
       "    </tr>\n",
       "  </thead>\n",
       "  <tbody>\n",
       "    <tr>\n",
       "      <th>0</th>\n",
       "      <td>The question in this election: Who can put the...</td>\n",
       "    </tr>\n",
       "    <tr>\n",
       "      <th>1</th>\n",
       "      <td>Last night, Donald Trump said not paying taxes...</td>\n",
       "    </tr>\n",
       "    <tr>\n",
       "      <th>2</th>\n",
       "      <td>Couldn't be more proud of @HillaryClinton. Her...</td>\n",
       "    </tr>\n",
       "    <tr>\n",
       "      <th>3</th>\n",
       "      <td>If we stand together, there's nothing we can't...</td>\n",
       "    </tr>\n",
       "    <tr>\n",
       "      <th>4</th>\n",
       "      <td>Both candidates were asked about how they'd co...</td>\n",
       "    </tr>\n",
       "  </tbody>\n",
       "</table>\n",
       "</div>"
      ],
      "text/plain": [
       "                                                text\n",
       "0  The question in this election: Who can put the...\n",
       "1  Last night, Donald Trump said not paying taxes...\n",
       "2  Couldn't be more proud of @HillaryClinton. Her...\n",
       "3  If we stand together, there's nothing we can't...\n",
       "4  Both candidates were asked about how they'd co..."
      ]
     },
     "execution_count": 4,
     "metadata": {},
     "output_type": "execute_result"
    }
   ],
   "source": [
    "clinton.head()"
   ]
  },
  {
   "cell_type": "code",
   "execution_count": null,
   "metadata": {
    "collapsed": true
   },
   "outputs": [],
   "source": []
  },
  {
   "cell_type": "markdown",
   "metadata": {},
   "source": [
    "## Описание задания\n",
    "\n",
    "Предлагается написать генератор случайных диалогов на основе твитов Трампа (файл <i>\"trump.csv\"</i>) и Хеллори Клинтон (файл <i>\"clinton.csv\"</i>).\n",
    "\n",
    "* Каждый диалог состоит из нескольких \"ходов\" (<i>turn</i>).\n",
    "* Каждый такой <i>turn</i> представляет собой цепочку нескольких реплик разных агентов (участников диалога, их может быть больше двух).\n",
    "* Цепочка реплик представляет собой набор реплик агентов. Первое сообщение в цепочке - <i>\"исходное сообщение\"</i> на которое отвечают оставшиеся агенты (по одному сообщению за turn).\n",
    "\n",
    "Программа должна представлять отдельный пакет следующей структуры:\n",
    "<ul>\n",
    "<li>run\\_generator.py</li>\n",
    "<li>dialogsgenerator:\n",
    "<ul>\n",
    "<li>agent.py</li>\n",
    "<li>randomdialog.py</li>\n",
    "<li>\\_\\_init__.py</li>\n",
    "</ul></li>\n",
    "</ul>\n",
    "\n",
    "<b>URGENT:</b> в работе ЗАПРЕЩАЕТСЯ использовать циклы:\n",
    "<ul>\n",
    "<li>Использование 1 for (или while): max 1 балл</li>\n",
    "<li>Использование до 4 for (или while): max 0.8 баллов</li>\n",
    "<li>Использование 4+ for (или while): max 0.5 баллов</li>\n",
    "</ul>"
   ]
  },
  {
   "cell_type": "markdown",
   "metadata": {},
   "source": [
    "### Файл agent.py\n",
    "\n",
    "Описание класса агента (один класс для всех агентов, в нашем случае для Трампа и Клинтон)."
   ]
  },
  {
   "cell_type": "code",
   "execution_count": 5,
   "metadata": {
    "collapsed": true
   },
   "outputs": [],
   "source": [
    "from random import randint"
   ]
  },
  {
   "cell_type": "code",
   "execution_count": 511,
   "metadata": {
    "collapsed": true
   },
   "outputs": [],
   "source": [
    "from collections import Generator\n",
    "\n",
    "\n",
    "class Agent(Generator):\n",
    "    \n",
    "    def __init__(self, kb, name):\n",
    "        # Инициализация\n",
    "        self.tweets_pool = kb['text']\n",
    "        self.num_tweets = len(kb)\n",
    "#         print(\"i'm in init\")\n",
    "        self.name = name\n",
    "\n",
    "    def send(self, msg):\n",
    "        # Будем возвращать случайное сообщение из self.tweets_pool\n",
    "        random_idx = randint(0, self.num_tweets - 1)\n",
    "#         print(\"agent name is \", self.name)\n",
    "        return \"{} : {}\".format(self.name, self.tweets_pool[random_idx])\n",
    "\n",
    "    def throw(self, typ=None, val=None, tb=None):\n",
    "        # Оставляем как есть\n",
    "        super().throw(typ, val, tb)\n",
    "\n",
    "    def __str__(self):\n",
    "        # Опишем строковое представление класса\n",
    "        return self.name\n",
    "\n",
    "    def __repr__(self):\n",
    "        return str(self)"
   ]
  },
  {
   "cell_type": "markdown",
   "metadata": {},
   "source": [
    "#### Пример использования:"
   ]
  },
  {
   "cell_type": "code",
   "execution_count": 512,
   "metadata": {},
   "outputs": [
    {
     "data": {
      "text/plain": [
       "'clinton : Donald Trump has built his campaign on prejudice and paranoia. He’s taking hate groups mainstream.'"
      ]
     },
     "execution_count": 512,
     "metadata": {},
     "output_type": "execute_result"
    }
   ],
   "source": [
    "# from dialogsgenerator import Agent\n",
    "clint, trum = Agent(clinton, \"clinton\"), Agent(trump, \"trump\")\n",
    "clint.send(\"hello\")\n",
    "# type(clint)\n",
    "clint.send(\"bla bla\")"
   ]
  },
  {
   "cell_type": "code",
   "execution_count": 513,
   "metadata": {
    "collapsed": true
   },
   "outputs": [],
   "source": [
    "# print(next(clint))\n",
    "# print(next(clint))\n",
    "# print(next(clint))\n",
    "# print(next(clint))"
   ]
  },
  {
   "cell_type": "markdown",
   "metadata": {},
   "source": [
    "### Файл randomdialog.py\n",
    "\n",
    "Описание класса, генерирующего случайный диалог."
   ]
  },
  {
   "cell_type": "code",
   "execution_count": 429,
   "metadata": {},
   "outputs": [],
   "source": [
    "import sys\n",
    "from itertools import chain, repeat, cycle, islice, takewhile\n",
    "from collections import Counter"
   ]
  },
  {
   "cell_type": "code",
   "execution_count": null,
   "metadata": {
    "collapsed": true
   },
   "outputs": [],
   "source": []
  },
  {
   "cell_type": "code",
   "execution_count": 442,
   "metadata": {},
   "outputs": [],
   "source": [
    "class RandomDialog(object):\n",
    "    \n",
    "    def __init__(self, agents, max_len=5):\n",
    "        # Инициализация\n",
    "        self.agents = agents\n",
    "        self.agents_num = len(agents)\n",
    "        self.max_len = max_len\n",
    "    \n",
    "    def generate(self):\n",
    "        \"\"\"\n",
    "        Генерирует случайный диалог состоящий из 1-max_len цепочек.\n",
    "        При генерации вызывает функцию turn.\n",
    "        Возвращаемый объект является генератором.\n",
    "        \"\"\"\n",
    "        \n",
    "        \"\"\"\n",
    "        ______________________________________________________________________________________\n",
    "            Мы хотим вернуть (max_len - 1) цепочек ходов, для этого нам нужно (max_len - 1) раз \n",
    "            вызвать turn(), но чтобы каждый раз метод turn() возвращал разные диалоги.\n",
    "\n",
    "             * self_n_times - пары (i, self), где i = 0..max_len-1\n",
    "             * invoke_turn - вызывает функцию turn у своего второго аргумента (второй аргумент - self)\n",
    "\n",
    "            Возьмём map от self_n_times, к котором применён invoke_turn, получим то, что нужно            \n",
    "        \"\"\"\n",
    "        \n",
    "        # пары - (i, self), где i = 1..max_len-1\n",
    "        self_n_times = zip(range(self.max_len - 1), repeat(self))\n",
    "        \n",
    "        # вызывает turn() у второго аргумента\n",
    "        invoke_turn = lambda args: list(args[1].turn())\n",
    "        \n",
    "        # для каждой пары (i, self) вызываем invoke_turn от self\n",
    "        yield from map(invoke_turn, self_n_times)\n",
    "\n",
    "    def turn(self):\n",
    "        \"\"\"\n",
    "        Генерирует одну случайную цепочку следующим образом: выбирается случайный агент.\n",
    "        Он \"говорит\" случайное сообщение (msg) из своей Agent.kb (используйте next или send(None)).\n",
    "        (правила того, как выбирать никак не регулируются, вы можете выбирать случайный твит из Agent.kb никак не учитывая\n",
    "        переданное msg).\n",
    "        Это сообщение передается с помощью send (помним, что агент - это объект-генератор).\n",
    "        Далее получаем ответ от всех агентов и возвращаем (генерируем) их (включая исходное сообщение).\n",
    "        Возвращаемый объект является генератором.\n",
    "        \"\"\"\n",
    "        \n",
    "        # получаем сообщение от случайного агента\n",
    "        rand_agent_ind = randint(0, self.agents_num - 1)\n",
    "        msg = next(self.agents[rand_agent_ind])\n",
    "        \n",
    "        # отправляем сообщение всем агентам\n",
    "        _ = list(map(lambda x: x.send(msg), self.agents))\n",
    "\n",
    "        # возвращаем ответы всех агентов вместе с исходным сообщением\n",
    "        it = iter(self.agents)\n",
    "        yield from chain([msg], list(map(next, it)))\n",
    "\n",
    "    def eval(self, dialog=None):\n",
    "        \"\"\"\n",
    "        Превращает генератор случайного далога (который возвращается в self.generate())\n",
    "        в список списков (пример использования далее).\n",
    "        Возвращаемый объект является списком.\n",
    "        \"\"\"\n",
    "        if dialog is None:\n",
    "            dialog = self.generate()\n",
    "                \n",
    "        return list(dialog)      \n",
    "\n",
    "    def write(self, dialog=None, target=sys.stdout):\n",
    "        \"\"\"\n",
    "        Записывает результат self.eval() в соответствующий поток.\n",
    "        \"\"\"\n",
    "        \n",
    "        if dialog is None:\n",
    "            dialog = self.eval()\n",
    "        \n",
    "        sep_turns = lambda turn: \"\\t\" + turn\n",
    "        \n",
    "        turn_desc = lambda turn_obj: list(chain([\"turn {}:\".format(turn_obj[0])], \n",
    "                                           map(sep_turns, turn_obj[1])))\n",
    "        \n",
    "        print_dialogs = lambda turn: list(map(lambda x: print(x, file=target), turn_desc(turn)))\n",
    "        \n",
    "        list(map(print_dialogs, enumerate(dialog)))\n",
    "        \n",
    "    pass\n"
   ]
  },
  {
   "cell_type": "code",
   "execution_count": 443,
   "metadata": {
    "scrolled": true
   },
   "outputs": [],
   "source": [
    "test_random_diaog = RandomDialog([Agent(clinton, \"clinton\"), Agent(trump, \"trump\")], max_len=3)"
   ]
  },
  {
   "cell_type": "code",
   "execution_count": 444,
   "metadata": {
    "scrolled": true
   },
   "outputs": [
    {
     "data": {
      "text/plain": [
       "[\"clinton ---> It's a simple idea: Those who have benefited the most from our economy should pay their fair share in taxes. https://t.co/2nSFZtgYFJ\",\n",
       " 'clinton ---> \"I know how hard this job is. You need steadiness as well as strength and smarts... Donald Trump is not qualified.\" —Hillary on @CNN',\n",
       " 'trump ---> Wow, every poll said I won the debate last night. Great honor!']"
      ]
     },
     "execution_count": 444,
     "metadata": {},
     "output_type": "execute_result"
    }
   ],
   "source": [
    "gen = test_random_diaog.turn()\n",
    "list(gen)\n",
    "# list(next(gen))"
   ]
  },
  {
   "cell_type": "code",
   "execution_count": 445,
   "metadata": {
    "scrolled": false
   },
   "outputs": [
    {
     "data": {
      "text/plain": [
       "[[\"clinton ---> We know all too well who Donald Trump is. Let's make sure he never becomes president: https://t.co/tTgeqxNqYm https://t.co/3lJjQEQ0BR\",\n",
       "  \"clinton ---> .@realDonaldTrump says he’ll be “the best for women.”\\n\\nDon't think so. https://t.co/zsXgf8wQF2\",\n",
       "  'trump ---> In Iran deal we get 4 prisoners. They get $150 billion, 7 most wanted and many off watch list. This will create great incentive for others!'],\n",
       " ['clinton ---> \"It\\'s pretty obvious he doesn\\'t know a lot about the issues.\" —@SenateMajLdr on Trump\\n\\nWe couldn\\'t agree more, Mitch https://t.co/YO81aW6XZB',\n",
       "  'clinton ---> Last night, Donald Trump said not paying taxes was \"smart.\" You know what I call it? Unpatriotic. https://t.co/t0xmBfj7zF',\n",
       "  'trump ---> Low energy candidate @JebBush has wasted $80 million on his failed presidential campaign. Millions spent on me. He should go home and relax!']]"
      ]
     },
     "execution_count": 445,
     "metadata": {},
     "output_type": "execute_result"
    }
   ],
   "source": [
    "gen_dialog = test_random_diaog.generate()\n",
    "list(test_random_diaog.generate())"
   ]
  },
  {
   "cell_type": "code",
   "execution_count": 446,
   "metadata": {
    "scrolled": true
   },
   "outputs": [],
   "source": [
    "evaluate = test_random_diaog.eval(gen_dialog)\n",
    "# test_random_diaog.eval(gen_dialog)"
   ]
  },
  {
   "cell_type": "code",
   "execution_count": 447,
   "metadata": {
    "scrolled": false
   },
   "outputs": [
    {
     "name": "stdout",
     "output_type": "stream",
     "text": [
      "----------- turn 0: -------------\n",
      "\tclinton ---> When we come together, there's no problem we can't solve and no divide we can't heal. https://t.co/2eutCA4R6C\n",
      "\tclinton ---> We’re going to invest in union training programs and apprenticeship programs so you can earn while you learn: https://t.co/sbbiIqIz0c\n",
      "\ttrump ---> Got the endorsement of Brian France and @NASCAR yesterday in Georgia. Also, many of the sports great drivers. Thank you Nascar and Georgia!\n",
      "----------- turn 1: -------------\n",
      "\ttrump ---> I heard that the underachieving John King of @CNN on Inside Politics was one hour of lies. Happily, few people are watching - dead network!\n",
      "\tclinton ---> We are living off of the infrastructure built by our parents and grandparents. It’s overdue for upgrades: https://t.co/KjhFN0QS2c\n",
      "\ttrump ---> Thank you- on my way!  https://t.co/uTCXPbWpve\n"
     ]
    }
   ],
   "source": [
    "test_random_diaog.write(evaluate)"
   ]
  },
  {
   "cell_type": "markdown",
   "metadata": {},
   "source": [
    "#### Пример использования:"
   ]
  },
  {
   "cell_type": "code",
   "execution_count": 448,
   "metadata": {
    "collapsed": true
   },
   "outputs": [],
   "source": [
    "# from dialogsgenerator import RandomDialog\n",
    "rd = RandomDialog([Agent(clinton, \"clinton\"), Agent(trump, \"trump\")], max_len=2)"
   ]
  },
  {
   "cell_type": "code",
   "execution_count": 855,
   "metadata": {},
   "outputs": [
    {
     "data": {
      "text/plain": [
       "<generator object RandomDialog.generate at 0x0000007DC85901A8>"
      ]
     },
     "execution_count": 855,
     "metadata": {},
     "output_type": "execute_result"
    }
   ],
   "source": [
    "generated = rd.generate()\n",
    "generated"
   ]
  },
  {
   "cell_type": "code",
   "execution_count": 856,
   "metadata": {},
   "outputs": [
    {
     "data": {
      "text/plain": [
       "[[\"clinton: Let's make it easier for young people to start businesses and fulfill their dreams. https://t.co/cJzNCnaahh https://t.co/vZHW9VZKDT\",\n",
       "  'trump: My list of potential U.S. Supreme Court Justices was very well recieved. During the next number of weeks I may be adding to the list!'],\n",
       " [\"trump: DON'T LET HILLARY CLINTON DO IT AGAIN!\\r #TrumpPence16\\r https://t.co/1mGkPNZPKF\",\n",
       "  'clinton: With the first local transmission of Zika in FL, it’s even more critical for Republicans to stop blocking action: https://t.co/KjmWMDOgDl']]"
      ]
     },
     "execution_count": 856,
     "metadata": {},
     "output_type": "execute_result"
    }
   ],
   "source": [
    "evaled = rd.eval(generated)\n",
    "evaled"
   ]
  },
  {
   "cell_type": "code",
   "execution_count": 857,
   "metadata": {},
   "outputs": [
    {
     "name": "stdout",
     "output_type": "stream",
     "text": [
      "\n",
      "turn 0:\n",
      "\tclinton: Let's make it easier for young people to start businesses and fulfill their dreams. https://t.co/cJzNCnaahh https://t.co/vZHW9VZKDT\n",
      "\ttrump: My list of potential U.S. Supreme Court Justices was very well recieved. During the next number of weeks I may be adding to the list!\n",
      "turn 1:\n",
      "\ttrump: DON'T LET HILLARY CLINTON DO IT AGAIN!\r",
      " #TrumpPence16\r",
      " https://t.co/1mGkPNZPKF\n",
      "\tclinton: With the first local transmission of Zika in FL, it’s even more critical for Republicans to stop blocking action: https://t.co/KjmWMDOgDl"
     ]
    }
   ],
   "source": [
    "rd.write(evaled)"
   ]
  },
  {
   "cell_type": "markdown",
   "metadata": {},
   "source": [
    "### Файл run_generator.py\n",
    "\n",
    "Содержит функции для генерации и записи нескольких диалогов. Файл должен быть написан так, чтобы его можно было запускать через командную строку:\n",
    "<img src=\"cmd.png\">\n",
    "Описание аргументов представлено на рисунке:\n",
    "<img src=\"cmd_help.png\">\n",
    "Для разбора аргументов ипользуйте <a href=\"https://docs.python.org/3/howto/argparse.html\">модуль argparse</a>. Все представленные на рисунке аргументы должны быть обработаны (кроме help, он обрабатывается автоматически модулем argparse)."
   ]
  },
  {
   "cell_type": "code",
   "execution_count": 501,
   "metadata": {
    "collapsed": true
   },
   "outputs": [],
   "source": [
    "from functools import reduce\n",
    "from colorama import Style"
   ]
  },
  {
   "cell_type": "code",
   "execution_count": 508,
   "metadata": {},
   "outputs": [
    {
     "name": "stdout",
     "output_type": "stream",
     "text": [
      "sdf\n"
     ]
    }
   ],
   "source": [
    "def generate(rd, count_dialogs=5):\n",
    "    \"\"\"\n",
    "    Генерирует count_dialogs диалогов с помощью rd.generate().\n",
    "    Возвращаемый объект является генератором.\n",
    "    \"\"\"\n",
    "    # пары - (i, rd), где i = 1..count_dialogs\n",
    "    rd_n_times = zip(range(count_dialogs), repeat(rd))\n",
    "\n",
    "    # вызывает generate() у второго аргумента\n",
    "    invoke_generate = lambda args: list(args[1].generate())\n",
    "\n",
    "    # у каждой пары (i, rd) вызываем invoke_generate от rd\n",
    "    yield from map(invoke_generate, rd_n_times)\n",
    "    \n",
    "\n",
    "def write(dialogs, target):\n",
    "    \"\"\"\n",
    "    Записывает сгенерированные диалоги dialogs (это объект-генератор) в поток target.\n",
    "    \"\"\"\n",
    "    sep_turns = lambda turn: \"\\t\" + turn\n",
    "        \n",
    "    turn_desc = lambda turn_obj: list(chain([\"turn {}:\".format(turn_obj[0])], map(sep_turns, turn_obj[1])))\n",
    "    \n",
    "    concat_turns = lambda turn_obj: reduce(lambda x, y: x + y, map(turn_desc, turn_obj))\n",
    "    \n",
    "    dialog_desc = lambda dialog_obj: list(chain([\"_________________Dialog {}_________________\".format(dialog_obj[0])], \n",
    "                                    concat_turns(enumerate(dialog_obj[1]))))\n",
    "                                           \n",
    "    print_dialogs = lambda dialog_obj: list(map(lambda x: print(x, file=target), dialog_desc(dialog_obj)))\n",
    "        \n",
    "    list(map(print_dialogs, enumerate(dialogs)))\n",
    "\n",
    "\n",
    "if __name__ == \"__main__\":\n",
    "    print(\"sdf\")\n"
   ]
  },
  {
   "cell_type": "code",
   "execution_count": 509,
   "metadata": {},
   "outputs": [],
   "source": [
    "dialogs = generate(test_random_diaog, 2)\n",
    "# list(dialogs)"
   ]
  },
  {
   "cell_type": "code",
   "execution_count": 510,
   "metadata": {},
   "outputs": [
    {
     "name": "stdout",
     "output_type": "stream",
     "text": [
      "_________________Dialog 0_________________\n",
      "turn 0:\n",
      "\ttrump ---> Russia took Crimea during the so-called Obama years. Who wouldn't know this and why does Obama get a free pass?\n",
      "\tclinton ---> Let's stand together to do all the good we can, in all the ways we can, for as long as we can.\n",
      "https://t.co/jHaoZKXURE\n",
      "\ttrump ---> I will be live tweeting @megynkelly Show in 10 minutes. Should be interesting. Will be on Fox Network! ENJOY!\n",
      "turn 1:\n",
      "\tclinton ---> Cheryl lost her husband in Iraq. Then Trump's company targeted her and scammed her out of $35,000. https://t.co/Wjz6zohMIT\n",
      "\tclinton ---> Happy National Dog Day! https://t.co/qmpQsNQxGL\n",
      "\ttrump ---> Thank you America! #Trump2016 https://t.co/KL7VZbM1jP\n",
      "_________________Dialog 1_________________\n",
      "turn 0:\n",
      "\ttrump ---> \"@vikkideiter: Something VERY close to my heart. I'm a NAVY VET! I love @realDonaldTrump's  VETERANS ADMINISTRATION REFORMS.\n",
      "\tclinton ---> Too many veterans and their families aren’t getting the mental health services they need. Our plan to fix that: https://t.co/sb8i2wu8wt\n",
      "\ttrump ---> Is President Obama going to finally mention the words radical Islamic terrorism? If he doesn't he should immediately resign in disgrace!\n",
      "turn 1:\n",
      "\tclinton ---> In @Newsweek: Trump Organization business would place national security at risk, even undermining the war on ISIS. https://t.co/A1Xw4IlxUX\n",
      "\tclinton ---> White Americans need to do a better job of listening when African Americans talk about the barriers they face.\n",
      "https://t.co/rmzeEG5HoC\n",
      "\ttrump ---> Crooked Hillary Clinton is totally unfit to be our president-really bad judgement and a temperament, according to new book, which is a mess!\n"
     ]
    }
   ],
   "source": [
    "write(dialogs, sys.stdout)"
   ]
  },
  {
   "cell_type": "markdown",
   "metadata": {},
   "source": [
    "#### Пример использования функций из файла:"
   ]
  },
  {
   "cell_type": "code",
   "execution_count": 869,
   "metadata": {
    "collapsed": true
   },
   "outputs": [],
   "source": [
    "import sys\n",
    "from run_generator import generate, write"
   ]
  },
  {
   "cell_type": "code",
   "execution_count": 870,
   "metadata": {},
   "outputs": [
    {
     "data": {
      "text/plain": [
       "<map at 0x7dc8572a20>"
      ]
     },
     "execution_count": 870,
     "metadata": {},
     "output_type": "execute_result"
    }
   ],
   "source": [
    "dialogs = generate(rd, 2)\n",
    "dialogs"
   ]
  },
  {
   "cell_type": "code",
   "execution_count": 871,
   "metadata": {},
   "outputs": [
    {
     "name": "stdout",
     "output_type": "stream",
     "text": [
      "________________________________________Dialog 0________________________________________\n",
      "turn 0:\n",
      "\ttrump: Crooked Hillary wants to take your 2nd Amendment rights away. Will guns be taken from her heavily armed Secret Service detail? Maybe not!\n",
      "\tclinton: \"Bill, that conversation we started in the law library 45 years ago, it is still going strong.” —Hillary\n",
      "turn 1:\n",
      "\tclinton: Our teachers deserve more than just a pat on the back. They deserve a raise. #TeacherAppreciationDay https://t.co/0sgmUFg6mX\n",
      "\ttrump: I visited our Trump Tower campaign headquarters last night, after returning from Ohio and Arizona, and it was packed with great pros - WIN!\n",
      "________________________________________Dialog 1________________________________________\n",
      "turn 0:\n",
      "\tclinton: \"He won me over with that Mexican rapist speech.\" —Ann Coulter on Donald Trump https://t.co/GTNOhKYMA2\n",
      "\ttrump: Thank you Pittsburgh, Pennsylvania!\r",
      " #MakeAmericaGreatAgain #Trump2016 https://t.co/7WHS3vbXSw\n",
      "turn 1:\n",
      "\ttrump: .@FreeJesseJames- Just read your complete statement. You are an amazing guy &amp; I really appreciate your words &amp; support. I will see you soon!\n",
      "\tclinton: We can't defeat ISIS with bigotry and bluster. https://t.co/qyQ2AR9AkH\n"
     ]
    }
   ],
   "source": [
    "write(dialogs, sys.stdout)"
   ]
  }
 ],
 "metadata": {
  "kernelspec": {
   "display_name": "Python 3",
   "language": "python",
   "name": "python3"
  },
  "language_info": {
   "codemirror_mode": {
    "name": "ipython",
    "version": 3
   },
   "file_extension": ".py",
   "mimetype": "text/x-python",
   "name": "python",
   "nbconvert_exporter": "python",
   "pygments_lexer": "ipython3",
   "version": "3.6.1"
  }
 },
 "nbformat": 4,
 "nbformat_minor": 2
}
