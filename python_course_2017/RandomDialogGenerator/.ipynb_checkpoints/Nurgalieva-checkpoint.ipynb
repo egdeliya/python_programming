{
 "cells": [
  {
   "cell_type": "markdown",
   "metadata": {},
   "source": [
    "# Задание 6"
   ]
  },
  {
   "cell_type": "markdown",
   "metadata": {},
   "source": [
    "### Пример входных данных"
   ]
  },
  {
   "cell_type": "code",
   "execution_count": 1,
   "metadata": {
    "collapsed": true
   },
   "outputs": [],
   "source": [
    "import pandas as pd\n",
    "clinton = pd.read_csv(\"clinton.csv\", encoding=\"utf-8\")\n",
    "trump = pd.read_csv(\"trump.csv\", encoding=\"utf-8\")"
   ]
  },
  {
   "cell_type": "code",
   "execution_count": 2,
   "metadata": {
    "scrolled": false
   },
   "outputs": [
    {
     "data": {
      "text/html": [
       "<div>\n",
       "<style>\n",
       "    .dataframe thead tr:only-child th {\n",
       "        text-align: right;\n",
       "    }\n",
       "\n",
       "    .dataframe thead th {\n",
       "        text-align: left;\n",
       "    }\n",
       "\n",
       "    .dataframe tbody tr th {\n",
       "        vertical-align: top;\n",
       "    }\n",
       "</style>\n",
       "<table border=\"1\" class=\"dataframe\">\n",
       "  <thead>\n",
       "    <tr style=\"text-align: right;\">\n",
       "      <th></th>\n",
       "      <th>text</th>\n",
       "    </tr>\n",
       "  </thead>\n",
       "  <tbody>\n",
       "    <tr>\n",
       "      <th>0</th>\n",
       "      <td>The question in this election: Who can put the...</td>\n",
       "    </tr>\n",
       "    <tr>\n",
       "      <th>1</th>\n",
       "      <td>Last night, Donald Trump said not paying taxes...</td>\n",
       "    </tr>\n",
       "    <tr>\n",
       "      <th>2</th>\n",
       "      <td>Couldn't be more proud of @HillaryClinton. Her...</td>\n",
       "    </tr>\n",
       "    <tr>\n",
       "      <th>3</th>\n",
       "      <td>If we stand together, there's nothing we can't...</td>\n",
       "    </tr>\n",
       "    <tr>\n",
       "      <th>4</th>\n",
       "      <td>Both candidates were asked about how they'd co...</td>\n",
       "    </tr>\n",
       "  </tbody>\n",
       "</table>\n",
       "</div>"
      ],
      "text/plain": [
       "                                                text\n",
       "0  The question in this election: Who can put the...\n",
       "1  Last night, Donald Trump said not paying taxes...\n",
       "2  Couldn't be more proud of @HillaryClinton. Her...\n",
       "3  If we stand together, there's nothing we can't...\n",
       "4  Both candidates were asked about how they'd co..."
      ]
     },
     "execution_count": 2,
     "metadata": {},
     "output_type": "execute_result"
    }
   ],
   "source": [
    "clinton.head()"
   ]
  },
  {
   "cell_type": "markdown",
   "metadata": {},
   "source": [
    "## Описание задания\n",
    "\n",
    "Предлагается написать генератор случайных диалогов на основе твитов Трампа (файл <i>\"trump.csv\"</i>) и Хеллори Клинтон (файл <i>\"clinton.csv\"</i>).\n",
    "\n",
    "* Каждый диалог состоит из нескольких \"ходов\" (<i>turn</i>).\n",
    "* Каждый такой <i>turn</i> представляет собой цепочку нескольких реплик разных агентов (участников диалога, их может быть больше двух).\n",
    "* Цепочка реплик представляет собой набор реплик агентов. Первое сообщение в цепочке - <i>\"исходное сообщение\"</i> на которое отвечают оставшиеся агенты (по одному сообщению за turn).\n",
    "\n",
    "Программа должна представлять отдельный пакет следующей структуры:\n",
    "<ul>\n",
    "<li>run\\_generator.py</li>\n",
    "<li>dialogsgenerator:\n",
    "<ul>\n",
    "<li>agent.py</li>\n",
    "<li>randomdialog.py</li>\n",
    "<li>\\_\\_init__.py</li>\n",
    "</ul></li>\n",
    "</ul>\n",
    "\n",
    "<b>URGENT:</b> в работе ЗАПРЕЩАЕТСЯ использовать циклы:\n",
    "<ul>\n",
    "<li>Использование 1 for (или while): max 1 балл</li>\n",
    "<li>Использование до 4 for (или while): max 0.8 баллов</li>\n",
    "<li>Использование 4+ for (или while): max 0.5 баллов</li>\n",
    "</ul>"
   ]
  },
  {
   "cell_type": "markdown",
   "metadata": {},
   "source": [
    "### Файл agent.py\n",
    "\n",
    "Описание класса агента (один класс для всех агентов, в нашем случае для Трампа и Клинтон)."
   ]
  },
  {
   "cell_type": "code",
   "execution_count": 3,
   "metadata": {
    "collapsed": true
   },
   "outputs": [],
   "source": [
    "from random import randint"
   ]
  },
  {
   "cell_type": "code",
   "execution_count": 4,
   "metadata": {
    "collapsed": true
   },
   "outputs": [],
   "source": [
    "from collections import Generator\n",
    "\n",
    "class Agent(Generator):\n",
    "    \n",
    "    def __init__(self, kb, name):\n",
    "        # Инициализация\n",
    "        self.tweets_pool = kb['text']\n",
    "        self.num_tweets = len(kb)\n",
    "        self.name = name\n",
    "\n",
    "    def send(self, msg):\n",
    "        # Будем возвращать случайное сообщение из self.tweets_pool\n",
    "        random_idx = randint(0, self.num_tweets - 1)\n",
    "        return \"{} : {}\".format(self.name, self.tweets_pool[random_idx])\n",
    "\n",
    "    def throw(self, typ=None, val=None, tb=None):\n",
    "        # Оставляем как есть\n",
    "        super().throw(typ, val, tb)\n",
    "\n",
    "    def __str__(self):\n",
    "        # Опишем строковое представление класса\n",
    "        return self.name\n",
    "\n",
    "    def __repr__(self):\n",
    "        return str(self)"
   ]
  },
  {
   "cell_type": "markdown",
   "metadata": {},
   "source": [
    "#### Пример использования:"
   ]
  },
  {
   "cell_type": "code",
   "execution_count": 3,
   "metadata": {},
   "outputs": [
    {
     "data": {
      "text/plain": [
       "'clinton : One candidate made it clear he wasn’t prepared for last night’s debate. The other made it clear she’s prepared to b… https://t.co/InYZBmnbBM'"
      ]
     },
     "execution_count": 3,
     "metadata": {},
     "output_type": "execute_result"
    }
   ],
   "source": [
    "from dialogsgenerator import Agent\n",
    "clint, trum = Agent(clinton, \"clinton\"), Agent(trump, \"trump\")\n",
    "clint.send(\"bla bla\")"
   ]
  },
  {
   "cell_type": "markdown",
   "metadata": {},
   "source": [
    "### Файл randomdialog.py\n",
    "\n",
    "Описание класса, генерирующего случайный диалог."
   ]
  },
  {
   "cell_type": "code",
   "execution_count": 7,
   "metadata": {
    "collapsed": true
   },
   "outputs": [],
   "source": [
    "import sys\n",
    "from itertools import chain, repeat"
   ]
  },
  {
   "cell_type": "code",
   "execution_count": 33,
   "metadata": {
    "collapsed": true
   },
   "outputs": [],
   "source": [
    "class RandomDialog(object):\n",
    "    \n",
    "    def __init__(self, agents, max_len=5):\n",
    "        # Инициализация\n",
    "        self.agents = agents\n",
    "        self.agents_num = len(agents)\n",
    "        self.max_len = max_len\n",
    "    \n",
    "    def generate(self):\n",
    "        \"\"\"\n",
    "        Генерирует случайный диалог состоящий из 1-max_len цепочек.\n",
    "        При генерации вызывает функцию turn.\n",
    "        Возвращаемый объект является генератором.\n",
    "        \"\"\"\n",
    "        \n",
    "        \"\"\"\n",
    "        ______________________________________________________________________________________\n",
    "            Мы хотим вернуть (max_len - 1) цепочек ходов, для этого нам нужно (max_len - 1) раз \n",
    "            вызвать turn(), но чтобы каждый раз метод turn() возвращал разные диалоги.\n",
    "\n",
    "             * self_n_times - пары (i, self), где i = 0..max_len-1\n",
    "             * invoke_turn - вызывает функцию turn у своего второго аргумента (второй аргумент - self)\n",
    "\n",
    "            Возьмём map от self_n_times, к котором применён invoke_turn, получим то, что нужно            \n",
    "        \"\"\"\n",
    "        \n",
    "        # пары - (i, self), где i = 1..max_len-1\n",
    "        self_n_times = zip(range(self.max_len - 1), repeat(self))\n",
    "        \n",
    "        # вызывает turn() у второго аргумента\n",
    "        invoke_turn = lambda args: list(args[1].turn())\n",
    "        \n",
    "        # для каждой пары (i, self) вызываем invoke_turn от self\n",
    "        yield from map(invoke_turn, self_n_times)\n",
    "\n",
    "    def turn(self):\n",
    "        \"\"\"\n",
    "        Генерирует одну случайную цепочку следующим образом: выбирается случайный агент.\n",
    "        Он \"говорит\" случайное сообщение (msg) из своей Agent.kb (используйте next или send(None)).\n",
    "        (правила того, как выбирать никак не регулируются, вы можете выбирать случайный твит из Agent.kb никак не учитывая\n",
    "        переданное msg).\n",
    "        Это сообщение передается с помощью send (помним, что агент - это объект-генератор).\n",
    "        Далее получаем ответ от всех агентов и возвращаем (генерируем) их (включая исходное сообщение).\n",
    "        Возвращаемый объект является генератором.\n",
    "        \"\"\"\n",
    "        \n",
    "        # получаем сообщение от случайного агента\n",
    "        rand_agent_ind = randint(0, self.agents_num - 1)\n",
    "        msg = next(self.agents[rand_agent_ind])\n",
    "        \n",
    "        # отправляем сообщение всем агентам\n",
    "        _ = list(map(lambda x: x.send(msg), self.agents))\n",
    "\n",
    "        # возвращаем ответы всех агентов вместе с исходным сообщением\n",
    "        it = iter(self.agents)\n",
    "        yield from chain([msg], list(map(next, it)))\n",
    "\n",
    "    def eval(self, dialog=None):\n",
    "        \"\"\"\n",
    "        Превращает генератор случайного далога (который возвращается в self.generate())\n",
    "        в список списков (пример использования далее).\n",
    "        Возвращаемый объект является списком.\n",
    "        \"\"\"\n",
    "        if dialog is None:\n",
    "            dialog = self.generate()\n",
    "                \n",
    "        return list(dialog)      \n",
    "\n",
    "    def write(self, dialog=None, target=sys.stdout):\n",
    "        \"\"\"\n",
    "        Записывает результат self.eval() в соответствующий поток.\n",
    "        \"\"\"\n",
    "        \n",
    "        if dialog is None:\n",
    "            dialog = self.eval()\n",
    "        \n",
    "        # приписывает к очередному ходу \\t\n",
    "        sep_turns = lambda turn: \"\\t\" + turn\n",
    "        \n",
    "        # описание диалога - сначала отдаёт строку с номером диалога, а затем сами сообщения\n",
    "        turn_desc = lambda turn_obj: list(chain([\"turn {}:\".format(turn_obj[0])], \n",
    "                                           map(sep_turns, turn_obj[1])))\n",
    "        \n",
    "        # выводит каждое описание диалога\n",
    "        print_dialog = lambda turn: list(map(lambda x: print(x, file=target), turn_desc(turn)))\n",
    "        \n",
    "        list(map(print_dialog, enumerate(dialog)))\n",
    "        \n",
    "    pass\n"
   ]
  },
  {
   "cell_type": "code",
   "execution_count": 4,
   "metadata": {
    "scrolled": true
   },
   "outputs": [],
   "source": [
    "from dialogsgenerator import RandomDialog\n",
    "test_random_diaog = RandomDialog([Agent(clinton, \"clinton\"), Agent(trump, \"trump\")], max_len=3)"
   ]
  },
  {
   "cell_type": "code",
   "execution_count": 5,
   "metadata": {
    "scrolled": true
   },
   "outputs": [
    {
     "data": {
      "text/plain": [
       "['trump : Nasty Ted Cruz is at it again- same dirty tricks he used w/ @RealBenCarson- saying I may not be on ballot &amp; I hold liberal positions. LIES!',\n",
       " 'clinton : “Donald just criticized me for preparing for this debate. And you know what else I prepared for?\\n\\nI prepared to be… https://t.co/QjB01msPaT',\n",
       " 'trump : Thank you @RepReneeEllmers!\\nhttps://t.co/1DrZpfa6je https://t.co/rzEw8pQhds']"
      ]
     },
     "execution_count": 5,
     "metadata": {},
     "output_type": "execute_result"
    }
   ],
   "source": [
    "gen = test_random_diaog.turn()\n",
    "list(gen)"
   ]
  },
  {
   "cell_type": "code",
   "execution_count": 6,
   "metadata": {
    "scrolled": false
   },
   "outputs": [
    {
     "data": {
      "text/plain": [
       "<generator object RandomDialog.generate at 0x000002825F9E05C8>"
      ]
     },
     "execution_count": 6,
     "metadata": {},
     "output_type": "execute_result"
    }
   ],
   "source": [
    "gen_dialog = test_random_diaog.generate()\n",
    "list(test_random_diaog.generate())\n",
    "gen_dialog"
   ]
  },
  {
   "cell_type": "code",
   "execution_count": 7,
   "metadata": {
    "collapsed": true,
    "scrolled": true
   },
   "outputs": [],
   "source": [
    "evaluate = test_random_diaog.eval(gen_dialog)"
   ]
  },
  {
   "cell_type": "code",
   "execution_count": 8,
   "metadata": {
    "scrolled": false
   },
   "outputs": [
    {
     "name": "stdout",
     "output_type": "stream",
     "text": [
      "turn 0:\n",
      "\ttrump : MAKE AMERICA GREAT AGAIN!\n",
      "\tclinton : 62 reasons why Donald Trump should never become president (from members of his own party). https://t.co/0gYEctRjSe\n",
      "\ttrump : In interview I told @AP that my taxes are under routine audit and I would release my tax returns when audit is complete, not after election!\n",
      "turn 1:\n",
      "\ttrump : \"@redneckgp: All you haters out there, STOP trashing the only candidate @realDonaldTrump that will put ALL OF YOU &amp; AMERICA FIRST  #trump\"\n",
      "\tclinton : West Virginians, head to the polls today. RT this if you’re voting for Hillary. https://t.co/2ECEOO7DYh\n",
      "\ttrump : Crooked Hillary Clinton knew everything that her \"servant\" was doing at the DNC - they just got caught, that's all! They laughed at Bernie.\n"
     ]
    }
   ],
   "source": [
    "test_random_diaog.write(evaluate)"
   ]
  },
  {
   "cell_type": "markdown",
   "metadata": {},
   "source": [
    "#### Пример использования:"
   ]
  },
  {
   "cell_type": "code",
   "execution_count": 17,
   "metadata": {
    "collapsed": true
   },
   "outputs": [],
   "source": [
    "from dialogsgenerator import RandomDialog\n",
    "rd = RandomDialog([Agent(clinton, \"clinton\"), Agent(trump, \"trump\")], max_len=2)"
   ]
  },
  {
   "cell_type": "code",
   "execution_count": 10,
   "metadata": {},
   "outputs": [
    {
     "data": {
      "text/plain": [
       "<generator object RandomDialog.generate at 0x000002E9CB2297D8>"
      ]
     },
     "execution_count": 10,
     "metadata": {},
     "output_type": "execute_result"
    }
   ],
   "source": [
    "generated = rd.generate()\n",
    "generated"
   ]
  },
  {
   "cell_type": "code",
   "execution_count": 11,
   "metadata": {},
   "outputs": [
    {
     "data": {
      "text/plain": [
       "[['clinton : \"We have a chance to show that comprehensive immigration reform isn’t just the smart thing to do—it’s what the American people demand.\"',\n",
       "  \"clinton : Trump asked what the African American community has to lose by voting for him. @MarlonDMarshall's response: https://t.co/ZJtX7d49bM\",\n",
       "  'trump : Get out and VOTE tomorrow! We will MAKE AMERICA GREAT AGAIN! \\n#CTPrimary #DEPrimary #MDPrimary #PAPrimary #RIPrimary\\nhttps://t.co/ndi8sZI1Gt']]"
      ]
     },
     "execution_count": 11,
     "metadata": {},
     "output_type": "execute_result"
    }
   ],
   "source": [
    "evaled = rd.eval(generated)\n",
    "evaled"
   ]
  },
  {
   "cell_type": "code",
   "execution_count": 12,
   "metadata": {},
   "outputs": [
    {
     "name": "stdout",
     "output_type": "stream",
     "text": [
      "turn 0:\n",
      "\tclinton : \"We have a chance to show that comprehensive immigration reform isn’t just the smart thing to do—it’s what the American people demand.\"\n",
      "\tclinton : Trump asked what the African American community has to lose by voting for him. @MarlonDMarshall's response: https://t.co/ZJtX7d49bM\n",
      "\ttrump : Get out and VOTE tomorrow! We will MAKE AMERICA GREAT AGAIN! \n",
      "#CTPrimary #DEPrimary #MDPrimary #PAPrimary #RIPrimary\n",
      "https://t.co/ndi8sZI1Gt\n"
     ]
    }
   ],
   "source": [
    "rd.write(evaled)"
   ]
  },
  {
   "cell_type": "markdown",
   "metadata": {},
   "source": [
    "### Файл run_generator.py\n",
    "\n",
    "Содержит функции для генерации и записи нескольких диалогов. Файл должен быть написан так, чтобы его можно было запускать через командную строку:\n",
    "<img src=\"cmd.png\">\n",
    "Описание аргументов представлено на рисунке:\n",
    "<img src=\"cmd_help.png\">\n",
    "Для разбора аргументов ипользуйте <a href=\"https://docs.python.org/3/howto/argparse.html\">модуль argparse</a>. Все представленные на рисунке аргументы должны быть обработаны (кроме help, он обрабатывается автоматически модулем argparse)."
   ]
  },
  {
   "cell_type": "code",
   "execution_count": 62,
   "metadata": {},
   "outputs": [
    {
     "name": "stdout",
     "output_type": "stream",
     "text": [
      "sdf\n"
     ]
    }
   ],
   "source": [
    "def generate(rd, count_dialogs=5):\n",
    "    \"\"\"\n",
    "    Генерирует count_dialogs диалогов с помощью rd.generate().\n",
    "    Возвращаемый объект является генератором.\n",
    "    \"\"\"\n",
    "    # пары - (i, rd), где i = 1..count_dialogs\n",
    "    rd_n_times = zip(range(count_dialogs), repeat(rd))\n",
    "\n",
    "    # вызывает generate() у второго аргумента\n",
    "    invoke_generate = lambda args: args[1].generate()\n",
    "\n",
    "    # у каждой пары (i, rd) вызываем invoke_generate от rd\n",
    "    yield from map(invoke_generate, rd_n_times)\n",
    "    \n",
    "\n",
    "def write(dialogs, target):\n",
    "    \"\"\"\n",
    "    Записывает сгенерированные диалоги dialogs (это объект-генератор) в поток target.\n",
    "    \"\"\"\n",
    "\n",
    "    # выводит сначала номер диалога, а затем вызывает функцию write у самого диалога\n",
    "    def print_dialog_descr(dialog_obj):\n",
    "        print(\"_______________________Dialog {}______________________\".format(dialog_obj[0]), file=target)\n",
    "\n",
    "        rd = RandomDialog([], 0)\n",
    "        evaluate = rd.eval(dialog_obj[1])\n",
    "        rd.write(evaluate)\n",
    "        \n",
    "    \n",
    "    print_dialogs = lambda dialog_obj: print_dialog_descr(dialog_obj)\n",
    "   \n",
    "    list(map(print_dialogs, enumerate(dialogs)))\n",
    "\n",
    "\n",
    "if __name__ == \"__main__\":\n",
    "    print(\"sdf\")\n"
   ]
  },
  {
   "cell_type": "code",
   "execution_count": 6,
   "metadata": {},
   "outputs": [],
   "source": [
    "import sys\n",
    "from run_generator import generate, write"
   ]
  },
  {
   "cell_type": "code",
   "execution_count": 7,
   "metadata": {},
   "outputs": [
    {
     "data": {
      "text/plain": [
       "<generator object generate at 0x00000284C4B9B620>"
      ]
     },
     "execution_count": 7,
     "metadata": {},
     "output_type": "execute_result"
    }
   ],
   "source": [
    "dialogs = generate(test_random_diaog, 2)\n",
    "dialogs"
   ]
  },
  {
   "cell_type": "code",
   "execution_count": 8,
   "metadata": {},
   "outputs": [
    {
     "name": "stdout",
     "output_type": "stream",
     "text": [
      "_______________________Dialog 0______________________\n",
      "turn 0:\n",
      "\tclinton : La próxima semana, los republicanos nominarán a alguien que piensa que una campaña para la comunidad latina es tuitear un 'taco bowl'.\n",
      "\tclinton : “I’m going after him exactly on those issues and statements that are divisive and dangerous.” —Hillary on @realDonaldTrump\n",
      "\ttrump : I don't believe I have been given any credit by the voters for self-funding my campaign, the only one. I will keep doing, but not worth it!\n",
      "turn 1:\n",
      "\ttrump : The polls show that I picked up many Jeb Bush supporters. That is how I got to 46%. When others drop out, I will pick up more.  Sad but true\n",
      "\tclinton : Watch live as Hillary stops in St. Petersburg, Florida, for a campaign rally on the choice we face on the economy: https://t.co/09cW39nHXo\n",
      "\ttrump : I don’t cheat at golf but @SamuelLJackson cheats—with his game he has no choice—and stop doing commercials!\n",
      "_______________________Dialog 1______________________\n",
      "turn 0:\n",
      "\tclinton : Shirley was 5 years old when women won the right to vote. Today, she's rooting for the first woman president. https://t.co/azwiTfH9th\n",
      "\tclinton : Trabajemos para que ningún estudiante tenga que endeudarse para estudiar en una universidad pública de su estado. https://t.co/Bl1RpRy3Di\n",
      "\ttrump : I am pleased to announce that I had the Union Leader removed from the upcoming debate. https://t.co/DL8hDPzHoi\n",
      "turn 1:\n",
      "\tclinton : Donald Trump still refuses to say @POTUS was born in America. And this man wants to be our president?\n",
      "\n",
      "When will he stop this ugliness?\n",
      "\tclinton : Thank you, Christine. We're all standing by your side. https://t.co/7WimmvECqU\n",
      "\ttrump : A very interesting piece, by a very good writer, @KirstenPowers of @USATODAY and @FoxNews. https://t.co/gLuMitRitg\n"
     ]
    }
   ],
   "source": [
    "write(dialogs, sys.stdout)"
   ]
  },
  {
   "cell_type": "markdown",
   "metadata": {},
   "source": [
    "#### Пример использования функций из файла:"
   ]
  },
  {
   "cell_type": "code",
   "execution_count": 18,
   "metadata": {
    "collapsed": true
   },
   "outputs": [],
   "source": [
    "import sys\n",
    "from run_generator import generate, write"
   ]
  },
  {
   "cell_type": "code",
   "execution_count": 19,
   "metadata": {},
   "outputs": [
    {
     "data": {
      "text/plain": [
       "<generator object generate at 0x00000284C4C02620>"
      ]
     },
     "execution_count": 19,
     "metadata": {},
     "output_type": "execute_result"
    }
   ],
   "source": [
    "dialogs = generate(rd, 2)\n",
    "dialogs"
   ]
  },
  {
   "cell_type": "code",
   "execution_count": 20,
   "metadata": {},
   "outputs": [
    {
     "name": "stdout",
     "output_type": "stream",
     "text": [
      "_______________________Dialog 0______________________\n",
      "turn 0:\n",
      "\ttrump : Going to Salt Lake City, Utah, for a big rally. Lyin' Ted Cruz should not be allowed to win there - Mormons don't like LIARS! I beat Hillary\n",
      "\tclinton : Cheryl's husband died serving our country. \n",
      "\n",
      "Trump's company scammed her out of money she needed for her family. https://t.co/gfMeiJZ3DW\n",
      "\ttrump : Why do the networks continue to put dopey @BillKristol on panels when he has called every single shot about me wrong for 2 yrs?\n",
      "_______________________Dialog 1______________________\n",
      "turn 0:\n",
      "\tclinton : \"We respect the choice the people of the United Kingdom have made.\" —Hillary #BrexitVote https://t.co/58yM8oDkL6\n",
      "\tclinton : 22 memorable moments from the Democratic Convention that you probably missed: https://t.co/xnvFiEKlJC https://t.co/bLqoDfFfvc\n",
      "\ttrump : The invention of email has proven to be a very bad thing for Crooked Hillary in that it has proven her to be both incompetent and a liar!\n"
     ]
    }
   ],
   "source": [
    "write(dialogs, sys.stdout)"
   ]
  },
  {
   "cell_type": "code",
   "execution_count": null,
   "metadata": {
    "collapsed": true
   },
   "outputs": [],
   "source": []
  }
 ],
 "metadata": {
  "kernelspec": {
   "display_name": "Python 3",
   "language": "python",
   "name": "python3"
  },
  "language_info": {
   "codemirror_mode": {
    "name": "ipython",
    "version": 3
   },
   "file_extension": ".py",
   "mimetype": "text/x-python",
   "name": "python",
   "nbconvert_exporter": "python",
   "pygments_lexer": "ipython3",
   "version": "3.6.1"
  }
 },
 "nbformat": 4,
 "nbformat_minor": 2
}
