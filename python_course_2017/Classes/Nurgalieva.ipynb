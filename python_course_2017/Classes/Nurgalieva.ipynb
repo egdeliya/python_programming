{
 "cells": [
  {
   "cell_type": "markdown",
   "metadata": {},
   "source": [
    "# Задание 3\n",
    "### Часть 1. Magic functions"
   ]
  },
  {
   "cell_type": "markdown",
   "metadata": {},
   "source": [
    "#### CounterGetter (0.1 балл)\n",
    "Реализуйте класс CounterGetter, который на вход принимает произвольное количество именованых аргументов и считает количество обращений к полям и методам класса во всех экземплярах."
   ]
  },
  {
   "cell_type": "code",
   "execution_count": 12,
   "metadata": {},
   "outputs": [],
   "source": [
    "class CounterGetter(object):\n",
    "    \n",
    "    class_ref_counter = 0\n",
    "    \n",
    "    def __init__(self, **kwargs):\n",
    "        for key, val in kwargs.items():\n",
    "            self.__setattr__(key, val)\n",
    "            CounterGetter.class_ref_counter -= 1\n",
    "        CounterGetter.class_ref_counter += 1\n",
    "         \n",
    "    def __getattribute__(self, attr_name):\n",
    "        CounterGetter.class_ref_counter += 1\n",
    "        try:\n",
    "            value = object.__getattribute__(self, attr_name)\n",
    "            return value\n",
    "        except AttributeError:\n",
    "            print(str(self) + \" has no attribute {}\".format(attr_name))\n",
    "            return \n",
    "        \n",
    "    def __str__(self):\n",
    "        return \"CounterGetter object\"\n",
    "    \n",
    "    pass"
   ]
  },
  {
   "cell_type": "markdown",
   "metadata": {},
   "source": [
    "##### Напишем несколько тестов, создадим два экземпляра класса, и выведем на экран, сколько раз мы обращались к методам и атрибутам экземпляров класса"
   ]
  },
  {
   "cell_type": "code",
   "execution_count": 13,
   "metadata": {},
   "outputs": [
    {
     "ename": "TypeError",
     "evalue": "__init__() takes 1 positional argument but 2 were given",
     "output_type": "error",
     "traceback": [
      "\u001b[1;31m---------------------------------------------------------------------------\u001b[0m",
      "\u001b[1;31mTypeError\u001b[0m                                 Traceback (most recent call last)",
      "\u001b[1;32m<ipython-input-13-22a65d2eda57>\u001b[0m in \u001b[0;36m<module>\u001b[1;34m()\u001b[0m\n\u001b[0;32m      1\u001b[0m \u001b[0margs\u001b[0m \u001b[1;33m=\u001b[0m \u001b[1;33m{\u001b[0m\u001b[1;34m'a'\u001b[0m\u001b[1;33m:\u001b[0m \u001b[1;36m1\u001b[0m\u001b[1;33m}\u001b[0m\u001b[1;33m\u001b[0m\u001b[0m\n\u001b[1;32m----> 2\u001b[1;33m \u001b[0mtest\u001b[0m \u001b[1;33m=\u001b[0m \u001b[0mCounterGetter\u001b[0m\u001b[1;33m(\u001b[0m\u001b[0margs\u001b[0m\u001b[1;33m)\u001b[0m\u001b[1;33m\u001b[0m\u001b[0m\n\u001b[0m",
      "\u001b[1;31mTypeError\u001b[0m: __init__() takes 1 positional argument but 2 were given"
     ]
    }
   ],
   "source": [
    "args = {'a': 1}\n",
    "test = CounterGetter(args)"
   ]
  },
  {
   "cell_type": "code",
   "execution_count": 14,
   "metadata": {
    "scrolled": true
   },
   "outputs": [
    {
     "name": "stdout",
     "output_type": "stream",
     "text": [
      "Must be 1, actually is 1\n",
      "Must be 2, actually is 2\n"
     ]
    }
   ],
   "source": [
    "# должно быть +1\n",
    "first = CounterGetter(a=3, b=4)\n",
    "\n",
    "print(\"Must be 1, actually is {}\".format(CounterGetter.class_ref_counter))\n",
    "first.a\n",
    "print(\"Must be 2, actually is {}\".format(CounterGetter.class_ref_counter))"
   ]
  },
  {
   "cell_type": "code",
   "execution_count": 15,
   "metadata": {},
   "outputs": [
    {
     "name": "stdout",
     "output_type": "stream",
     "text": [
      "CounterGetter object has no attribute item\n",
      "Must be 3, actually is 3\n"
     ]
    }
   ],
   "source": [
    "first.item\n",
    "\n",
    "print(\"Must be 3, actually is {}\".format(CounterGetter.class_ref_counter))"
   ]
  },
  {
   "cell_type": "code",
   "execution_count": 16,
   "metadata": {},
   "outputs": [
    {
     "name": "stdout",
     "output_type": "stream",
     "text": [
      "3\n",
      "4\n",
      "Must be 5, actually is 5\n"
     ]
    }
   ],
   "source": [
    "# должно быть +1\n",
    "print(first.a)\n",
    "# должно быть +1\n",
    "print(first.b)\n",
    "\n",
    "print(\"Must be 5, actually is {}\".format(CounterGetter.class_ref_counter))"
   ]
  },
  {
   "cell_type": "code",
   "execution_count": 17,
   "metadata": {},
   "outputs": [
    {
     "name": "stdout",
     "output_type": "stream",
     "text": [
      "Must be 6, actually is 6\n"
     ]
    }
   ],
   "source": [
    "# должно быть +1\n",
    "second = CounterGetter(s=\"hello, I'm second\")\n",
    "\n",
    "print(\"Must be 6, actually is {}\".format(CounterGetter.class_ref_counter))"
   ]
  },
  {
   "cell_type": "code",
   "execution_count": 18,
   "metadata": {},
   "outputs": [
    {
     "name": "stdout",
     "output_type": "stream",
     "text": [
      "Must be 7, actually is 7\n"
     ]
    }
   ],
   "source": [
    "# должно быть +1\n",
    "second.s\n",
    "print(\"Must be 7, actually is {}\".format(CounterGetter.class_ref_counter))"
   ]
  },
  {
   "cell_type": "markdown",
   "metadata": {},
   "source": [
    "#### Vector (0.4 балла)"
   ]
  },
  {
   "cell_type": "markdown",
   "metadata": {},
   "source": [
    "Реализуйте класс вектор, который должен обладать следующими свойствами:\n",
    "* Над экземплярами выполняются арифметические операции (+-\\*/). Операции могут выполняться как с числами, так и с векторами. Если второй операнд вектор, то верните их скалярное произведение, если число, выполните поэлементное действие.\n",
    "* Реализуйте доступ к элементам вектора по индексам:\n",
    "\n",
    "<code>vec = Vector(1, 2, 3)\n",
    "\n",
    "vec[0]</code>\n",
    "* Реализуйте умножение вектора на матрицу (Матрица задается двумерным списком).\n",
    "* Поддерживайте методы push_back, pop_back, insert.\n",
    "* Реализуйте поддержку функции len\n",
    "\n",
    "P. S. Запрещается использовать numpy и другие библиотеки по работе с векторами. Рекомендуется представлять элементы вектора как список."
   ]
  },
  {
   "cell_type": "code",
   "execution_count": 228,
   "metadata": {},
   "outputs": [],
   "source": [
    "import math\n",
    "\n",
    "class Vector(object):\n",
    "    def __init__(self, *args):\n",
    "        \n",
    "        # сохраним координаты вектора\n",
    "        self.coordinates = []\n",
    "        for coord in args:\n",
    "            self.coordinates.append(coord)\n",
    "            \n",
    "    def __getitem__(self, key):\n",
    "        \"\"\"Доступ к элементам вектора по индексу\"\"\"\n",
    "        \n",
    "        assert(key < len(self) and type(key) == int)\n",
    "        return self.coordinates[key]\n",
    "    \n",
    "    def __setitem__(self, key, value):\n",
    "        \"\"\"Изменение элементов вектора по индексу\"\"\"\n",
    "        \n",
    "        assert(key < len(self) and type(key) == int)\n",
    "        self.coordinates[key] = value \n",
    "    \n",
    "    def __add__(self, other):\n",
    "        \"\"\"Операция сложения для векторов\"\"\" \n",
    "        res_coord = []\n",
    "        \n",
    "        if (type(other) == int):\n",
    "            for ind in range(len(self)):\n",
    "                res_coord.append(self[ind] + other)\n",
    "            return Vector(*res_coord)\n",
    "        \n",
    "        elif (str(other)[:6] == 'Vector'):\n",
    "            assert(len(other) == len(self))\n",
    "            for ind in range(len(self)):\n",
    "                res_coord.append(self[ind] + other[ind])\n",
    "            return Vector(*res_coord)\n",
    "        \n",
    "        else:\n",
    "            print(\"Wrong argument type\")\n",
    "            \n",
    "    def __sub__(self, other):\n",
    "        \"\"\"Операция вычитания для векторов\"\"\"\n",
    "        res_coord = []\n",
    "        \n",
    "        if (type(other) == int):\n",
    "            \n",
    "            for ind in range(len(self)):\n",
    "                res_coord.append(self[ind] - other)\n",
    "            return Vector(*res_coord)\n",
    "        \n",
    "        elif (str(other)[:6] == 'Vector'):\n",
    "            \n",
    "            assert(len(other) == len(self))\n",
    "            for ind in range(len(self)):\n",
    "                res_coord.append(self[ind] - other[ind])\n",
    "            return Vector(*res_coord)\n",
    "        \n",
    "        else:\n",
    "            print(\"Wrong argument type\")\n",
    "            \n",
    "    def __mul__(self, other):\n",
    "        \"\"\"Операция умножения для векторов\"\"\"\n",
    "                \n",
    "        if (type(other) == int):\n",
    "            res_coord = []\n",
    "            for ind in range(len(self)):\n",
    "                res_coord.append(self[ind] * other)\n",
    "            return Vector(*res_coord)\n",
    "        \n",
    "        elif (str(other)[:6] == 'Vector'):\n",
    "            assert(len(other) == len(self))\n",
    "            scul_sum = 0\n",
    "            for ind in range(len(self)):\n",
    "                scul_sum += self[ind] * other[ind]\n",
    "            return scul_sum\n",
    "        \n",
    "        else:\n",
    "            print(\"Wrong argument type\")\n",
    "            \n",
    "    def __truediv__(self, other):\n",
    "        \"\"\"Операция деления вектора на число\"\"\"\n",
    "                \n",
    "        if (type(other) == int and other != 0):\n",
    "            res_coord = []\n",
    "            for ind in range(len(self)):\n",
    "                res_coord.append(self[ind] / other)\n",
    "            return Vector(*res_coord)\n",
    "        \n",
    "        else:\n",
    "            print(\"Wrong argument\")\n",
    "            \n",
    "    def __len__(self):\n",
    "        return len(self.coordinates)\n",
    "        \n",
    "    def __str__(self):\n",
    "        \"\"\"преобразование вектора в строку для вывода и проверки типа\"\"\"\n",
    "        \n",
    "        return 'Vector{}'.format(self.coordinates)\n",
    "        \n",
    "    def matrix_mult(self, matrix):\n",
    "        \"\"\"Операция произведения матрицы на вектор\"\"\"\n",
    "        \n",
    "        assert(len(matrix) > 0 and len(matrix[0]) == len(self))\n",
    "        print(\"hello\")\n",
    "        res_coord = []\n",
    "        for str_ind in range(len(matrix)):\n",
    "            res_coord.append(self * Vector(*matrix[str_ind]))      \n",
    "        return Vector(*res_coord)\n",
    "\n",
    "    def push_back(self, value):\n",
    "        self.coordinates.append(value)\n",
    "    \n",
    "    def pop_back(self):\n",
    "        return self.coordinates.pop(len(self)-1)\n",
    "    \n",
    "    def insert(self, index, value):\n",
    "        self.coordinates.insert(index, value)\n",
    "\n",
    "    pass"
   ]
  },
  {
   "cell_type": "code",
   "execution_count": 229,
   "metadata": {},
   "outputs": [
    {
     "name": "stdout",
     "output_type": "stream",
     "text": [
      "2\n"
     ]
    }
   ],
   "source": [
    "l = [[1, 2, 3], [3, 4, 5]]\n",
    "print(len(l))"
   ]
  },
  {
   "cell_type": "code",
   "execution_count": 230,
   "metadata": {},
   "outputs": [
    {
     "name": "stdout",
     "output_type": "stream",
     "text": [
      "<class '__main__.Vector'>\n",
      "Vector[0, 1, 2]\n",
      "3\n"
     ]
    }
   ],
   "source": [
    "v1 = Vector(0, 1, 2)\n",
    "v1[0]\n",
    "print(type(v1))\n",
    "print(v1)\n",
    "print(len(v1))"
   ]
  },
  {
   "cell_type": "code",
   "execution_count": 231,
   "metadata": {},
   "outputs": [
    {
     "data": {
      "text/plain": [
       "3"
      ]
     },
     "execution_count": 231,
     "metadata": {},
     "output_type": "execute_result"
    }
   ],
   "source": [
    "v2 = Vector(*[0])\n",
    "v2[0]\n",
    "v2[0]=3\n",
    "v2[0]"
   ]
  },
  {
   "cell_type": "code",
   "execution_count": 232,
   "metadata": {},
   "outputs": [
    {
     "name": "stdout",
     "output_type": "stream",
     "text": [
      "Vector[2, 4, 6]\n"
     ]
    }
   ],
   "source": [
    "v3 = Vector(2, 3, 4)\n",
    "v5 = v1 + v3\n",
    "print(v5)"
   ]
  },
  {
   "cell_type": "code",
   "execution_count": 233,
   "metadata": {},
   "outputs": [
    {
     "name": "stdout",
     "output_type": "stream",
     "text": [
      "Vector[2, 3, 4]\n"
     ]
    }
   ],
   "source": [
    "v6 = v5 - v1\n",
    "print(v6)"
   ]
  },
  {
   "cell_type": "code",
   "execution_count": 234,
   "metadata": {},
   "outputs": [
    {
     "name": "stdout",
     "output_type": "stream",
     "text": [
      "40\n"
     ]
    }
   ],
   "source": [
    "scul_mult = v6 * v5\n",
    "print(scul_mult)"
   ]
  },
  {
   "cell_type": "code",
   "execution_count": 235,
   "metadata": {},
   "outputs": [
    {
     "name": "stdout",
     "output_type": "stream",
     "text": [
      "Vector[1.0, 1.5, 2.0]\n"
     ]
    }
   ],
   "source": [
    "print(v6/2)"
   ]
  },
  {
   "cell_type": "code",
   "execution_count": 236,
   "metadata": {},
   "outputs": [
    {
     "name": "stdout",
     "output_type": "stream",
     "text": [
      "hello\n",
      "Vector[18, 25]\n"
     ]
    }
   ],
   "source": [
    "matrix = [[0, 2, 3], [9, 1, 1]]\n",
    "print(v6.matrix_mult(matrix))"
   ]
  },
  {
   "cell_type": "markdown",
   "metadata": {},
   "source": [
    "#### Table (0.5 баллов)"
   ]
  },
  {
   "cell_type": "markdown",
   "metadata": {},
   "source": [
    "Реализуйте класс для работы с таблицами. Класс должен обладать следующей функциональностью:\n",
    "\n",
    "* Таблица может задаваться как двумерным списком, так и читаться из файла. Если читается из файла, то должен быть указан разделитель.\n",
    "\n",
    "* Обладать возможностью задания названия колонок (по номеру, если не задано). Если читается из файла и задан параметр наличия именованных колонок, то первая строчка файла отвечает за названия колонок.\n",
    "\n",
    "* Реализуйте доступ к колонкам по названю и по индекс:\n",
    "\n",
    "<code>t = Table()\n",
    "\n",
    "t[\"index\"]</code>\n",
    "\n",
    "* Реализуйте функции head и tail, которые показывают заданное число строк с начала и с конца соответственно.\n",
    "* Реадизуйте методы unique и count, которые выводят все уникальные элементы для таблицы или для заданного столбца:\n",
    "\n",
    "<code>\n",
    "\n",
    "t[\"sex\"].unique()\n",
    "\n",
    "t.unique()\n",
    "\n",
    "</code>"
   ]
  },
  {
   "cell_type": "code",
   "execution_count": 37,
   "metadata": {
    "collapsed": true
   },
   "outputs": [],
   "source": [
    "<your code here>"
   ]
  },
  {
   "cell_type": "markdown",
   "metadata": {},
   "source": [
    "## Часть 2. Вглубь sklearn (дополнительное задание)"
   ]
  },
  {
   "cell_type": "markdown",
   "metadata": {},
   "source": [
    "#### BinaryBoosting (0.3 балла)\n",
    "Реализуйте двухклассовый бустинг с логистической функцией потерь. Вам предлагается ознакомится со структурой классов в sklearn.\n",
    "\n",
    "Теория для выполнения дз:\n",
    "* Hastie, The Elements of Statistical Learning, https://goo.gl/k3wfEU, 10 Boosting and Additive Trees 337\n",
    "* Соколов, Семинары по композиционным методам, https://goo.gl/sn8RyJ, http://goo.gl/ajNTQy\n",
    "\n",
    "P. S. Кому интересно, полное задание части 2 лежит <a href=\"https://github.com/ml-mipt/ml-mipt-part2/blob/master/2016/home_works/hw02_boosting_xgb/task2.ipynb\">тут</a>. Обязательной частью является только то, что приведено здесь."
   ]
  },
  {
   "cell_type": "code",
   "execution_count": null,
   "metadata": {
    "collapsed": true
   },
   "outputs": [],
   "source": [
    "from sklearn.tree import DecisionTreeRegressor\n",
    "from sklearn.cross_validation import cross_val_score\n",
    "from sklearn.base import ClassifierMixin, BaseEstimator\n",
    "from sklearn.ensemble import GradientBoostingClassifier\n",
    "\n",
    "\n",
    "class BinaryBoostingClassifier(BaseEstimator, ClassifierMixin):\n",
    "    def __init__(self, n_estimators, lr=0.1):\n",
    "        self.lr = lr   \n",
    "        self.n_estimators = n_estimators\n",
    "\n",
    "    def loss_grad(self, original_y, pred_y):\n",
    "        return # Градиент на кажом объекте\n",
    "\n",
    "    def fit(self, X, original_y):\n",
    "        # Храните базовые алгоритмы тут\n",
    "        self.estimators_ = [] \n",
    "\n",
    "        for i in range(self.n_estimators):\n",
    "            grad = self.loss_grad(original_y, self._predict(X))\n",
    "            # Настройте базовый алгоритм на градиент\n",
    "            estimator = <your code here>\n",
    "            self.estimators_.append(estimator)\n",
    "\n",
    "        self.out_ = self.outliers(grad)\n",
    "\n",
    "        return self\n",
    "\n",
    "    def _predict(self, X):\n",
    "        y_pred = <Получите ответ композиции до применения решающего правила>\n",
    "        return y_pred\n",
    "    \n",
    "    def predict(self, X):\n",
    "        y_pred = <примените к self._predict решающее правило>\n",
    "        return y_pred\n",
    "    \n",
    "    def outliers(self, grad):\n",
    "        return # Топ-10 объектов с большим отступом"
   ]
  },
  {
   "cell_type": "markdown",
   "metadata": {},
   "source": [
    "Сравните с классификатором из sklearn на датасете:\n",
    "    https://archive.ics.uci.edu/ml/machine-learning-databases/adult/adult.data.\n",
    "\n",
    "Кросс-валидацию разрешается осуществлять только с помощью функции cross_val_score для обоих классификаторов (вашего и из библиотеки)."
   ]
  },
  {
   "cell_type": "code",
   "execution_count": null,
   "metadata": {
    "collapsed": true
   },
   "outputs": [],
   "source": [
    "<your code here>"
   ]
  }
 ],
 "metadata": {
  "kernelspec": {
   "display_name": "Python 3",
   "language": "python",
   "name": "python3"
  },
  "language_info": {
   "codemirror_mode": {
    "name": "ipython",
    "version": 3
   },
   "file_extension": ".py",
   "mimetype": "text/x-python",
   "name": "python",
   "nbconvert_exporter": "python",
   "pygments_lexer": "ipython3",
   "version": "3.6.1"
  }
 },
 "nbformat": 4,
 "nbformat_minor": 2
}
