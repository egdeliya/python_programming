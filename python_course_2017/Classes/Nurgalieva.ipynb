{
 "cells": [
  {
   "cell_type": "markdown",
   "metadata": {},
   "source": [
    "# Задание 3\n",
    "### Часть 1. Magic functions"
   ]
  },
  {
   "cell_type": "markdown",
   "metadata": {},
   "source": [
    "#### CounterGetter (0.1 балл)\n",
    "Реализуйте класс CounterGetter, который на вход принимает произвольное количество именованых аргументов и считает количество обращений к полям и методам класса во всех экземплярах."
   ]
  },
  {
   "cell_type": "code",
   "execution_count": 49,
   "metadata": {
    "collapsed": true
   },
   "outputs": [],
   "source": [
    "class CounterGetter(object):\n",
    "    \n",
    "    class_ref_counter = 0\n",
    "    \n",
    "    def __init__(self, **kwargs):\n",
    "        for key, val in kwargs.items():\n",
    "            self.__setattr__(key, val)\n",
    "            CounterGetter.class_ref_counter -= 1\n",
    "        CounterGetter.class_ref_counter += 1\n",
    "         \n",
    "    def __getattribute__(self, attr_name):\n",
    "        try:\n",
    "            value = object.__getattribute__(self, attr_name)\n",
    "            CounterGetter.class_ref_counter += 1\n",
    "            return value\n",
    "        except AttributeError:\n",
    "            print(str(self) + \" has no attribute {}\".format(attr_name))\n",
    "            return \n",
    "        \n",
    "    def __str__(self):\n",
    "        return \"CounterGetter object\"\n",
    "    \n",
    "    pass"
   ]
  },
  {
   "cell_type": "markdown",
   "metadata": {},
   "source": [
    "<img src=\"experiment.jpg\">"
   ]
  },
  {
   "cell_type": "markdown",
   "metadata": {},
   "source": [
    "##### Напишем несколько тестов, создадим два экземпляра класса, и выведем на экран, сколько раз мы обращались к методам и атрибутам экземпляров класса"
   ]
  },
  {
   "cell_type": "code",
   "execution_count": 50,
   "metadata": {
    "scrolled": true
   },
   "outputs": [
    {
     "name": "stdout",
     "output_type": "stream",
     "text": [
      "Must be 1, actually is 1\n"
     ]
    }
   ],
   "source": [
    "# Создаём новый объект класса, должно быть +1\n",
    "first = CounterGetter(a=3, b=4)\n",
    "\n",
    "print(\"Must be 1, actually is {}\".format(CounterGetter.class_ref_counter))"
   ]
  },
  {
   "cell_type": "code",
   "execution_count": 51,
   "metadata": {},
   "outputs": [
    {
     "name": "stdout",
     "output_type": "stream",
     "text": [
      "CounterGetter object has no attribute item\n",
      "Must be 1, actually is 1\n"
     ]
    }
   ],
   "source": [
    "# Обращаемся к не существующему атрибуту класса, НЕ должно быть +1\n",
    "first.item\n",
    "\n",
    "print(\"Must be 1, actually is {}\".format(CounterGetter.class_ref_counter))"
   ]
  },
  {
   "cell_type": "code",
   "execution_count": 52,
   "metadata": {},
   "outputs": [
    {
     "name": "stdout",
     "output_type": "stream",
     "text": [
      "Must be 2, actually is 2\n"
     ]
    }
   ],
   "source": [
    "# Обращаемся к существующему атрибуту класса, должно быть +1\n",
    "first.b\n",
    "\n",
    "print(\"Must be 2, actually is {}\".format(CounterGetter.class_ref_counter))"
   ]
  },
  {
   "cell_type": "code",
   "execution_count": 53,
   "metadata": {},
   "outputs": [
    {
     "name": "stdout",
     "output_type": "stream",
     "text": [
      "Must be 3, actually is 3\n"
     ]
    }
   ],
   "source": [
    "# Создаём новый объект класса, должно быть +1\n",
    "second = CounterGetter(s=\"hello, I'm second\")\n",
    "\n",
    "print(\"Must be 3, actually is {}\".format(CounterGetter.class_ref_counter))"
   ]
  },
  {
   "cell_type": "code",
   "execution_count": 54,
   "metadata": {},
   "outputs": [
    {
     "name": "stdout",
     "output_type": "stream",
     "text": [
      "Must be 4, actually is 4\n"
     ]
    }
   ],
   "source": [
    "# Обращаемся к существующему атрибуту класса, должно быть +1\n",
    "second.s\n",
    "\n",
    "print(\"Must be 4, actually is {}\".format(CounterGetter.class_ref_counter))"
   ]
  },
  {
   "cell_type": "markdown",
   "metadata": {},
   "source": [
    "#### Vector (0.4 балла)"
   ]
  },
  {
   "cell_type": "markdown",
   "metadata": {},
   "source": [
    "Реализуйте класс вектор, который должен обладать следующими свойствами:\n",
    "* Над экземплярами выполняются арифметические операции (+-\\*/). Операции могут выполняться как с числами, так и с векторами. Если второй операнд вектор, то верните их скалярное произведение, если число, выполните поэлементное действие.\n",
    "* Реализуйте доступ к элементам вектора по индексам:\n",
    "\n",
    "<code>vec = Vector(1, 2, 3)\n",
    "\n",
    "vec[0]</code>\n",
    "* Реализуйте умножение вектора на матрицу (Матрица задается двумерным списком).\n",
    "* Поддерживайте методы push_back, pop_back, insert.\n",
    "* Реализуйте поддержку функции len\n",
    "\n",
    "P. S. Запрещается использовать numpy и другие библиотеки по работе с векторами. Рекомендуется представлять элементы вектора как список."
   ]
  },
  {
   "cell_type": "code",
   "execution_count": 66,
   "metadata": {
    "collapsed": true
   },
   "outputs": [],
   "source": [
    "import math\n",
    "\n",
    "class Vector(object):\n",
    "    def __init__(self, *args):\n",
    "        \"\"\"\n",
    "        параметры:\n",
    "            args: координаты вектора как список\"\"\"\n",
    "        \n",
    "        self.coordinates = []\n",
    "        for coord in args:\n",
    "            self.coordinates.append(coord)\n",
    "            \n",
    "    def __getitem__(self, key):\n",
    "        \"\"\"Доступ к элементам вектора по индексу\n",
    "        параметры:\n",
    "            key: int | slice \"\"\"\n",
    "\n",
    "        if (isinstance(key, int) or isinstance(key, slice)):\n",
    "            return self.coordinates[key]\n",
    "        \n",
    "        else:\n",
    "            print('Wrong argument type')\n",
    "        \n",
    "    \n",
    "    def __setitem__(self, key, value):\n",
    "        \"\"\"Изменение элементов вектора по индексу\n",
    "            параметры:\n",
    "                key: int\n",
    "                value: object :) \"\"\"\n",
    "        \n",
    "        assert(key < len(self) and type(key) == int)\n",
    "        self.coordinates[key] = value \n",
    "    \n",
    "    def __add__(self, other):\n",
    "        \"\"\"Операция сложения для вектора\n",
    "            параметры:\n",
    "                other: int | float | Vector\"\"\"\n",
    "        \n",
    "        # координаты результирующего вектора\n",
    "        res_coord = []\n",
    "        \n",
    "        if (isinstance(other, int) or isinstance(other, float)):\n",
    "            for ind in range(len(self)):\n",
    "                res_coord.append(self[ind] + other)\n",
    "            return Vector(*res_coord)\n",
    "        \n",
    "        elif (isinstance(other, Vector)):\n",
    "            assert(len(other) == len(self))\n",
    "            for ind in range(len(self)):\n",
    "                res_coord.append(self[ind] + other[ind])\n",
    "            return Vector(*res_coord)\n",
    "        \n",
    "        else:\n",
    "            print(\"Wrong argument type\")\n",
    "            \n",
    "    def __sub__(self, other):\n",
    "        \"\"\"Операция вычитания для вектора\n",
    "            параметры:\n",
    "                other: int | float | Vector \"\"\"\n",
    "        \n",
    "        res_coord = []\n",
    "        \n",
    "        if (isinstance(other, int) or isinstance(other, float)):\n",
    "            for ind in range(len(self)):\n",
    "                res_coord.append(self[ind] - other)\n",
    "            return Vector(*res_coord)\n",
    "        \n",
    "        elif (isinstance(other, Vector)):\n",
    "            assert(len(other) == len(self))\n",
    "            for ind in range(len(self)):\n",
    "                res_coord.append(self[ind] - other[ind])\n",
    "            return Vector(*res_coord)\n",
    "        \n",
    "        else:\n",
    "            print(\"Wrong argument type\")\n",
    "            \n",
    "    def __mul__(self, other):\n",
    "        \"\"\"Операция умножения для вектора\n",
    "            параметры:\n",
    "                    other: int | float| Vector \"\"\"\n",
    "                \n",
    "        if (isinstance(other, int) or isinstance(other, float)):\n",
    "            res_coord = []\n",
    "            for ind in range(len(self)):\n",
    "                res_coord.append(self[ind] * other)\n",
    "            return Vector(*res_coord)\n",
    "        \n",
    "        elif (isinstance(other, Vector)):\n",
    "            assert(len(other) == len(self))\n",
    "            scul_sum = 0\n",
    "            for ind in range(len(self)):\n",
    "                scul_sum += self[ind] * other[ind]\n",
    "            return scul_sum\n",
    "        \n",
    "        else:\n",
    "            print(\"Wrong argument type\")\n",
    "            \n",
    "    def __truediv__(self, other):\n",
    "        \"\"\"Операция деления вектора на число\n",
    "            параметры:\n",
    "                    other: int | float\"\"\"\n",
    "                \n",
    "        if ((isinstance(other, int)  or isinstance(other, float)) and other != 0):\n",
    "            res_coord = []\n",
    "            for ind in range(len(self)):\n",
    "                res_coord.append(self[ind] / other)\n",
    "            return Vector(*res_coord)\n",
    "        \n",
    "        else:\n",
    "            print(\"Wrong argument\")\n",
    "            \n",
    "    def __len__(self):\n",
    "        \"\"\"Возвращает размерность вектора\"\"\"\n",
    "        \n",
    "        return len(self.coordinates)\n",
    "        \n",
    "    def __str__(self):\n",
    "        \"\"\"преобразование вектора в строку\"\"\"\n",
    "        \n",
    "        return 'Vector{}'.format(self.coordinates)\n",
    "        \n",
    "    def matrix_mult(self, matrix):\n",
    "        \"\"\"Операция произведения матрицы на вектор\n",
    "            параметры:\n",
    "                matrix: list of list\"\"\"\n",
    "        \n",
    "        assert(len(matrix) > 0 and len(matrix[0]) == len(self))\n",
    "        res_coord = []\n",
    "        \n",
    "        for row in range(len(matrix)):\n",
    "            res_coord.append(self * Vector(*matrix[row]))      \n",
    "        return Vector(*res_coord)\n",
    "\n",
    "    def push_back(self, value):\n",
    "        \"\"\"Добавление координаты в конец\"\"\"\n",
    "        \n",
    "        self.coordinates.append(value)\n",
    "    \n",
    "    def pop_back(self):\n",
    "        \"\"\"Удаление координаты из конца\"\"\"\n",
    "        \n",
    "        return self.coordinates.pop(len(self)-1)\n",
    "    \n",
    "    def insert(self, index, value):\n",
    "        \"\"\"Добавление координаты по индексу\"\"\"\n",
    "        \n",
    "        self.coordinates.insert(index, value)\n",
    "        \n",
    "    def unique(self):\n",
    "        \"\"\"Возвращает уникальные элементы вектора\"\"\"\n",
    "        \n",
    "        is_not_unique = set()\n",
    "        result = []\n",
    "        \n",
    "        for elem in self.coordinates:\n",
    "            if (not elem in is_not_unique):\n",
    "                result.append(elem)\n",
    "                is_not_unique.add(elem)\n",
    "                \n",
    "        return result\n",
    "\n",
    "    pass"
   ]
  },
  {
   "cell_type": "markdown",
   "metadata": {},
   "source": [
    "##### Проверим, что наш класс работает правильно\n",
    "* Создадим вектор, выведем его, попробуем обратиться по индексу, выведем его длину"
   ]
  },
  {
   "cell_type": "code",
   "execution_count": 86,
   "metadata": {},
   "outputs": [
    {
     "name": "stdout",
     "output_type": "stream",
     "text": [
      "v1 --> Vector[0, 1, 2]\n",
      "v1[0] --> 0\n",
      "Длина вектора v1 --> 3\n"
     ]
    }
   ],
   "source": [
    "v1 = Vector(0, 1, 2)\n",
    "print('v1 --> {}'.format(v1))\n",
    "print('v1[0] --> {}'.format(v1[0]))\n",
    "print('Длина вектора v1 --> {}'.format(len(v1)))"
   ]
  },
  {
   "cell_type": "markdown",
   "metadata": {},
   "source": [
    "##### Доступ по индексу\n",
    "* Попробуем изменить координату вектора по индексу\n",
    "* Добавим координату в конец вектора"
   ]
  },
  {
   "cell_type": "code",
   "execution_count": 87,
   "metadata": {},
   "outputs": [
    {
     "name": "stdout",
     "output_type": "stream",
     "text": [
      "v2 --> Vector[0]\n",
      "and now v2 --> Vector[3]\n",
      "and now v2 --> Vector[3, 5]\n"
     ]
    }
   ],
   "source": [
    "v2 = Vector(0)\n",
    "print('v2 --> {}'.format(v2))\n",
    "\n",
    "v2[0]=3\n",
    "print('and now v2 --> {}'.format(v2))\n",
    "\n",
    "v2.push_back(5)\n",
    "print('and now v2 --> {}'.format(v2))"
   ]
  },
  {
   "cell_type": "markdown",
   "metadata": {},
   "source": [
    "##### Сумма\n",
    "* Создадим новый вектор\n",
    "* Выведем на экран сумму векторов "
   ]
  },
  {
   "cell_type": "code",
   "execution_count": 88,
   "metadata": {
    "scrolled": true
   },
   "outputs": [
    {
     "name": "stdout",
     "output_type": "stream",
     "text": [
      "v1 --> Vector[0, 1, 2] \n",
      "v3 --> Vector[2, 3, 4]\n",
      "Сумма v5 = v1 + v3 --> Vector[2, 4, 6]\n"
     ]
    }
   ],
   "source": [
    "v3 = Vector(2, 3, 4)\n",
    "v5 = v1 + v3\n",
    "\n",
    "print(\"v1 --> {} \\nv3 --> {}\".format(v1, v3))\n",
    "print(\"Сумма v5 = v1 + v3 --> {}\".format(v5))"
   ]
  },
  {
   "cell_type": "markdown",
   "metadata": {},
   "source": [
    "##### Разность\n",
    "* Выведем на экран разность векторов "
   ]
  },
  {
   "cell_type": "code",
   "execution_count": 89,
   "metadata": {
    "scrolled": true
   },
   "outputs": [
    {
     "name": "stdout",
     "output_type": "stream",
     "text": [
      "v5 --> Vector[2, 4, 6] \n",
      "v1 --> Vector[0, 1, 2]\n",
      "Разность v6 = v5 - v1 --> Vector[2, 3, 4]\n"
     ]
    }
   ],
   "source": [
    "v6 = v5 - v1\n",
    "\n",
    "print(\"v5 --> {} \\nv1 --> {}\".format(v5, v1))\n",
    "print(\"Разность v6 = v5 - v1 --> {}\".format(v6))"
   ]
  },
  {
   "cell_type": "markdown",
   "metadata": {},
   "source": [
    "##### Скалярное произведение\n",
    "* Выведем на экран скалярное произведение векторов "
   ]
  },
  {
   "cell_type": "code",
   "execution_count": 90,
   "metadata": {
    "scrolled": true
   },
   "outputs": [
    {
     "name": "stdout",
     "output_type": "stream",
     "text": [
      "v6 --> Vector[2, 3, 4] \n",
      "v5 --> Vector[2, 4, 6]\n",
      "Скалярное произведение (v6, v5) --> 40\n"
     ]
    }
   ],
   "source": [
    "scul_mult = v6 * v5\n",
    "\n",
    "print(\"v6 --> {} \\nv5 --> {}\".format(v6, v5))\n",
    "print(\"Скалярное произведение (v6, v5) --> {}\".format(scul_mult))"
   ]
  },
  {
   "cell_type": "markdown",
   "metadata": {},
   "source": [
    "##### Деление на число"
   ]
  },
  {
   "cell_type": "code",
   "execution_count": 91,
   "metadata": {
    "scrolled": false
   },
   "outputs": [
    {
     "name": "stdout",
     "output_type": "stream",
     "text": [
      "v6 --> Vector[2, 3, 4]\n",
      "Деление v6 div 2 --> Vector[1.0, 1.5, 2.0]\n"
     ]
    }
   ],
   "source": [
    "print(\"v6 --> {}\".format(v6))\n",
    "print(\"Деление v6 div 2 --> {}\".format(v6/2))"
   ]
  },
  {
   "cell_type": "markdown",
   "metadata": {},
   "source": [
    "##### Произведение матрицу на вектор "
   ]
  },
  {
   "cell_type": "code",
   "execution_count": 92,
   "metadata": {},
   "outputs": [
    {
     "name": "stdout",
     "output_type": "stream",
     "text": [
      "Matrix:\n",
      "[0, 2, 3]\n",
      "[9, 1, 1]\n",
      "v6 --> Vector[2, 3, 4]\n",
      "Произведение matrix, v6 --> Vector[18, 25]\n"
     ]
    }
   ],
   "source": [
    "matrix = [[0, 2, 3], [9, 1, 1]]\n",
    "\n",
    "print('Matrix:')\n",
    "for row in matrix:\n",
    "    print(row)\n",
    "print(\"v6 --> {}\".format(v6))\n",
    "print(\"Произведение matrix, v6 --> {}\".format(v6.matrix_mult(matrix)))"
   ]
  },
  {
   "cell_type": "markdown",
   "metadata": {},
   "source": [
    "#### Table (0.5 баллов)"
   ]
  },
  {
   "cell_type": "markdown",
   "metadata": {},
   "source": [
    "Реализуйте класс для работы с таблицами. Класс должен обладать следующей функциональностью:\n",
    "\n",
    "* Таблица может задаваться как двумерным списком, так и читаться из файла. Если читается из файла, то должен быть указан разделитель.\n",
    "\n",
    "* Обладать возможностью задания названия колонок (по номеру, если не задано). Если читается из файла и задан параметр наличия именованных колонок, то первая строчка файла отвечает за названия колонок.\n",
    "\n",
    "* Реализуйте доступ к колонкам по названю и по индекс:\n",
    "\n",
    "<code>t = Table()\n",
    "\n",
    "t[\"index\"]</code>\n",
    "\n",
    "* Реализуйте функции head и tail, которые показывают заданное число строк с начала и с конца соответственно.\n",
    "* Реадизуйте методы unique и count, которые выводят все уникальные элементы для таблицы или для заданного столбца:\n",
    "\n",
    "<code>\n",
    "\n",
    "t[\"sex\"].unique()\n",
    "\n",
    "t.unique()\n",
    "\n",
    "</code>"
   ]
  },
  {
   "cell_type": "code",
   "execution_count": 93,
   "metadata": {
    "collapsed": true
   },
   "outputs": [],
   "source": [
    "from colorama import Style"
   ]
  },
  {
   "cell_type": "code",
   "execution_count": 94,
   "metadata": {
    "collapsed": true
   },
   "outputs": [],
   "source": [
    "class Table(object):\n",
    "    \n",
    "    def __init__(self, table=None, column=None, transpose=True):\n",
    "        \"\"\"Таблица хранится как словарь Vector\n",
    "            параметры:\n",
    "                table: list of list | None\n",
    "                column: list | None\n",
    "                transpose: bool - показывает, нужно ли транспонировать входящую матрицу, или она уже транспонированная\"\"\"\n",
    "        \n",
    "        self.table = dict()\n",
    "        self.column = []\n",
    "        \n",
    "        if (isinstance(table, list)):\n",
    "            self.__read_header(column, True)\n",
    "            \n",
    "            if (transpose):\n",
    "                transposed_table = self.__transpose(table)\n",
    "            else:\n",
    "                transposed_table = table\n",
    "                \n",
    "            for col, row in zip(self.column, transposed_table):\n",
    "                self.table[col] = Vector(*row)\n",
    "            \n",
    "    def read_csv(self, file_name, sep=',', column=True):\n",
    "        \"\"\"Считывание таблицы из файла\n",
    "            Параметры:\n",
    "                file_namе: str\n",
    "                sep: str\n",
    "                column: list of str | None\"\"\" \n",
    "\n",
    "        with open(file_name, \"r\", encoding=\"utf-8\") as fin:\n",
    "            first_line = True\n",
    "            \n",
    "            for line in fin:\n",
    "                row = line.split(sep)\n",
    "                \n",
    "                if (first_line):\n",
    "                    self.__read_header(row, column)     \n",
    "                    first_line = False\n",
    "                    continue\n",
    "                    \n",
    "                assert(len(row) == len(self.column))\n",
    "                for ind, col in enumerate(self.column):\n",
    "                    self.table[col].push_back(row[ind])  \n",
    "                    \n",
    "            \n",
    "    def __getitem__(self, key):\n",
    "        \"\"\"Доступ к колонкам таблицы по индексу или по имени\n",
    "            параметры:\n",
    "                key: int | str\"\"\"\n",
    "        \n",
    "        if (isinstance(key, int)):\n",
    "            assert(key < len(self.column))\n",
    "            return self.table[self.column[key]]\n",
    "        \n",
    "        elif (isinstance(key, str)):\n",
    "            return self.table[key]\n",
    "        \n",
    "        else:\n",
    "            print('Wrong argument type')\n",
    "            \n",
    "    def head(self, row_num=3):\n",
    "        \"\"\"Возвращает заданное количество строк с начала таблицы\n",
    "            параметры:\n",
    "                row_num: int\"\"\"\n",
    "        \n",
    "        if (row_num >= len(self.table)):\n",
    "            return self\n",
    "        \n",
    "        new_table = []\n",
    "        \n",
    "        for col in self.column:\n",
    "            new_table.append(self[col][:row_num])\n",
    "        \n",
    "        return Table(new_table, self.column, transpose=False)\n",
    "    \n",
    "    def tail(self, row_num=3):\n",
    "        \"\"\"Возвращает заданное количество строк с конца таблицы\n",
    "            параметры:\n",
    "                    row_num: int\"\"\"\n",
    "        \n",
    "        if (row_num >= len(self.table)):\n",
    "            return self\n",
    "        \n",
    "        new_table = []\n",
    "            \n",
    "        for col in self.column:\n",
    "            new_table.append(self[col][-row_num:])\n",
    "        \n",
    "        return Table(new_table, self.column, transpose=False)\n",
    "\n",
    "    def unique(self, key):\n",
    "        \"\"\"Уникальные элементы для столбца\n",
    "            параметры:\n",
    "                key: int | str\"\"\"\n",
    "        \n",
    "        return self[key].unique()\n",
    "    \n",
    "    def count(self, key):\n",
    "        \"\"\"Количество уникальных элементов в столбце\n",
    "            параметры:\n",
    "                key: int | str\"\"\"\n",
    "        \n",
    "        return len(self[key].unique())\n",
    "    \n",
    "    def unique(self):\n",
    "        \"\"\"Уникальные элементы всей таблицы\"\"\"\n",
    "        \n",
    "        result = dict()\n",
    "        \n",
    "        for col in self.column:\n",
    "            result[col] = self[col].unique()\n",
    "        \n",
    "        return result\n",
    "    \n",
    "    def count(self):\n",
    "        \"\"\"Количество уникальных элементов во всей таблице\"\"\"\n",
    "        \n",
    "        loc_sum = 0\n",
    "        unique = self.unique()\n",
    "        \n",
    "        for key in unique.keys():\n",
    "            loc_sum += len(unique[key])\n",
    "            \n",
    "        return loc_sum\n",
    "                    \n",
    "    \"\"\"----------------------------------------------------------------------------------------------------------------------\n",
    "    Вспомогательные методы:\n",
    "        * Транспонирование матрицы\n",
    "        * Считываение заголовков столбцов\n",
    "        * Переопределение метода str()\n",
    "        * Переопределение метода len()\n",
    "        * Добавление строки к таблице\n",
    "        * Переопределение метода repr\n",
    "    ----------------------------------------------------------------------------------------------------------------------\"\"\"\n",
    "    \n",
    "    def __transpose(self, table):\n",
    "        \"\"\"Tранспонирует матрицу. \n",
    "        Параметры:\n",
    "            table: list of list\"\"\"\n",
    "        \n",
    "        transposed = []\n",
    "        for col in range(len(table[0])):\n",
    "            transposed.append([])\n",
    "            for row in table:\n",
    "                transposed[col].append(row[col])\n",
    "                \n",
    "        return transposed\n",
    "    \n",
    "    def __read_header(self, header, column=None):\n",
    "        \"\"\"Считывание заголовка\n",
    "            параметры:\n",
    "                header: list of str\n",
    "                column: bool - флаг, что у колонок есть названия\"\"\"\n",
    "        \n",
    "        if (not column == None):\n",
    "            self.column = header\n",
    "        else:\n",
    "            self.column = [str(i) for i in range(len(header))]\n",
    "\n",
    "        for col in self.column:\n",
    "            self.table[col] = Vector()\n",
    "    \n",
    "    def __str__(self):\n",
    "        \"\"\"Вывод таблицы\"\"\"\n",
    "        \n",
    "        table_str = ''\n",
    "        for col in range(len(self.column)):\n",
    "            table_str += Style.BRIGHT + '{:<15}'.format(self.column[col])\n",
    "        table_str += '\\n'\n",
    "        \n",
    "        for row in range(len(self)):\n",
    "            for col in self.column:\n",
    "                table_str += Style.NORMAL + '{:<15}'.format(self.table[col][row])\n",
    "            table_str += '\\n'\n",
    "            \n",
    "        return table_str\n",
    "            \n",
    "    def __len__(self):\n",
    "        \"\"\"Перегрузка метода len()\"\"\"\n",
    "        \n",
    "        return (len(self.table[self.column[0]]))\n",
    "    \n",
    "    def append(self, new_row):\n",
    "        \"\"\"Добавление строки к таблице\n",
    "            new_row: list\"\"\"\n",
    "        \n",
    "        assert(len(new_row) == len(self.column))\n",
    "        for col, elem in zip(self.column, new_row):\n",
    "            self[col].push_back(elem)\n",
    "            \n",
    "    def __repr__(self):\n",
    "        return self.__str__()\n",
    "    \n",
    "    pass"
   ]
  },
  {
   "cell_type": "markdown",
   "metadata": {},
   "source": [
    "##### Проверим, что таблица работает для списка списков\n",
    "* Создадим новую таблицу на основе списка списков\n",
    "* Выведем на экран"
   ]
  },
  {
   "cell_type": "code",
   "execution_count": 96,
   "metadata": {
    "scrolled": true
   },
   "outputs": [
    {
     "data": {
      "text/plain": [
       "\u001b[1mName           \u001b[1mSurname        \u001b[1mAge            \n",
       "\u001b[22mEgdeliya       \u001b[22mNurgalieva     \u001b[22m20             \n",
       "\u001b[22mOlga           \u001b[22mKalitova       \u001b[22m21             "
      ]
     },
     "execution_count": 96,
     "metadata": {},
     "output_type": "execute_result"
    }
   ],
   "source": [
    "l = [['Egdeliya', 'Nurgalieva', 20], ['Olga', 'Kalitova', 21]]\n",
    "l_table = Table(l, column=['Name', 'Surname', 'Age'])\n",
    "l_table"
   ]
  },
  {
   "cell_type": "markdown",
   "metadata": {},
   "source": [
    "##### Доступ к колонкам по имени или по индексу"
   ]
  },
  {
   "cell_type": "code",
   "execution_count": 97,
   "metadata": {
    "scrolled": true
   },
   "outputs": [
    {
     "name": "stdout",
     "output_type": "stream",
     "text": [
      "Vector['Egdeliya', 'Olga']\n",
      "Vector['Egdeliya', 'Olga']\n"
     ]
    }
   ],
   "source": [
    "print(l_table['Name'])\n",
    "print(l_table[0])"
   ]
  },
  {
   "cell_type": "markdown",
   "metadata": {},
   "source": [
    "##### Изменение колонки по индексу"
   ]
  },
  {
   "cell_type": "code",
   "execution_count": 98,
   "metadata": {
    "scrolled": true
   },
   "outputs": [
    {
     "data": {
      "text/plain": [
       "\u001b[1mName           \u001b[1mSurname        \u001b[1mAge            \n",
       "\u001b[22mDelya          \u001b[22mNurgalieva     \u001b[22m20             \n",
       "\u001b[22mOlga           \u001b[22mKalitova       \u001b[22m21             "
      ]
     },
     "execution_count": 98,
     "metadata": {},
     "output_type": "execute_result"
    }
   ],
   "source": [
    "l_table['Name'][0] = 'Delya'\n",
    "l_table"
   ]
  },
  {
   "cell_type": "markdown",
   "metadata": {},
   "source": [
    "##### Добавление нового столбца"
   ]
  },
  {
   "cell_type": "code",
   "execution_count": 99,
   "metadata": {
    "scrolled": false
   },
   "outputs": [
    {
     "name": "stdout",
     "output_type": "stream",
     "text": [
      "\u001b[1mName           \u001b[1mSurname        \u001b[1mAge            \n",
      "\u001b[22mDelya          \u001b[22mNurgalieva     \u001b[22m20             \n",
      "\u001b[22mOlga           \u001b[22mKalitova       \u001b[22m21             \n",
      "\u001b[22mGalina         \u001b[22mNurgalieva     \u001b[22m51             \n",
      "\n"
     ]
    }
   ],
   "source": [
    "new_row = ['Galina', 'Nurgalieva', 51]\n",
    "l_table.append(new_row)\n",
    "print(l_table)"
   ]
  },
  {
   "cell_type": "markdown",
   "metadata": {},
   "source": [
    "##### Вывод уникальных элементов для определённого столбца и для всей таблицы"
   ]
  },
  {
   "cell_type": "code",
   "execution_count": 100,
   "metadata": {
    "scrolled": false
   },
   "outputs": [
    {
     "name": "stdout",
     "output_type": "stream",
     "text": [
      "['Nurgalieva', 'Kalitova']\n",
      "{'Name': ['Delya', 'Olga', 'Galina'], 'Surname': ['Nurgalieva', 'Kalitova'], 'Age': [20, 21, 51]}\n"
     ]
    }
   ],
   "source": [
    "print(l_table['Surname'].unique())\n",
    "print(l_table.unique())"
   ]
  },
  {
   "cell_type": "markdown",
   "metadata": {},
   "source": [
    "##### Отображение заданного клоличества строк с начала и с конца таблицы"
   ]
  },
  {
   "cell_type": "code",
   "execution_count": 42,
   "metadata": {},
   "outputs": [
    {
     "name": "stdout",
     "output_type": "stream",
     "text": [
      "\u001b[1mName           \u001b[1mSurname        \u001b[1mAge            \n",
      "\u001b[22mDelya          \u001b[22mNurgalieva     \u001b[22m20             \n",
      "\u001b[22mOlga           \u001b[22mKalitova       \u001b[22m21             \n",
      "\n",
      "\u001b[1mName           \u001b[1mSurname        \u001b[1mAge            \n",
      "\u001b[22mGalina         \u001b[22mNurgalieva     \u001b[22m51             \n",
      "\n"
     ]
    }
   ],
   "source": [
    "print(l_table.head(2))\n",
    "l_table.tail(1)"
   ]
  },
  {
   "cell_type": "markdown",
   "metadata": {},
   "source": [
    "--------------------------------------------------------------------------------------------------------------------------------\n",
    "#### То же проделаем для таблицы, считанной из файла\n",
    "* Считаем таблицу из файла, выведем её на экран"
   ]
  },
  {
   "cell_type": "code",
   "execution_count": 43,
   "metadata": {
    "scrolled": false
   },
   "outputs": [
    {
     "name": "stdout",
     "output_type": "stream",
     "text": [
      "\u001b[1mHub            \u001b[1mZSP            \u001b[1mDate           \u001b[1mEnergyConsump\n",
      " \n",
      "\u001b[22mCenter         \u001b[22mFZSZOE27       \u001b[22m2010-01-01     \u001b[22m147487.17100000003\n",
      "\n",
      "\u001b[22mCenter         \u001b[22mFZSZOE27       \u001b[22m2010-04-29     \u001b[22m151487.84\n",
      "     \n",
      "\u001b[22mCenter         \u001b[22mFZSZOE27       \u001b[22m2010-04-30     \u001b[22m150162.47\n",
      "     \n",
      "\u001b[22mCenter         \u001b[22mFZSZOE27       \u001b[22m2010-11-16     \u001b[22m167903.641\n",
      "    \n",
      "\u001b[22mCenter         \u001b[22mFZSZOE27       \u001b[22m2010-11-17     \u001b[22m170350.466\n",
      "    \n",
      "\u001b[22mCenter         \u001b[22mFZSZOE27       \u001b[22m2010-11-18     \u001b[22m168839.582\n",
      "    \n",
      "\n"
     ]
    }
   ],
   "source": [
    "f_table = Table()\n",
    "f_table.read_csv('energy_consump.csv', column=True, sep=',')\n",
    "f_table"
   ]
  },
  {
   "cell_type": "markdown",
   "metadata": {},
   "source": [
    "#### Доступ по индексу, метод head(), метод len()"
   ]
  },
  {
   "cell_type": "code",
   "execution_count": 101,
   "metadata": {
    "scrolled": true
   },
   "outputs": [
    {
     "name": "stdout",
     "output_type": "stream",
     "text": [
      "\u001b[1mHub            \u001b[1mZSP            \u001b[1mDate           \u001b[1mEnergyConsump\n",
      " \n",
      "\u001b[22mHello          \u001b[22mFZSZOE27       \u001b[22m2010-01-01     \u001b[22m147487.17100000003\n",
      "\n",
      "\u001b[22mCenter         \u001b[22mFZSZOE27       \u001b[22m2010-04-29     \u001b[22m151487.84\n",
      "     \n",
      "\n",
      "Количество строк в f_table: 6\n"
     ]
    }
   ],
   "source": [
    "f_table['Hub'][0] = 'Hello'\n",
    "print(f_table.head(2))\n",
    "print(\"Количество строк в f_table: {}\".format(len(f_table)))"
   ]
  },
  {
   "cell_type": "markdown",
   "metadata": {},
   "source": [
    "##### Уникальные элементы для столбца"
   ]
  },
  {
   "cell_type": "code",
   "execution_count": 45,
   "metadata": {
    "scrolled": false
   },
   "outputs": [
    {
     "data": {
      "text/plain": [
       "['2010-01-01',\n",
       " '2010-04-29',\n",
       " '2010-04-30',\n",
       " '2010-11-16',\n",
       " '2010-11-17',\n",
       " '2010-11-18']"
      ]
     },
     "execution_count": 45,
     "metadata": {},
     "output_type": "execute_result"
    }
   ],
   "source": [
    "f_table['Date'].unique()"
   ]
  },
  {
   "cell_type": "markdown",
   "metadata": {},
   "source": [
    "##### Уникальные элементы для всей таблицы"
   ]
  },
  {
   "cell_type": "code",
   "execution_count": 102,
   "metadata": {},
   "outputs": [
    {
     "data": {
      "text/plain": [
       "{'Date': ['2010-01-01',\n",
       "  '2010-04-29',\n",
       "  '2010-04-30',\n",
       "  '2010-11-16',\n",
       "  '2010-11-17',\n",
       "  '2010-11-18'],\n",
       " 'EnergyConsump\\n': ['147487.17100000003\\n',\n",
       "  '151487.84\\n',\n",
       "  '150162.47\\n',\n",
       "  '167903.641\\n',\n",
       "  '170350.466\\n',\n",
       "  '168839.582\\n'],\n",
       " 'Hub': ['Hello', 'Center'],\n",
       " 'ZSP': ['FZSZOE27']}"
      ]
     },
     "execution_count": 102,
     "metadata": {},
     "output_type": "execute_result"
    }
   ],
   "source": [
    "f_table.unique()"
   ]
  },
  {
   "cell_type": "markdown",
   "metadata": {},
   "source": [
    "## Часть 2. Вглубь sklearn (дополнительное задание)"
   ]
  },
  {
   "cell_type": "markdown",
   "metadata": {},
   "source": [
    "#### BinaryBoosting (0.3 балла)\n",
    "Реализуйте двухклассовый бустинг с логистической функцией потерь. Вам предлагается ознакомится со структурой классов в sklearn.\n",
    "\n",
    "Теория для выполнения дз:\n",
    "* Hastie, The Elements of Statistical Learning, https://goo.gl/k3wfEU, 10 Boosting and Additive Trees 337\n",
    "* Соколов, Семинары по композиционным методам, https://goo.gl/sn8RyJ, http://goo.gl/ajNTQy\n",
    "\n",
    "P. S. Кому интересно, полное задание части 2 лежит <a href=\"https://github.com/ml-mipt/ml-mipt-part2/blob/master/2016/home_works/hw02_boosting_xgb/task2.ipynb\">тут</a>. Обязательной частью является только то, что приведено здесь."
   ]
  },
  {
   "cell_type": "code",
   "execution_count": 47,
   "metadata": {},
   "outputs": [
    {
     "name": "stderr",
     "output_type": "stream",
     "text": [
      "C:\\ProgramData\\Anaconda3\\lib\\site-packages\\sklearn\\cross_validation.py:44: DeprecationWarning: This module was deprecated in version 0.18 in favor of the model_selection module into which all the refactored classes and functions are moved. Also note that the interface of the new CV iterators are different from that of this module. This module will be removed in 0.20.\n",
      "  \"This module will be removed in 0.20.\", DeprecationWarning)\n"
     ]
    }
   ],
   "source": [
    "from sklearn.tree import DecisionTreeRegressor\n",
    "from sklearn.cross_validation import cross_val_score\n",
    "from sklearn.base import ClassifierMixin, BaseEstimator\n",
    "from sklearn.ensemble import GradientBoostingClassifier"
   ]
  },
  {
   "cell_type": "code",
   "execution_count": 48,
   "metadata": {
    "collapsed": true
   },
   "outputs": [],
   "source": [
    "import pandas as pd\n",
    "import numpy as np"
   ]
  },
  {
   "cell_type": "code",
   "execution_count": 6,
   "metadata": {},
   "outputs": [
    {
     "ename": "SyntaxError",
     "evalue": "invalid syntax (<ipython-input-6-251f553e9685>, line 16)",
     "output_type": "error",
     "traceback": [
      "\u001b[1;36m  File \u001b[1;32m\"<ipython-input-6-251f553e9685>\"\u001b[1;36m, line \u001b[1;32m16\u001b[0m\n\u001b[1;33m    estimator = <your code here>\u001b[0m\n\u001b[1;37m                ^\u001b[0m\n\u001b[1;31mSyntaxError\u001b[0m\u001b[1;31m:\u001b[0m invalid syntax\n"
     ]
    }
   ],
   "source": [
    "class BinaryBoostingClassifier(BaseEstimator, ClassifierMixin):\n",
    "    def __init__(self, n_estimators, lr=0.1):\n",
    "        self.lr = lr   \n",
    "        self.n_estimators = n_estimators\n",
    "\n",
    "    def loss_grad(self, original_y, pred_y):\n",
    "        # производная логистической функции потерь по pred_y\n",
    "        return original_y/(1 + np.exp(-1 * original_y * pred_y))# Градиент на кажом объекте\n",
    "\n",
    "    def fit(self, X, original_y):\n",
    "        # Храните базовые алгоритмы тут\n",
    "        self.estimators_ = [] \n",
    "\n",
    "        for i in range(self.n_estimators):\n",
    "            grad = self.loss_grad(original_y, self._predict(X))\n",
    "            # Настройте базовый алгоритм на градиент\n",
    "            estimator = DecisionTreeRegressor(max_depth=5).fit()\n",
    "            self.estimators_.append(estimator)\n",
    "\n",
    "        self.out_ = self.outliers(grad)\n",
    "\n",
    "        return self\n",
    "\n",
    "    def _predict(self, X):\n",
    "        y_pred = <Получите ответ композиции до применения решающего правила>\n",
    "        return y_pred\n",
    "    \n",
    "    def predict(self, X):\n",
    "        y_pred = <примените к self._predict решающее правило>\n",
    "        return y_pred\n",
    "    \n",
    "    def outliers(self, grad):\n",
    "        return # Топ-10 объектов с большим отступом"
   ]
  },
  {
   "cell_type": "markdown",
   "metadata": {},
   "source": [
    "Сравните с классификатором из sklearn на датасете:\n",
    "    https://archive.ics.uci.edu/ml/machine-learning-databases/adult/adult.data.\n",
    "\n",
    "Кросс-валидацию разрешается осуществлять только с помощью функции cross_val_score для обоих классификаторов (вашего и из библиотеки)."
   ]
  },
  {
   "cell_type": "code",
   "execution_count": 7,
   "metadata": {},
   "outputs": [
    {
     "name": "stdout",
     "output_type": "stream",
     "text": [
      "Wall time: 7.36 s\n"
     ]
    }
   ],
   "source": [
    "%%time\n",
    "data = pd.read_csv('https://archive.ics.uci.edu/ml/machine-learning-databases/adult/adult.data', sep=',', header=None)"
   ]
  },
  {
   "cell_type": "code",
   "execution_count": 309,
   "metadata": {},
   "outputs": [
    {
     "data": {
      "text/html": [
       "<div>\n",
       "<style>\n",
       "    .dataframe thead tr:only-child th {\n",
       "        text-align: right;\n",
       "    }\n",
       "\n",
       "    .dataframe thead th {\n",
       "        text-align: left;\n",
       "    }\n",
       "\n",
       "    .dataframe tbody tr th {\n",
       "        vertical-align: top;\n",
       "    }\n",
       "</style>\n",
       "<table border=\"1\" class=\"dataframe\">\n",
       "  <thead>\n",
       "    <tr style=\"text-align: right;\">\n",
       "      <th></th>\n",
       "      <th>0</th>\n",
       "      <th>1</th>\n",
       "      <th>2</th>\n",
       "      <th>3</th>\n",
       "      <th>4</th>\n",
       "      <th>5</th>\n",
       "      <th>6</th>\n",
       "      <th>7</th>\n",
       "      <th>8</th>\n",
       "      <th>9</th>\n",
       "      <th>10</th>\n",
       "      <th>11</th>\n",
       "      <th>12</th>\n",
       "      <th>13</th>\n",
       "      <th>14</th>\n",
       "    </tr>\n",
       "  </thead>\n",
       "  <tbody>\n",
       "    <tr>\n",
       "      <th>0</th>\n",
       "      <td>39</td>\n",
       "      <td>State-gov</td>\n",
       "      <td>77516</td>\n",
       "      <td>Bachelors</td>\n",
       "      <td>13</td>\n",
       "      <td>Never-married</td>\n",
       "      <td>Adm-clerical</td>\n",
       "      <td>Not-in-family</td>\n",
       "      <td>White</td>\n",
       "      <td>Male</td>\n",
       "      <td>2174</td>\n",
       "      <td>0</td>\n",
       "      <td>40</td>\n",
       "      <td>United-States</td>\n",
       "      <td>&lt;=50K</td>\n",
       "    </tr>\n",
       "    <tr>\n",
       "      <th>1</th>\n",
       "      <td>50</td>\n",
       "      <td>Self-emp-not-inc</td>\n",
       "      <td>83311</td>\n",
       "      <td>Bachelors</td>\n",
       "      <td>13</td>\n",
       "      <td>Married-civ-spouse</td>\n",
       "      <td>Exec-managerial</td>\n",
       "      <td>Husband</td>\n",
       "      <td>White</td>\n",
       "      <td>Male</td>\n",
       "      <td>0</td>\n",
       "      <td>0</td>\n",
       "      <td>13</td>\n",
       "      <td>United-States</td>\n",
       "      <td>&lt;=50K</td>\n",
       "    </tr>\n",
       "    <tr>\n",
       "      <th>2</th>\n",
       "      <td>38</td>\n",
       "      <td>Private</td>\n",
       "      <td>215646</td>\n",
       "      <td>HS-grad</td>\n",
       "      <td>9</td>\n",
       "      <td>Divorced</td>\n",
       "      <td>Handlers-cleaners</td>\n",
       "      <td>Not-in-family</td>\n",
       "      <td>White</td>\n",
       "      <td>Male</td>\n",
       "      <td>0</td>\n",
       "      <td>0</td>\n",
       "      <td>40</td>\n",
       "      <td>United-States</td>\n",
       "      <td>&lt;=50K</td>\n",
       "    </tr>\n",
       "    <tr>\n",
       "      <th>3</th>\n",
       "      <td>53</td>\n",
       "      <td>Private</td>\n",
       "      <td>234721</td>\n",
       "      <td>11th</td>\n",
       "      <td>7</td>\n",
       "      <td>Married-civ-spouse</td>\n",
       "      <td>Handlers-cleaners</td>\n",
       "      <td>Husband</td>\n",
       "      <td>Black</td>\n",
       "      <td>Male</td>\n",
       "      <td>0</td>\n",
       "      <td>0</td>\n",
       "      <td>40</td>\n",
       "      <td>United-States</td>\n",
       "      <td>&lt;=50K</td>\n",
       "    </tr>\n",
       "    <tr>\n",
       "      <th>4</th>\n",
       "      <td>28</td>\n",
       "      <td>Private</td>\n",
       "      <td>338409</td>\n",
       "      <td>Bachelors</td>\n",
       "      <td>13</td>\n",
       "      <td>Married-civ-spouse</td>\n",
       "      <td>Prof-specialty</td>\n",
       "      <td>Wife</td>\n",
       "      <td>Black</td>\n",
       "      <td>Female</td>\n",
       "      <td>0</td>\n",
       "      <td>0</td>\n",
       "      <td>40</td>\n",
       "      <td>Cuba</td>\n",
       "      <td>&lt;=50K</td>\n",
       "    </tr>\n",
       "  </tbody>\n",
       "</table>\n",
       "</div>"
      ],
      "text/plain": [
       "   0                  1       2           3   4                    5   \\\n",
       "0  39          State-gov   77516   Bachelors  13        Never-married   \n",
       "1  50   Self-emp-not-inc   83311   Bachelors  13   Married-civ-spouse   \n",
       "2  38            Private  215646     HS-grad   9             Divorced   \n",
       "3  53            Private  234721        11th   7   Married-civ-spouse   \n",
       "4  28            Private  338409   Bachelors  13   Married-civ-spouse   \n",
       "\n",
       "                   6               7       8        9     10  11  12  \\\n",
       "0        Adm-clerical   Not-in-family   White     Male  2174   0  40   \n",
       "1     Exec-managerial         Husband   White     Male     0   0  13   \n",
       "2   Handlers-cleaners   Not-in-family   White     Male     0   0  40   \n",
       "3   Handlers-cleaners         Husband   Black     Male     0   0  40   \n",
       "4      Prof-specialty            Wife   Black   Female     0   0  40   \n",
       "\n",
       "               13      14  \n",
       "0   United-States   <=50K  \n",
       "1   United-States   <=50K  \n",
       "2   United-States   <=50K  \n",
       "3   United-States   <=50K  \n",
       "4            Cuba   <=50K  "
      ]
     },
     "execution_count": 309,
     "metadata": {},
     "output_type": "execute_result"
    }
   ],
   "source": [
    "data.head()"
   ]
  },
  {
   "cell_type": "code",
   "execution_count": 11,
   "metadata": {
    "collapsed": true,
    "scrolled": true
   },
   "outputs": [],
   "source": [
    "target = 14"
   ]
  },
  {
   "cell_type": "code",
   "execution_count": 13,
   "metadata": {},
   "outputs": [
    {
     "data": {
      "text/html": [
       "<div>\n",
       "<style>\n",
       "    .dataframe thead tr:only-child th {\n",
       "        text-align: right;\n",
       "    }\n",
       "\n",
       "    .dataframe thead th {\n",
       "        text-align: left;\n",
       "    }\n",
       "\n",
       "    .dataframe tbody tr th {\n",
       "        vertical-align: top;\n",
       "    }\n",
       "</style>\n",
       "<table border=\"1\" class=\"dataframe\">\n",
       "  <thead>\n",
       "    <tr style=\"text-align: right;\">\n",
       "      <th></th>\n",
       "      <th>0</th>\n",
       "      <th>1</th>\n",
       "      <th>2</th>\n",
       "      <th>3</th>\n",
       "      <th>4</th>\n",
       "      <th>5</th>\n",
       "      <th>6</th>\n",
       "      <th>7</th>\n",
       "      <th>8</th>\n",
       "      <th>9</th>\n",
       "      <th>10</th>\n",
       "      <th>11</th>\n",
       "      <th>12</th>\n",
       "      <th>13</th>\n",
       "      <th>14</th>\n",
       "    </tr>\n",
       "  </thead>\n",
       "  <tbody>\n",
       "    <tr>\n",
       "      <th>0</th>\n",
       "      <td>39</td>\n",
       "      <td>State-gov</td>\n",
       "      <td>77516</td>\n",
       "      <td>Bachelors</td>\n",
       "      <td>13</td>\n",
       "      <td>Never-married</td>\n",
       "      <td>Adm-clerical</td>\n",
       "      <td>Not-in-family</td>\n",
       "      <td>White</td>\n",
       "      <td>Male</td>\n",
       "      <td>2174</td>\n",
       "      <td>0</td>\n",
       "      <td>40</td>\n",
       "      <td>United-States</td>\n",
       "      <td>-1</td>\n",
       "    </tr>\n",
       "    <tr>\n",
       "      <th>1</th>\n",
       "      <td>50</td>\n",
       "      <td>Self-emp-not-inc</td>\n",
       "      <td>83311</td>\n",
       "      <td>Bachelors</td>\n",
       "      <td>13</td>\n",
       "      <td>Married-civ-spouse</td>\n",
       "      <td>Exec-managerial</td>\n",
       "      <td>Husband</td>\n",
       "      <td>White</td>\n",
       "      <td>Male</td>\n",
       "      <td>0</td>\n",
       "      <td>0</td>\n",
       "      <td>13</td>\n",
       "      <td>United-States</td>\n",
       "      <td>-1</td>\n",
       "    </tr>\n",
       "    <tr>\n",
       "      <th>2</th>\n",
       "      <td>38</td>\n",
       "      <td>Private</td>\n",
       "      <td>215646</td>\n",
       "      <td>HS-grad</td>\n",
       "      <td>9</td>\n",
       "      <td>Divorced</td>\n",
       "      <td>Handlers-cleaners</td>\n",
       "      <td>Not-in-family</td>\n",
       "      <td>White</td>\n",
       "      <td>Male</td>\n",
       "      <td>0</td>\n",
       "      <td>0</td>\n",
       "      <td>40</td>\n",
       "      <td>United-States</td>\n",
       "      <td>-1</td>\n",
       "    </tr>\n",
       "    <tr>\n",
       "      <th>3</th>\n",
       "      <td>53</td>\n",
       "      <td>Private</td>\n",
       "      <td>234721</td>\n",
       "      <td>11th</td>\n",
       "      <td>7</td>\n",
       "      <td>Married-civ-spouse</td>\n",
       "      <td>Handlers-cleaners</td>\n",
       "      <td>Husband</td>\n",
       "      <td>Black</td>\n",
       "      <td>Male</td>\n",
       "      <td>0</td>\n",
       "      <td>0</td>\n",
       "      <td>40</td>\n",
       "      <td>United-States</td>\n",
       "      <td>-1</td>\n",
       "    </tr>\n",
       "    <tr>\n",
       "      <th>4</th>\n",
       "      <td>28</td>\n",
       "      <td>Private</td>\n",
       "      <td>338409</td>\n",
       "      <td>Bachelors</td>\n",
       "      <td>13</td>\n",
       "      <td>Married-civ-spouse</td>\n",
       "      <td>Prof-specialty</td>\n",
       "      <td>Wife</td>\n",
       "      <td>Black</td>\n",
       "      <td>Female</td>\n",
       "      <td>0</td>\n",
       "      <td>0</td>\n",
       "      <td>40</td>\n",
       "      <td>Cuba</td>\n",
       "      <td>-1</td>\n",
       "    </tr>\n",
       "  </tbody>\n",
       "</table>\n",
       "</div>"
      ],
      "text/plain": [
       "   0                  1       2           3   4                    5   \\\n",
       "0  39          State-gov   77516   Bachelors  13        Never-married   \n",
       "1  50   Self-emp-not-inc   83311   Bachelors  13   Married-civ-spouse   \n",
       "2  38            Private  215646     HS-grad   9             Divorced   \n",
       "3  53            Private  234721        11th   7   Married-civ-spouse   \n",
       "4  28            Private  338409   Bachelors  13   Married-civ-spouse   \n",
       "\n",
       "                   6               7       8        9     10  11  12  \\\n",
       "0        Adm-clerical   Not-in-family   White     Male  2174   0  40   \n",
       "1     Exec-managerial         Husband   White     Male     0   0  13   \n",
       "2   Handlers-cleaners   Not-in-family   White     Male     0   0  40   \n",
       "3   Handlers-cleaners         Husband   Black     Male     0   0  40   \n",
       "4      Prof-specialty            Wife   Black   Female     0   0  40   \n",
       "\n",
       "               13  14  \n",
       "0   United-States  -1  \n",
       "1   United-States  -1  \n",
       "2   United-States  -1  \n",
       "3   United-States  -1  \n",
       "4            Cuba  -1  "
      ]
     },
     "execution_count": 13,
     "metadata": {},
     "output_type": "execute_result"
    }
   ],
   "source": [
    "data[target] = data[target].apply(lambda arg : 1 if (arg == '<=50K') else -1)\n",
    "data.head()"
   ]
  },
  {
   "cell_type": "code",
   "execution_count": 103,
   "metadata": {
    "collapsed": true
   },
   "outputs": [],
   "source": [
    "classifier = GradientBoostingClassifier()"
   ]
  },
  {
   "cell_type": "code",
   "execution_count": 104,
   "metadata": {},
   "outputs": [
    {
     "ename": "NameError",
     "evalue": "name 'data' is not defined",
     "output_type": "error",
     "traceback": [
      "\u001b[1;31m---------------------------------------------------------------------------\u001b[0m",
      "\u001b[1;31mNameError\u001b[0m                                 Traceback (most recent call last)",
      "\u001b[1;32m<ipython-input-104-531e5bf56ed4>\u001b[0m in \u001b[0;36m<module>\u001b[1;34m()\u001b[0m\n\u001b[1;32m----> 1\u001b[1;33m \u001b[0mscore\u001b[0m \u001b[1;33m=\u001b[0m \u001b[0mcross_val_score\u001b[0m\u001b[1;33m(\u001b[0m\u001b[0mclassifier\u001b[0m\u001b[1;33m,\u001b[0m \u001b[0mdata\u001b[0m\u001b[1;33m.\u001b[0m\u001b[0mloc\u001b[0m\u001b[1;33m[\u001b[0m\u001b[1;33m:\u001b[0m\u001b[1;33m,\u001b[0m \u001b[1;33m:\u001b[0m\u001b[1;36m14\u001b[0m\u001b[1;33m]\u001b[0m\u001b[1;33m,\u001b[0m \u001b[0mdata\u001b[0m\u001b[1;33m.\u001b[0m\u001b[0mloc\u001b[0m\u001b[1;33m[\u001b[0m\u001b[1;33m:\u001b[0m\u001b[1;33m,\u001b[0m \u001b[1;36m14\u001b[0m\u001b[1;33m]\u001b[0m\u001b[1;33m)\u001b[0m\u001b[1;33m\u001b[0m\u001b[0m\n\u001b[0m",
      "\u001b[1;31mNameError\u001b[0m: name 'data' is not defined"
     ]
    }
   ],
   "source": [
    "score = cross_val_score(classifier, data.loc[:, :14], data.loc[:, 14])"
   ]
  },
  {
   "cell_type": "code",
   "execution_count": null,
   "metadata": {
    "collapsed": true
   },
   "outputs": [],
   "source": []
  }
 ],
 "metadata": {
  "kernelspec": {
   "display_name": "Python 3",
   "language": "python",
   "name": "python3"
  },
  "language_info": {
   "codemirror_mode": {
    "name": "ipython",
    "version": 3
   },
   "file_extension": ".py",
   "mimetype": "text/x-python",
   "name": "python",
   "nbconvert_exporter": "python",
   "pygments_lexer": "ipython3",
   "version": "3.6.1"
  }
 },
 "nbformat": 4,
 "nbformat_minor": 2
}
