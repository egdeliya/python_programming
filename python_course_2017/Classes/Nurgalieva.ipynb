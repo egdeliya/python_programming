{
 "cells": [
  {
   "cell_type": "markdown",
   "metadata": {},
   "source": [
    "# Задание 3\n",
    "### Часть 1. Magic functions"
   ]
  },
  {
   "cell_type": "markdown",
   "metadata": {},
   "source": [
    "#### CounterGetter (0.1 балл)\n",
    "Реализуйте класс CounterGetter, который на вход принимает произвольное количество именованых аргументов и считает количество обращений к полям и методам класса во всех экземплярах."
   ]
  },
  {
   "cell_type": "code",
   "execution_count": 1,
   "metadata": {
    "collapsed": true
   },
   "outputs": [],
   "source": [
    "class CounterGetter(object):\n",
    "    \n",
    "    class_ref_counter = 0\n",
    "    \n",
    "    def __init__(self, **kwargs):\n",
    "        for key, val in kwargs.items():\n",
    "            self.__setattr__(key, val)\n",
    "            CounterGetter.class_ref_counter -= 1\n",
    "        CounterGetter.class_ref_counter += 1\n",
    "         \n",
    "    def __getattribute__(self, attr_name):\n",
    "        CounterGetter.class_ref_counter += 1\n",
    "        try:\n",
    "            value = object.__getattribute__(self, attr_name)\n",
    "            return value\n",
    "        except AttributeError:\n",
    "            print(str(self) + \" has no attribute {}\".format(attr_name))\n",
    "            return \n",
    "        \n",
    "    def __str__(self):\n",
    "        return \"CounterGetter object\"\n",
    "    \n",
    "    pass"
   ]
  },
  {
   "cell_type": "markdown",
   "metadata": {},
   "source": [
    "##### Напишем несколько тестов, создадим два экземпляра класса, и выведем на экран, сколько раз мы обращались к методам и атрибутам экземпляров класса"
   ]
  },
  {
   "cell_type": "code",
   "execution_count": 2,
   "metadata": {
    "scrolled": true
   },
   "outputs": [
    {
     "name": "stdout",
     "output_type": "stream",
     "text": [
      "Must be 1, actually is 1\n",
      "Must be 2, actually is 2\n"
     ]
    }
   ],
   "source": [
    "# должно быть +1\n",
    "first = CounterGetter(a=3, b=4)\n",
    "\n",
    "print(\"Must be 1, actually is {}\".format(CounterGetter.class_ref_counter))\n",
    "first.a\n",
    "print(\"Must be 2, actually is {}\".format(CounterGetter.class_ref_counter))"
   ]
  },
  {
   "cell_type": "code",
   "execution_count": 3,
   "metadata": {},
   "outputs": [
    {
     "name": "stdout",
     "output_type": "stream",
     "text": [
      "CounterGetter object has no attribute item\n",
      "Must be 3, actually is 3\n"
     ]
    }
   ],
   "source": [
    "# должно быть +1\n",
    "first.item\n",
    "\n",
    "print(\"Must be 3, actually is {}\".format(CounterGetter.class_ref_counter))"
   ]
  },
  {
   "cell_type": "code",
   "execution_count": 4,
   "metadata": {},
   "outputs": [
    {
     "name": "stdout",
     "output_type": "stream",
     "text": [
      "3\n",
      "4\n",
      "Must be 5, actually is 5\n"
     ]
    }
   ],
   "source": [
    "# должно быть +1\n",
    "first.a\n",
    "# должно быть +1\n",
    "first.b\n",
    "\n",
    "print(\"Must be 5, actually is {}\".format(CounterGetter.class_ref_counter))"
   ]
  },
  {
   "cell_type": "code",
   "execution_count": 5,
   "metadata": {},
   "outputs": [
    {
     "name": "stdout",
     "output_type": "stream",
     "text": [
      "Must be 6, actually is 6\n"
     ]
    }
   ],
   "source": [
    "# должно быть +1\n",
    "second = CounterGetter(s=\"hello, I'm second\")\n",
    "\n",
    "print(\"Must be 6, actually is {}\".format(CounterGetter.class_ref_counter))"
   ]
  },
  {
   "cell_type": "code",
   "execution_count": 6,
   "metadata": {},
   "outputs": [
    {
     "name": "stdout",
     "output_type": "stream",
     "text": [
      "Must be 7, actually is 7\n"
     ]
    }
   ],
   "source": [
    "# должно быть +1\n",
    "second.s\n",
    "print(\"Must be 7, actually is {}\".format(CounterGetter.class_ref_counter))"
   ]
  },
  {
   "cell_type": "markdown",
   "metadata": {},
   "source": [
    "#### Vector (0.4 балла)"
   ]
  },
  {
   "cell_type": "markdown",
   "metadata": {},
   "source": [
    "Реализуйте класс вектор, который должен обладать следующими свойствами:\n",
    "* Над экземплярами выполняются арифметические операции (+-\\*/). Операции могут выполняться как с числами, так и с векторами. Если второй операнд вектор, то верните их скалярное произведение, если число, выполните поэлементное действие.\n",
    "* Реализуйте доступ к элементам вектора по индексам:\n",
    "\n",
    "<code>vec = Vector(1, 2, 3)\n",
    "\n",
    "vec[0]</code>\n",
    "* Реализуйте умножение вектора на матрицу (Матрица задается двумерным списком).\n",
    "* Поддерживайте методы push_back, pop_back, insert.\n",
    "* Реализуйте поддержку функции len\n",
    "\n",
    "P. S. Запрещается использовать numpy и другие библиотеки по работе с векторами. Рекомендуется представлять элементы вектора как список."
   ]
  },
  {
   "cell_type": "code",
   "execution_count": 7,
   "metadata": {
    "collapsed": true
   },
   "outputs": [],
   "source": [
    "import math\n",
    "\n",
    "class Vector(object):\n",
    "    def __init__(self, *args):\n",
    "        \n",
    "        # сохраним координаты вектора\n",
    "        self.coordinates = []\n",
    "        for coord in args:\n",
    "            self.coordinates.append(coord)\n",
    "            \n",
    "    def __getitem__(self, key):\n",
    "        \"\"\"Доступ к элементам вектора по индексу\"\"\"\n",
    "        \n",
    "        assert(key < len(self) and type(key) == int)\n",
    "        return self.coordinates[key]\n",
    "    \n",
    "    def __setitem__(self, key, value):\n",
    "        \"\"\"Изменение элементов вектора по индексу\"\"\"\n",
    "        \n",
    "        assert(key < len(self) and type(key) == int)\n",
    "        self.coordinates[key] = value \n",
    "    \n",
    "    def __add__(self, other):\n",
    "        \"\"\"Операция сложения для векторов\"\"\" \n",
    "        res_coord = []\n",
    "        \n",
    "        if (type(other) == int):\n",
    "            for ind in range(len(self)):\n",
    "                res_coord.append(self[ind] + other)\n",
    "            return Vector(*res_coord)\n",
    "        \n",
    "        elif (str(other)[:6] == 'Vector'):\n",
    "            assert(len(other) == len(self))\n",
    "            for ind in range(len(self)):\n",
    "                res_coord.append(self[ind] + other[ind])\n",
    "            return Vector(*res_coord)\n",
    "        \n",
    "        else:\n",
    "            print(\"Wrong argument type\")\n",
    "            \n",
    "    def __sub__(self, other):\n",
    "        \"\"\"Операция вычитания для векторов\"\"\"\n",
    "        res_coord = []\n",
    "        \n",
    "        if (type(other) == int):\n",
    "            \n",
    "            for ind in range(len(self)):\n",
    "                res_coord.append(self[ind] - other)\n",
    "            return Vector(*res_coord)\n",
    "        \n",
    "        elif (str(other)[:6] == 'Vector'):\n",
    "            \n",
    "            assert(len(other) == len(self))\n",
    "            for ind in range(len(self)):\n",
    "                res_coord.append(self[ind] - other[ind])\n",
    "            return Vector(*res_coord)\n",
    "        \n",
    "        else:\n",
    "            print(\"Wrong argument type\")\n",
    "            \n",
    "    def __mul__(self, other):\n",
    "        \"\"\"Операция умножения для векторов\"\"\"\n",
    "                \n",
    "        if (type(other) == int):\n",
    "            res_coord = []\n",
    "            for ind in range(len(self)):\n",
    "                res_coord.append(self[ind] * other)\n",
    "            return Vector(*res_coord)\n",
    "        \n",
    "        elif (str(other)[:6] == 'Vector'):\n",
    "            assert(len(other) == len(self))\n",
    "            scul_sum = 0\n",
    "            for ind in range(len(self)):\n",
    "                scul_sum += self[ind] * other[ind]\n",
    "            return scul_sum\n",
    "        \n",
    "        else:\n",
    "            print(\"Wrong argument type\")\n",
    "            \n",
    "    def __truediv__(self, other):\n",
    "        \"\"\"Операция деления вектора на число\"\"\"\n",
    "                \n",
    "        if (type(other) == int and other != 0):\n",
    "            res_coord = []\n",
    "            for ind in range(len(self)):\n",
    "                res_coord.append(self[ind] / other)\n",
    "            return Vector(*res_coord)\n",
    "        \n",
    "        else:\n",
    "            print(\"Wrong argument\")\n",
    "            \n",
    "    def __len__(self):\n",
    "        return len(self.coordinates)\n",
    "        \n",
    "    def __str__(self):\n",
    "        \"\"\"преобразование вектора в строку для вывода и проверки типа\"\"\"\n",
    "        \n",
    "        return 'Vector{}'.format(self.coordinates)\n",
    "        \n",
    "    def matrix_mult(self, matrix):\n",
    "        \"\"\"Операция произведения матрицы на вектор\"\"\"\n",
    "        \n",
    "        assert(len(matrix) > 0 and len(matrix[0]) == len(self))\n",
    "        print(\"hello\")\n",
    "        res_coord = []\n",
    "        for row in range(len(matrix)):\n",
    "            res_coord.append(self * Vector(*matrix[row]))      \n",
    "        return Vector(*res_coord)\n",
    "\n",
    "    def push_back(self, value):\n",
    "        self.coordinates.append(value)\n",
    "    \n",
    "    def pop_back(self):\n",
    "        return self.coordinates.pop(len(self)-1)\n",
    "    \n",
    "    def insert(self, index, value):\n",
    "        self.coordinates.insert(index, value)\n",
    "\n",
    "    pass"
   ]
  },
  {
   "cell_type": "code",
   "execution_count": 9,
   "metadata": {},
   "outputs": [
    {
     "name": "stdout",
     "output_type": "stream",
     "text": [
      "<class '__main__.Vector'>\n",
      "Vector[0, 1, 2]\n",
      "3\n"
     ]
    }
   ],
   "source": [
    "v1 = Vector(0, 1, 2)\n",
    "v1[0]\n",
    "print(type(v1))\n",
    "print(v1)\n",
    "print(len(v1))"
   ]
  },
  {
   "cell_type": "code",
   "execution_count": 10,
   "metadata": {},
   "outputs": [
    {
     "data": {
      "text/plain": [
       "3"
      ]
     },
     "execution_count": 10,
     "metadata": {},
     "output_type": "execute_result"
    }
   ],
   "source": [
    "v2 = Vector(*[0])\n",
    "v2[0]\n",
    "v2[0]=3\n",
    "v2[0]"
   ]
  },
  {
   "cell_type": "code",
   "execution_count": 11,
   "metadata": {},
   "outputs": [
    {
     "name": "stdout",
     "output_type": "stream",
     "text": [
      "Vector[2, 4, 6]\n"
     ]
    }
   ],
   "source": [
    "v3 = Vector(2, 3, 4)\n",
    "v5 = v1 + v3\n",
    "print(v5)"
   ]
  },
  {
   "cell_type": "code",
   "execution_count": 12,
   "metadata": {},
   "outputs": [
    {
     "name": "stdout",
     "output_type": "stream",
     "text": [
      "Vector[2, 3, 4]\n"
     ]
    }
   ],
   "source": [
    "v6 = v5 - v1\n",
    "print(v6)"
   ]
  },
  {
   "cell_type": "code",
   "execution_count": 13,
   "metadata": {},
   "outputs": [
    {
     "name": "stdout",
     "output_type": "stream",
     "text": [
      "40\n"
     ]
    }
   ],
   "source": [
    "scul_mult = v6 * v5\n",
    "print(scul_mult)"
   ]
  },
  {
   "cell_type": "code",
   "execution_count": 14,
   "metadata": {},
   "outputs": [
    {
     "name": "stdout",
     "output_type": "stream",
     "text": [
      "Vector[1.0, 1.5, 2.0]\n"
     ]
    }
   ],
   "source": [
    "print(v6/2)"
   ]
  },
  {
   "cell_type": "code",
   "execution_count": 15,
   "metadata": {},
   "outputs": [
    {
     "name": "stdout",
     "output_type": "stream",
     "text": [
      "hello\n",
      "Vector[18, 25]\n"
     ]
    }
   ],
   "source": [
    "matrix = [[0, 2, 3], [9, 1, 1]]\n",
    "print(v6.matrix_mult(matrix))"
   ]
  },
  {
   "cell_type": "markdown",
   "metadata": {},
   "source": [
    "#### Table (0.5 баллов)"
   ]
  },
  {
   "cell_type": "markdown",
   "metadata": {},
   "source": [
    "Реализуйте класс для работы с таблицами. Класс должен обладать следующей функциональностью:\n",
    "\n",
    "* Таблица может задаваться как двумерным списком, так и читаться из файла. Если читается из файла, то должен быть указан разделитель.\n",
    "\n",
    "* Обладать возможностью задания названия колонок (по номеру, если не задано). Если читается из файла и задан параметр наличия именованных колонок, то первая строчка файла отвечает за названия колонок.\n",
    "\n",
    "* Реализуйте доступ к колонкам по названю и по индекс:\n",
    "\n",
    "<code>t = Table()\n",
    "\n",
    "t[\"index\"]</code>\n",
    "\n",
    "* Реализуйте функции head и tail, которые показывают заданное число строк с начала и с конца соответственно.\n",
    "* Реадизуйте методы unique и count, которые выводят все уникальные элементы для таблицы или для заданного столбца:\n",
    "\n",
    "<code>\n",
    "\n",
    "t[\"sex\"].unique()\n",
    "\n",
    "t.unique()\n",
    "\n",
    "</code>"
   ]
  },
  {
   "cell_type": "code",
   "execution_count": 75,
   "metadata": {},
   "outputs": [],
   "source": [
    "import pandas as pd\n",
    "from colorama import Style"
   ]
  },
  {
   "cell_type": "code",
   "execution_count": 16,
   "metadata": {},
   "outputs": [],
   "source": [
    "pd_test = pd.read_excel(\"test_table.xlsx\", encoding='ascii')"
   ]
  },
  {
   "cell_type": "code",
   "execution_count": 21,
   "metadata": {},
   "outputs": [],
   "source": [
    "# pd_test[0]"
   ]
  },
  {
   "cell_type": "code",
   "execution_count": 17,
   "metadata": {},
   "outputs": [
    {
     "data": {
      "text/html": [
       "<div>\n",
       "<style>\n",
       "    .dataframe thead tr:only-child th {\n",
       "        text-align: right;\n",
       "    }\n",
       "\n",
       "    .dataframe thead th {\n",
       "        text-align: left;\n",
       "    }\n",
       "\n",
       "    .dataframe tbody tr th {\n",
       "        vertical-align: top;\n",
       "    }\n",
       "</style>\n",
       "<table border=\"1\" class=\"dataframe\">\n",
       "  <thead>\n",
       "    <tr style=\"text-align: right;\">\n",
       "      <th></th>\n",
       "      <th>Name</th>\n",
       "      <th>Surname</th>\n",
       "      <th>Age</th>\n",
       "    </tr>\n",
       "  </thead>\n",
       "  <tbody>\n",
       "    <tr>\n",
       "      <th>0</th>\n",
       "      <td>Hello</td>\n",
       "      <td>Blala</td>\n",
       "      <td>13</td>\n",
       "    </tr>\n",
       "    <tr>\n",
       "      <th>1</th>\n",
       "      <td>My</td>\n",
       "      <td>Azaza</td>\n",
       "      <td>40</td>\n",
       "    </tr>\n",
       "    <tr>\n",
       "      <th>2</th>\n",
       "      <td>Name</td>\n",
       "      <td>Yeee</td>\n",
       "      <td>1</td>\n",
       "    </tr>\n",
       "    <tr>\n",
       "      <th>3</th>\n",
       "      <td>Is</td>\n",
       "      <td>Hahah</td>\n",
       "      <td>0</td>\n",
       "    </tr>\n",
       "  </tbody>\n",
       "</table>\n",
       "</div>"
      ],
      "text/plain": [
       "    Name Surname  Age\n",
       "0  Hello   Blala   13\n",
       "1     My   Azaza   40\n",
       "2   Name    Yeee    1\n",
       "3     Is   Hahah    0"
      ]
     },
     "execution_count": 17,
     "metadata": {},
     "output_type": "execute_result"
    }
   ],
   "source": [
    "pd_test.head()"
   ]
  },
  {
   "cell_type": "code",
   "execution_count": 23,
   "metadata": {},
   "outputs": [
    {
     "data": {
      "text/plain": [
       "NoneType"
      ]
     },
     "execution_count": 23,
     "metadata": {},
     "output_type": "execute_result"
    }
   ],
   "source": [
    "l = None\n",
    "type(l)"
   ]
  },
  {
   "cell_type": "code",
   "execution_count": 91,
   "metadata": {},
   "outputs": [],
   "source": [
    "class Table(object): \n",
    "    \n",
    "    def __init__(self, table=None, column=None):\n",
    "        \"\"\"Будем хранить таблицу как словарь листов, чтобы \n",
    "        можно было удобно организовать доступ по колонкам\"\"\"\n",
    "        \n",
    "        self.table = dict(list())\n",
    "        self.column = []\n",
    "        \n",
    "        if (type(table) == list):\n",
    "            if (column != None):\n",
    "                assert(len(column) == len(table[0]))\n",
    "                self.column = column\n",
    "            else:\n",
    "                self.column = [str(i) for i in range(len(table[0]))]\n",
    "                \n",
    "            transposed_table = self.transpose(table)\n",
    "            for col, row in zip(self.column, range(len(transposed_table))):\n",
    "                self.table[col] = transposed_table[row]\n",
    "            \n",
    "    def read_csv(self, file_name, sep=',', column=None):\n",
    "        with open(file_name, \"r\", encoding=\"utf-8\") as fin:\n",
    "            first_line = True\n",
    "            for line in fin:\n",
    "                row = line.split(sep)\n",
    "                if (first_line):\n",
    "                    if (not column == None):\n",
    "                        self.column = row\n",
    "                    else:\n",
    "                        self.column = [str(i) for i in range(len(row))]\n",
    "                    continue\n",
    "                first_line = False\n",
    "    \n",
    "    def transpose(self, table):\n",
    "        \"\"\"транспонирует матрицу \n",
    "        параметры:\n",
    "            table: list of list\"\"\"\n",
    "        \n",
    "        transposed_table = []\n",
    "        for col in range(len(table[0])):\n",
    "            transposed_table.append([])\n",
    "            for row in table:\n",
    "                transposed_table[col].append(row[col])\n",
    "                \n",
    "        return transposed_table\n",
    "    \n",
    "    def __str__(self):\n",
    "        \"\"\"Вывод таблицы\"\"\"\n",
    "        \n",
    "        table_str = ''\n",
    "        for col in range(len(self.column)):\n",
    "            table_str += Style.BRIGHT + '{:<15}'.format(self.column[col])\n",
    "        table_str += '\\n'\n",
    "        \n",
    "        for row in range(len(self)):\n",
    "            for col in self.column:\n",
    "                table_str += Style.NORMAL + '{:<15}'.format(self.table[col][row])\n",
    "            table_str += '\\n'\n",
    "            \n",
    "        return table_str\n",
    "            \n",
    "    def __len__(self):\n",
    "        return (len(self.table[self.column[0]]))\n",
    "    \n",
    "    pass"
   ]
  },
  {
   "cell_type": "code",
   "execution_count": 87,
   "metadata": {},
   "outputs": [
    {
     "name": "stdout",
     "output_type": "stream",
     "text": [
      "\u001b[1mName           \u001b[1mSurname        \u001b[1mAge            \n",
      "\u001b[22mEgdeliya       \u001b[22mNurgalieva     \u001b[22m20             \n",
      "\u001b[22mOlga           \u001b[22mKalitova       \u001b[22m21             \n",
      "\n"
     ]
    }
   ],
   "source": [
    "l = [['Egdeliya', 'Nurgalieva', 20], ['Olga', 'Kalitova', 21]]\n",
    "l_table = Table(l, column=['Name', 'Surname', 'Age'])\n",
    "print(l_table)"
   ]
  },
  {
   "cell_type": "code",
   "execution_count": 90,
   "metadata": {},
   "outputs": [
    {
     "name": "stdout",
     "output_type": "stream",
     "text": [
      "False\n"
     ]
    }
   ],
   "source": [
    "d = {1 : [1, 2], 3:4}\n",
    "len(d)\n",
    "print(\"dfsd\" == None)"
   ]
  },
  {
   "cell_type": "code",
   "execution_count": null,
   "metadata": {
    "collapsed": true
   },
   "outputs": [],
   "source": [
    "l_test = list()"
   ]
  },
  {
   "cell_type": "code",
   "execution_count": 93,
   "metadata": {},
   "outputs": [
    {
     "name": "stdout",
     "output_type": "stream",
     "text": [
      "Hub,ZSP,Date,EnergyConsump,Temp1,Temp2,Temp3,Temp4,Temp5,Temp6,Temp7,Saturday,Sunday,Temp1_South_Less,Temp2_South_Less,Temp3_South_Less,Temp4_South_Less,Temp1_South_Gr,Temp2_South_Gr,Temp3_South_Gr,Temp4_South_Gr\n",
      "\n",
      "Center,FZSZOE27,2010-01-01,147487.17100000003,-17.8,-16.9,,,,,,0.0,1.0,,,,,,,,\n",
      "\n",
      "Center,FZSZOE27,2010-04-29,151487.84,5.0,1.1,,,,,,0.0,0.0,,,,,,,,\n",
      "\n",
      "Center,FZSZOE27,2010-04-30,150162.47,11.5,5.1,,,,,,0.0,0.0,,,,,,,,\n",
      "\n",
      "Center,FZSZOE27,2010-11-16,167903.641,6.2,-1.1,,,,,,0.0,0.0,,,,,,,,\n",
      "\n",
      "Center,FZSZOE27,2010-11-17,170350.466,0.6,-5.6,,,,,,0.0,0.0,,,,,,,,\n",
      "\n",
      "Center,FZSZOE27,2010-11-18,168839.582,1.3,-6.5,,,,,,0.0,0.0,,,,,,,,\n",
      "\n",
      "Center,FZSZOE27,2010-11-19,170478.214,3.4,-6.9,,,,,,0.0,0.0,,,,,,,,\n",
      "\n",
      "Center,FZSZOE27,2010-11-20,161518.028,0.7,-7.8,,,,,,1.0,0.0,,,,,,,,\n",
      "\n",
      "Center,FZSZOE27,2010-11-21,159989.94300000003,-0.5,-9.0,,,,,,0.0,1.0,,,,,,,,\n",
      "\n",
      "Center,FZSZOE27,2010-11-22,173783.75900000005,-2.0,-7.1,,,,,,0.0,0.0,,,,,,,,\n",
      "\n",
      "Center,FZSZOE27,2010-11-23,175413.31999999998,-2.7,-8.8,,,,,,0.0,0.0,,,,,,,,\n",
      "\n",
      "Center,FZSZOE27,2010-11-24,178220.316,-4.0,-8.7,,,,,,0.0,0.0,,,,,,,,\n",
      "\n",
      "Center,FZSZOE27,2010-11-25,181017.95500000002,-6.9,-10.0,,,,,,0.0,0.0,,,,,,,,\n",
      "\n",
      "Center,FZSZOE27,2010-11-26,184595.451,-8.3,-10.5,,,,,,0.0,0.0,,,,,,,,\n",
      "\n"
     ]
    }
   ],
   "source": [
    "# t = Table()\n",
    "with open('energy_consump.csv', \"r\", encoding=\"utf-8\") as fin:\n",
    "    ind = 0\n",
    "    for line in fin:\n",
    "        print(line)"
   ]
  },
  {
   "cell_type": "markdown",
   "metadata": {},
   "source": [
    "## Часть 2. Вглубь sklearn (дополнительное задание)"
   ]
  },
  {
   "cell_type": "markdown",
   "metadata": {},
   "source": [
    "#### BinaryBoosting (0.3 балла)\n",
    "Реализуйте двухклассовый бустинг с логистической функцией потерь. Вам предлагается ознакомится со структурой классов в sklearn.\n",
    "\n",
    "Теория для выполнения дз:\n",
    "* Hastie, The Elements of Statistical Learning, https://goo.gl/k3wfEU, 10 Boosting and Additive Trees 337\n",
    "* Соколов, Семинары по композиционным методам, https://goo.gl/sn8RyJ, http://goo.gl/ajNTQy\n",
    "\n",
    "P. S. Кому интересно, полное задание части 2 лежит <a href=\"https://github.com/ml-mipt/ml-mipt-part2/blob/master/2016/home_works/hw02_boosting_xgb/task2.ipynb\">тут</a>. Обязательной частью является только то, что приведено здесь."
   ]
  },
  {
   "cell_type": "code",
   "execution_count": null,
   "metadata": {
    "collapsed": true
   },
   "outputs": [],
   "source": [
    "from sklearn.tree import DecisionTreeRegressor\n",
    "from sklearn.cross_validation import cross_val_score\n",
    "from sklearn.base import ClassifierMixin, BaseEstimator\n",
    "from sklearn.ensemble import GradientBoostingClassifier\n",
    "\n",
    "\n",
    "class BinaryBoostingClassifier(BaseEstimator, ClassifierMixin):\n",
    "    def __init__(self, n_estimators, lr=0.1):\n",
    "        self.lr = lr   \n",
    "        self.n_estimators = n_estimators\n",
    "\n",
    "    def loss_grad(self, original_y, pred_y):\n",
    "        return # Градиент на кажом объекте\n",
    "\n",
    "    def fit(self, X, original_y):\n",
    "        # Храните базовые алгоритмы тут\n",
    "        self.estimators_ = [] \n",
    "\n",
    "        for i in range(self.n_estimators):\n",
    "            grad = self.loss_grad(original_y, self._predict(X))\n",
    "            # Настройте базовый алгоритм на градиент\n",
    "            estimator = <your code here>\n",
    "            self.estimators_.append(estimator)\n",
    "\n",
    "        self.out_ = self.outliers(grad)\n",
    "\n",
    "        return self\n",
    "\n",
    "    def _predict(self, X):\n",
    "        y_pred = <Получите ответ композиции до применения решающего правила>\n",
    "        return y_pred\n",
    "    \n",
    "    def predict(self, X):\n",
    "        y_pred = <примените к self._predict решающее правило>\n",
    "        return y_pred\n",
    "    \n",
    "    def outliers(self, grad):\n",
    "        return # Топ-10 объектов с большим отступом"
   ]
  },
  {
   "cell_type": "markdown",
   "metadata": {},
   "source": [
    "Сравните с классификатором из sklearn на датасете:\n",
    "    https://archive.ics.uci.edu/ml/machine-learning-databases/adult/adult.data.\n",
    "\n",
    "Кросс-валидацию разрешается осуществлять только с помощью функции cross_val_score для обоих классификаторов (вашего и из библиотеки)."
   ]
  },
  {
   "cell_type": "code",
   "execution_count": null,
   "metadata": {
    "collapsed": true
   },
   "outputs": [],
   "source": [
    "<your code here>"
   ]
  }
 ],
 "metadata": {
  "kernelspec": {
   "display_name": "Python 3",
   "language": "python",
   "name": "python3"
  },
  "language_info": {
   "codemirror_mode": {
    "name": "ipython",
    "version": 3
   },
   "file_extension": ".py",
   "mimetype": "text/x-python",
   "name": "python",
   "nbconvert_exporter": "python",
   "pygments_lexer": "ipython3",
   "version": "3.6.1"
  }
 },
 "nbformat": 4,
 "nbformat_minor": 2
}
