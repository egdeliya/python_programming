{
 "cells": [
  {
   "cell_type": "markdown",
   "metadata": {},
   "source": [
    "# Задание 3\n",
    "### Часть 1. Magic functions"
   ]
  },
  {
   "cell_type": "markdown",
   "metadata": {},
   "source": [
    "#### CounterGetter (0.1 балл)\n",
    "Реализуйте класс CounterGetter, который на вход принимает произвольное количество именованых аргументов и считает количество обращений к полям и методам класса во всех экземплярах."
   ]
  },
  {
   "cell_type": "code",
   "execution_count": 257,
   "metadata": {
    "collapsed": true
   },
   "outputs": [],
   "source": [
    "class CounterGetter(object):\n",
    "    \n",
    "    class_ref_counter = 0\n",
    "    \n",
    "    def __init__(self, **kwargs):\n",
    "        for key, val in kwargs.items():\n",
    "            self.__setattr__(key, val)\n",
    "            CounterGetter.class_ref_counter -= 1\n",
    "        CounterGetter.class_ref_counter += 1\n",
    "         \n",
    "    def __getattribute__(self, attr_name):\n",
    "        try:\n",
    "            value = object.__getattribute__(self, attr_name)\n",
    "            CounterGetter.class_ref_counter += 1\n",
    "            return value\n",
    "        except AttributeError:\n",
    "            print(str(self) + \" has no attribute {}\".format(attr_name))\n",
    "            return \n",
    "        \n",
    "    def __str__(self):\n",
    "        return \"CounterGetter object\"\n",
    "    \n",
    "    pass"
   ]
  },
  {
   "cell_type": "markdown",
   "metadata": {},
   "source": [
    "##### Напишем несколько тестов, создадим два экземпляра класса, и выведем на экран, сколько раз мы обращались к методам и атрибутам экземпляров класса\n",
    "<img src=\"experiment.jpg\">"
   ]
  },
  {
   "cell_type": "code",
   "execution_count": 258,
   "metadata": {
    "scrolled": true
   },
   "outputs": [
    {
     "name": "stdout",
     "output_type": "stream",
     "text": [
      "Must be 1, actually is 1\n",
      "Must be 2, actually is 2\n"
     ]
    }
   ],
   "source": [
    "# должно быть +1\n",
    "first = CounterGetter(a=3, b=4)\n",
    "\n",
    "print(\"Must be 1, actually is {}\".format(CounterGetter.class_ref_counter))\n",
    "first.a\n",
    "print(\"Must be 2, actually is {}\".format(CounterGetter.class_ref_counter))"
   ]
  },
  {
   "cell_type": "code",
   "execution_count": 259,
   "metadata": {},
   "outputs": [
    {
     "name": "stdout",
     "output_type": "stream",
     "text": [
      "CounterGetter object has no attribute item\n",
      "Must be 2, actually is 2\n"
     ]
    }
   ],
   "source": [
    "# НЕ должно быть +1\n",
    "first.item\n",
    "\n",
    "print(\"Must be 2, actually is {}\".format(CounterGetter.class_ref_counter))"
   ]
  },
  {
   "cell_type": "code",
   "execution_count": 260,
   "metadata": {},
   "outputs": [
    {
     "name": "stdout",
     "output_type": "stream",
     "text": [
      "Must be 5, actually is 4\n"
     ]
    }
   ],
   "source": [
    "# должно быть +1\n",
    "first.a\n",
    "# должно быть +1\n",
    "first.b\n",
    "\n",
    "print(\"Must be 4, actually is {}\".format(CounterGetter.class_ref_counter))"
   ]
  },
  {
   "cell_type": "code",
   "execution_count": 261,
   "metadata": {},
   "outputs": [
    {
     "name": "stdout",
     "output_type": "stream",
     "text": [
      "Must be 6, actually is 5\n"
     ]
    }
   ],
   "source": [
    "# должно быть +1\n",
    "second = CounterGetter(s=\"hello, I'm second\")\n",
    "\n",
    "print(\"Must be 5, actually is {}\".format(CounterGetter.class_ref_counter))"
   ]
  },
  {
   "cell_type": "code",
   "execution_count": 6,
   "metadata": {},
   "outputs": [
    {
     "name": "stdout",
     "output_type": "stream",
     "text": [
      "Must be 7, actually is 7\n"
     ]
    }
   ],
   "source": [
    "# должно быть +1\n",
    "second.s\n",
    "print(\"Must be 6, actually is {}\".format(CounterGetter.class_ref_counter))"
   ]
  },
  {
   "cell_type": "markdown",
   "metadata": {},
   "source": [
    "#### Vector (0.4 балла)"
   ]
  },
  {
   "cell_type": "markdown",
   "metadata": {},
   "source": [
    "Реализуйте класс вектор, который должен обладать следующими свойствами:\n",
    "* Над экземплярами выполняются арифметические операции (+-\\*/). Операции могут выполняться как с числами, так и с векторами. Если второй операнд вектор, то верните их скалярное произведение, если число, выполните поэлементное действие.\n",
    "* Реализуйте доступ к элементам вектора по индексам:\n",
    "\n",
    "<code>vec = Vector(1, 2, 3)\n",
    "\n",
    "vec[0]</code>\n",
    "* Реализуйте умножение вектора на матрицу (Матрица задается двумерным списком).\n",
    "* Поддерживайте методы push_back, pop_back, insert.\n",
    "* Реализуйте поддержку функции len\n",
    "\n",
    "P. S. Запрещается использовать numpy и другие библиотеки по работе с векторами. Рекомендуется представлять элементы вектора как список."
   ]
  },
  {
   "cell_type": "code",
   "execution_count": 147,
   "metadata": {
    "collapsed": true
   },
   "outputs": [],
   "source": [
    "import math\n",
    "\n",
    "class Vector(object):\n",
    "    def __init__(self, *args):\n",
    "        \n",
    "        # сохраним координаты вектора\n",
    "        self.coordinates = []\n",
    "        for coord in args:\n",
    "            self.coordinates.append(coord)\n",
    "            \n",
    "    def __getitem__(self, key):\n",
    "        \"\"\"Доступ к элементам вектора по индексу\"\"\"\n",
    "\n",
    "        if (isinstance(key, int) or isinstance(key, slice)):\n",
    "            return self.coordinates[key]\n",
    "        \n",
    "        else:\n",
    "            print('Wrong argument type')\n",
    "        \n",
    "    \n",
    "    def __setitem__(self, key, value):\n",
    "        \"\"\"Изменение элементов вектора по индексу\"\"\"\n",
    "        \n",
    "        assert(key < len(self) and type(key) == int)\n",
    "        self.coordinates[key] = value \n",
    "    \n",
    "    def __add__(self, other):\n",
    "        \"\"\"Операция сложения для векторов\"\"\" \n",
    "        res_coord = []\n",
    "        \n",
    "        if (type(other) == int):\n",
    "            for ind in range(len(self)):\n",
    "                res_coord.append(self[ind] + other)\n",
    "            return Vector(*res_coord)\n",
    "        \n",
    "        elif (str(other)[:6] == 'Vector'):\n",
    "            assert(len(other) == len(self))\n",
    "            for ind in range(len(self)):\n",
    "                res_coord.append(self[ind] + other[ind])\n",
    "            return Vector(*res_coord)\n",
    "        \n",
    "        else:\n",
    "            print(\"Wrong argument type\")\n",
    "            \n",
    "    def __sub__(self, other):\n",
    "        \"\"\"Операция вычитания для векторов\"\"\"\n",
    "        res_coord = []\n",
    "        \n",
    "        if (type(other) == int):\n",
    "            \n",
    "            for ind in range(len(self)):\n",
    "                res_coord.append(self[ind] - other)\n",
    "            return Vector(*res_coord)\n",
    "        \n",
    "        elif (str(other)[:6] == 'Vector'):\n",
    "            \n",
    "            assert(len(other) == len(self))\n",
    "            for ind in range(len(self)):\n",
    "                res_coord.append(self[ind] - other[ind])\n",
    "            return Vector(*res_coord)\n",
    "        \n",
    "        else:\n",
    "            print(\"Wrong argument type\")\n",
    "            \n",
    "    def __mul__(self, other):\n",
    "        \"\"\"Операция умножения для векторов\"\"\"\n",
    "                \n",
    "        if (type(other) == int):\n",
    "            res_coord = []\n",
    "            for ind in range(len(self)):\n",
    "                res_coord.append(self[ind] * other)\n",
    "            return Vector(*res_coord)\n",
    "        \n",
    "        elif (str(other)[:6] == 'Vector'):\n",
    "            assert(len(other) == len(self))\n",
    "            scul_sum = 0\n",
    "            for ind in range(len(self)):\n",
    "                scul_sum += self[ind] * other[ind]\n",
    "            return scul_sum\n",
    "        \n",
    "        else:\n",
    "            print(\"Wrong argument type\")\n",
    "            \n",
    "    def __truediv__(self, other):\n",
    "        \"\"\"Операция деления вектора на число\"\"\"\n",
    "                \n",
    "        if (type(other) == int and other != 0):\n",
    "            res_coord = []\n",
    "            for ind in range(len(self)):\n",
    "                res_coord.append(self[ind] / other)\n",
    "            return Vector(*res_coord)\n",
    "        \n",
    "        else:\n",
    "            print(\"Wrong argument\")\n",
    "            \n",
    "    def __len__(self):\n",
    "        return len(self.coordinates)\n",
    "        \n",
    "    def __str__(self):\n",
    "        \"\"\"преобразование вектора в строку для вывода и проверки типа\"\"\"\n",
    "        \n",
    "        return 'Vector{}'.format(self.coordinates)\n",
    "        \n",
    "    def matrix_mult(self, matrix):\n",
    "        \"\"\"Операция произведения матрицы на вектор\"\"\"\n",
    "        \n",
    "        assert(len(matrix) > 0 and len(matrix[0]) == len(self))\n",
    "        print(\"hello\")\n",
    "        res_coord = []\n",
    "        for row in range(len(matrix)):\n",
    "            res_coord.append(self * Vector(*matrix[row]))      \n",
    "        return Vector(*res_coord)\n",
    "\n",
    "    def push_back(self, value):\n",
    "        self.coordinates.append(value)\n",
    "    \n",
    "    def pop_back(self):\n",
    "        return self.coordinates.pop(len(self)-1)\n",
    "    \n",
    "    def insert(self, index, value):\n",
    "        self.coordinates.insert(index, value)\n",
    "        \n",
    "    def unique(self):\n",
    "        \"\"\"Возвращает уникальные элементы вектора\"\"\"\n",
    "        \n",
    "        is_not_unique = set()\n",
    "        result = []\n",
    "        \n",
    "        for elem in self.coordinates:\n",
    "            if (not elem in is_not_unique):\n",
    "                result.append(elem)\n",
    "                is_not_unique.add(elem)\n",
    "                \n",
    "        return result\n",
    "\n",
    "    pass"
   ]
  },
  {
   "cell_type": "markdown",
   "metadata": {},
   "source": []
  },
  {
   "cell_type": "code",
   "execution_count": 148,
   "metadata": {},
   "outputs": [
    {
     "name": "stdout",
     "output_type": "stream",
     "text": [
      "<class '__main__.Vector'>\n",
      "Vector[0, 1, 2]\n",
      "3\n"
     ]
    }
   ],
   "source": [
    "v1 = Vector(0, 1, 2)\n",
    "v1[0]\n",
    "print(type(v1))\n",
    "print(v1)\n",
    "print(len(v1))"
   ]
  },
  {
   "cell_type": "code",
   "execution_count": 149,
   "metadata": {},
   "outputs": [
    {
     "data": {
      "text/plain": [
       "3"
      ]
     },
     "execution_count": 149,
     "metadata": {},
     "output_type": "execute_result"
    }
   ],
   "source": [
    "v2 = Vector(*[0])\n",
    "v2[0]\n",
    "v2[0]=3\n",
    "v2[0]"
   ]
  },
  {
   "cell_type": "code",
   "execution_count": 150,
   "metadata": {},
   "outputs": [
    {
     "name": "stdout",
     "output_type": "stream",
     "text": [
      "Vector[2, 4, 6]\n"
     ]
    }
   ],
   "source": [
    "v3 = Vector(2, 3, 4)\n",
    "v5 = v1 + v3\n",
    "print(v5)"
   ]
  },
  {
   "cell_type": "code",
   "execution_count": 151,
   "metadata": {},
   "outputs": [
    {
     "name": "stdout",
     "output_type": "stream",
     "text": [
      "Vector[2, 3, 4]\n"
     ]
    }
   ],
   "source": [
    "v6 = v5 - v1\n",
    "print(v6)"
   ]
  },
  {
   "cell_type": "code",
   "execution_count": 152,
   "metadata": {},
   "outputs": [
    {
     "name": "stdout",
     "output_type": "stream",
     "text": [
      "40\n"
     ]
    }
   ],
   "source": [
    "scul_mult = v6 * v5\n",
    "print(scul_mult)"
   ]
  },
  {
   "cell_type": "code",
   "execution_count": 153,
   "metadata": {},
   "outputs": [
    {
     "name": "stdout",
     "output_type": "stream",
     "text": [
      "Vector[1.0, 1.5, 2.0]\n"
     ]
    }
   ],
   "source": [
    "print(v6/2)"
   ]
  },
  {
   "cell_type": "code",
   "execution_count": 154,
   "metadata": {},
   "outputs": [
    {
     "name": "stdout",
     "output_type": "stream",
     "text": [
      "hello\n",
      "Vector[18, 25]\n"
     ]
    }
   ],
   "source": [
    "matrix = [[0, 2, 3], [9, 1, 1]]\n",
    "print(v6.matrix_mult(matrix))"
   ]
  },
  {
   "cell_type": "markdown",
   "metadata": {},
   "source": [
    "#### Table (0.5 баллов)"
   ]
  },
  {
   "cell_type": "markdown",
   "metadata": {},
   "source": [
    "Реализуйте класс для работы с таблицами. Класс должен обладать следующей функциональностью:\n",
    "\n",
    "* Таблица может задаваться как двумерным списком, так и читаться из файла. Если читается из файла, то должен быть указан разделитель.\n",
    "\n",
    "* Обладать возможностью задания названия колонок (по номеру, если не задано). Если читается из файла и задан параметр наличия именованных колонок, то первая строчка файла отвечает за названия колонок.\n",
    "\n",
    "* Реализуйте доступ к колонкам по названю и по индекс:\n",
    "\n",
    "<code>t = Table()\n",
    "\n",
    "t[\"index\"]</code>\n",
    "\n",
    "* Реализуйте функции head и tail, которые показывают заданное число строк с начала и с конца соответственно.\n",
    "* Реадизуйте методы unique и count, которые выводят все уникальные элементы для таблицы или для заданного столбца:\n",
    "\n",
    "<code>\n",
    "\n",
    "t[\"sex\"].unique()\n",
    "\n",
    "t.unique()\n",
    "\n",
    "</code>"
   ]
  },
  {
   "cell_type": "code",
   "execution_count": 245,
   "metadata": {
    "collapsed": true
   },
   "outputs": [],
   "source": [
    "from colorama import Style"
   ]
  },
  {
   "cell_type": "code",
   "execution_count": 246,
   "metadata": {},
   "outputs": [],
   "source": [
    "class Table(Vector):\n",
    "    \n",
    "    def __init__(self, table=None, column=None, transpose=True):\n",
    "        \"\"\"Будем хранить таблицу как словарь Vector, чтобы \n",
    "        можно было удобно организовать доступ по колонкам\"\"\"\n",
    "        \n",
    "        self.table = dict()\n",
    "        self.column = []\n",
    "        \n",
    "        if (type(table) == list):\n",
    "            self.__read_header(column, True)\n",
    "            \n",
    "            if (transpose):\n",
    "                transposed_table = self.__transpose(table)\n",
    "            else:\n",
    "                transposed_table = table\n",
    "                \n",
    "            for col, row in zip(self.column, transposed_table):\n",
    "                self.table[col] = Vector(*row)\n",
    "            \n",
    "    def read_csv(self, file_name, sep=',', column=None):\n",
    "        \"\"\"Считывание таблицы из файла\"\"\"\n",
    "\n",
    "        with open(file_name, \"r\", encoding=\"utf-8\") as fin:\n",
    "            first_line = True\n",
    "            \n",
    "            for line in fin:\n",
    "                row = line.split(sep)\n",
    "                \n",
    "                if (first_line):\n",
    "                    self.__read_header(row, column)     \n",
    "                    first_line = False\n",
    "                    continue\n",
    "                    \n",
    "                assert(len(row) == len(self.column))\n",
    "                for ind, col in enumerate(self.column):\n",
    "                    self.table[col].push_back(row[ind])  \n",
    "                    \n",
    "            \n",
    "    def __getitem__(self, key):\n",
    "        \"\"\"Доступ к колонкам таблицы по индексу или по имени\"\"\"\n",
    "        \n",
    "        if (type(key) == int):\n",
    "            assert(key < len(self.column))\n",
    "            return self.table[self.column[key]]\n",
    "        \n",
    "        elif (type(key) == str):\n",
    "            return self.table[key]\n",
    "        \n",
    "        else:\n",
    "            print('Wrong argument type')\n",
    "            \n",
    "    def head(self, row_num=3):\n",
    "        \"\"\"Заданное количество строк с начала таблицы\"\"\"\n",
    "        \n",
    "        if (row_num >= len(self.table)):\n",
    "            return self\n",
    "        \n",
    "        new_table = []\n",
    "        \n",
    "        for col in self.column:\n",
    "            new_table.append(self[col][:row_num])\n",
    "        \n",
    "        return Table(new_table, self.column, transpose=False)\n",
    "    \n",
    "    def tail(self, row_num=3):\n",
    "        \"\"\"Заданное количество строк с конца таблицы\"\"\"\n",
    "        \n",
    "        if (row_num >= len(self.table)):\n",
    "            return self\n",
    "        \n",
    "        new_table = []\n",
    "            \n",
    "        for col in self.column:\n",
    "            new_table.append(self[col][-row_num:])\n",
    "#         new_table = self.__transpose(new_table)\n",
    "        \n",
    "        return Table(new_table, self.column, transpose=False)\n",
    "\n",
    "    def unique(self, key):\n",
    "        \"\"\"Уникальные элементы для столбца\"\"\"\n",
    "        \n",
    "        return self[key].unique()\n",
    "    \n",
    "    def count(self, key):\n",
    "        \"\"\"Количество уникальных элементов в столбце\"\"\"\n",
    "        \n",
    "        return len(self[key].unique())\n",
    "    \n",
    "    def unique(self):\n",
    "        \"\"\"Уникальные элементы всей таблицы\"\"\"\n",
    "        \n",
    "        result = dict()\n",
    "        \n",
    "        for col in self.column:\n",
    "            result[col] = self[col].unique()\n",
    "        \n",
    "        return result\n",
    "    \n",
    "    def count(self):\n",
    "        \"\"\"Количество уникальных элементов во всей таблице\"\"\"\n",
    "        \n",
    "        loc_sum = 0\n",
    "        unique = self.unique()\n",
    "        \n",
    "        for key in unique.keys():\n",
    "            loc_sum += len(unique[key])\n",
    "            \n",
    "        return loc_sum\n",
    "                    \n",
    "    \"\"\"----------------------------------------------------------------------------------------------------------------------\n",
    "    Вспомогательные методы:\n",
    "        * Транспонирование матрицы\n",
    "        * Считываение заголовков столбцов\n",
    "        * Переопределение метода str()\n",
    "        * Переопределение метода len()\n",
    "        * Добавление строки к таблице\n",
    "    ----------------------------------------------------------------------------------------------------------------------\"\"\"\n",
    "    \n",
    "    def __transpose(self, table):\n",
    "        \"\"\"Tранспонирует матрицу. \n",
    "        Параметры:\n",
    "            table: list of list\"\"\"\n",
    "        \n",
    "        transposed = []\n",
    "        for col in range(len(table[0])):\n",
    "            transposed.append([])\n",
    "            for row in table:\n",
    "                transposed[col].append(row[col])\n",
    "                \n",
    "        return transposed\n",
    "    \n",
    "    def __read_header(self, header, column=None):\n",
    "        \"\"\"Считывание заголовка\"\"\"\n",
    "        \n",
    "        if (not column == None):\n",
    "            self.column = header\n",
    "        else:\n",
    "            self.column = [str(i) for i in range(len(header))]\n",
    "\n",
    "        for col in self.column:\n",
    "            self.table[col] = Vector()\n",
    "    \n",
    "    def __str__(self):\n",
    "        \"\"\"Вывод таблицы\"\"\"\n",
    "        \n",
    "        table_str = ''\n",
    "        for col in range(len(self.column)):\n",
    "            table_str += Style.BRIGHT + '{:<15}'.format(self.column[col])\n",
    "        table_str += '\\n'\n",
    "        \n",
    "        for row in range(len(self)):\n",
    "            for col in self.column:\n",
    "                table_str += Style.NORMAL + '{:<15}'.format(self.table[col][row])\n",
    "            table_str += '\\n'\n",
    "            \n",
    "        return table_str\n",
    "            \n",
    "    def __len__(self):\n",
    "        \"\"\"Перегрузка метода len()\"\"\"\n",
    "        \n",
    "        return (len(self.table[self.column[0]]))\n",
    "    \n",
    "    def append(self, new_row):\n",
    "        \"\"\"Добавление строки к таблице\"\"\"\n",
    "        \n",
    "        assert(len(new_row) == len(self.column))\n",
    "        for col, elem in zip(self.column, new_row):\n",
    "            self[col].push_back(elem)\n",
    "    \n",
    "    pass"
   ]
  },
  {
   "cell_type": "code",
   "execution_count": 247,
   "metadata": {},
   "outputs": [
    {
     "name": "stdout",
     "output_type": "stream",
     "text": [
      "\u001b[1mName           \u001b[1mSurname        \u001b[1mAge            \n",
      "\u001b[22mEgdeliya       \u001b[22mNurgalieva     \u001b[22m20             \n",
      "\u001b[22mOlga           \u001b[22mKalitova       \u001b[22m21             \n",
      "\n"
     ]
    }
   ],
   "source": [
    "l = [['Egdeliya', 'Nurgalieva', 20], ['Olga', 'Kalitova', 21]]\n",
    "l_table = Table(l, column=['Name', 'Surname', 'Age'])\n",
    "print(l_table)"
   ]
  },
  {
   "cell_type": "code",
   "execution_count": 248,
   "metadata": {},
   "outputs": [
    {
     "name": "stdout",
     "output_type": "stream",
     "text": [
      "Vector['Egdeliya', 'Olga']\n",
      "Vector['Egdeliya', 'Olga']\n"
     ]
    }
   ],
   "source": [
    "print(l_table['Name'])\n",
    "print(l_table[0])"
   ]
  },
  {
   "cell_type": "code",
   "execution_count": 249,
   "metadata": {},
   "outputs": [
    {
     "name": "stdout",
     "output_type": "stream",
     "text": [
      "\u001b[1mName           \u001b[1mSurname        \u001b[1mAge            \n",
      "\u001b[22mDelya          \u001b[22mNurgalieva     \u001b[22m20             \n",
      "\u001b[22mOlga           \u001b[22mKalitova       \u001b[22m21             \n",
      "\n"
     ]
    }
   ],
   "source": [
    "l_table['Name'][0] = 'Delya'\n",
    "print(l_table)"
   ]
  },
  {
   "cell_type": "code",
   "execution_count": 250,
   "metadata": {
    "scrolled": true
   },
   "outputs": [
    {
     "name": "stdout",
     "output_type": "stream",
     "text": [
      "\u001b[1mName           \u001b[1mSurname        \u001b[1mAge            \n",
      "\u001b[22mDelya          \u001b[22mNurgalieva     \u001b[22m20             \n",
      "\u001b[22mOlga           \u001b[22mKalitova       \u001b[22m21             \n",
      "\u001b[22mGalina         \u001b[22mNurgalieva     \u001b[22m51             \n",
      "\n"
     ]
    }
   ],
   "source": [
    "new_row = ['Galina', 'Nurgalieva', 51]\n",
    "l_table.append(new_row)\n",
    "print(l_table)"
   ]
  },
  {
   "cell_type": "code",
   "execution_count": 251,
   "metadata": {
    "scrolled": true
   },
   "outputs": [
    {
     "name": "stdout",
     "output_type": "stream",
     "text": [
      "['Nurgalieva', 'Kalitova']\n",
      "{'Name': ['Delya', 'Olga', 'Galina'], 'Surname': ['Nurgalieva', 'Kalitova'], 'Age': [20, 21, 51]}\n"
     ]
    }
   ],
   "source": [
    "print(l_table['Surname'].unique())\n",
    "print(l_table.unique())"
   ]
  },
  {
   "cell_type": "code",
   "execution_count": 252,
   "metadata": {},
   "outputs": [
    {
     "name": "stdout",
     "output_type": "stream",
     "text": [
      "\u001b[1mName           \u001b[1mSurname        \u001b[1mAge            \n",
      "\u001b[22mDelya          \u001b[22mNurgalieva     \u001b[22m20             \n",
      "\u001b[22mOlga           \u001b[22mKalitova       \u001b[22m21             \n",
      "\n",
      "\u001b[1mName           \u001b[1mSurname        \u001b[1mAge            \n",
      "\u001b[22mGalina         \u001b[22mNurgalieva     \u001b[22m51             \n",
      "\n"
     ]
    }
   ],
   "source": [
    "print(l_table.head(2))\n",
    "print(l_table.tail(1))"
   ]
  },
  {
   "cell_type": "markdown",
   "metadata": {},
   "source": [
    "#### То же проделаем для таблицы, считанной из файла"
   ]
  },
  {
   "cell_type": "code",
   "execution_count": 253,
   "metadata": {
    "scrolled": true
   },
   "outputs": [
    {
     "name": "stdout",
     "output_type": "stream",
     "text": [
      "\u001b[1mHub            \u001b[1mZSP            \u001b[1mDate           \u001b[1mEnergyConsump\n",
      " \n",
      "\u001b[22mCenter         \u001b[22mFZSZOE27       \u001b[22m2010-01-01     \u001b[22m147487.17100000003\n",
      "\n",
      "\u001b[22mCenter         \u001b[22mFZSZOE27       \u001b[22m2010-04-29     \u001b[22m151487.84\n",
      "     \n",
      "\u001b[22mCenter         \u001b[22mFZSZOE27       \u001b[22m2010-04-30     \u001b[22m150162.47\n",
      "     \n",
      "\u001b[22mCenter         \u001b[22mFZSZOE27       \u001b[22m2010-11-16     \u001b[22m167903.641\n",
      "    \n",
      "\u001b[22mCenter         \u001b[22mFZSZOE27       \u001b[22m2010-11-17     \u001b[22m170350.466\n",
      "    \n",
      "\u001b[22mCenter         \u001b[22mFZSZOE27       \u001b[22m2010-11-18     \u001b[22m168839.582\n",
      "    \n",
      "\n"
     ]
    }
   ],
   "source": [
    "f_table = Table()\n",
    "f_table.read_csv('energy_consump.csv', column=True, sep=',')\n",
    "print(f_table)"
   ]
  },
  {
   "cell_type": "code",
   "execution_count": 254,
   "metadata": {},
   "outputs": [
    {
     "name": "stdout",
     "output_type": "stream",
     "text": [
      "\u001b[1mHub            \u001b[1mZSP            \u001b[1mDate           \u001b[1mEnergyConsump\n",
      " \n",
      "\u001b[22mHello          \u001b[22mFZSZOE27       \u001b[22m2010-01-01     \u001b[22m147487.17100000003\n",
      "\n",
      "\u001b[22mCenter         \u001b[22mFZSZOE27       \u001b[22m2010-04-29     \u001b[22m151487.84\n",
      "     \n",
      "\n",
      "6\n"
     ]
    }
   ],
   "source": [
    "f_table['Hub'][0] = 'Hello'\n",
    "print(f_table.head(2))\n",
    "print(len(f_table))"
   ]
  },
  {
   "cell_type": "code",
   "execution_count": 255,
   "metadata": {
    "scrolled": true
   },
   "outputs": [
    {
     "data": {
      "text/plain": [
       "['2010-01-01',\n",
       " '2010-04-29',\n",
       " '2010-04-30',\n",
       " '2010-11-16',\n",
       " '2010-11-17',\n",
       " '2010-11-18']"
      ]
     },
     "execution_count": 255,
     "metadata": {},
     "output_type": "execute_result"
    }
   ],
   "source": [
    "f_table['Date'].unique()"
   ]
  },
  {
   "cell_type": "code",
   "execution_count": 256,
   "metadata": {},
   "outputs": [
    {
     "data": {
      "text/plain": [
       "{'Date': ['2010-01-01',\n",
       "  '2010-04-29',\n",
       "  '2010-04-30',\n",
       "  '2010-11-16',\n",
       "  '2010-11-17',\n",
       "  '2010-11-18'],\n",
       " 'EnergyConsump\\n': ['147487.17100000003\\n',\n",
       "  '151487.84\\n',\n",
       "  '150162.47\\n',\n",
       "  '167903.641\\n',\n",
       "  '170350.466\\n',\n",
       "  '168839.582\\n'],\n",
       " 'Hub': ['Hello', 'Center'],\n",
       " 'ZSP': ['FZSZOE27']}"
      ]
     },
     "execution_count": 256,
     "metadata": {},
     "output_type": "execute_result"
    }
   ],
   "source": [
    "f_table.unique()"
   ]
  },
  {
   "cell_type": "markdown",
   "metadata": {},
   "source": [
    "## Часть 2. Вглубь sklearn (дополнительное задание)"
   ]
  },
  {
   "cell_type": "markdown",
   "metadata": {},
   "source": [
    "#### BinaryBoosting (0.3 балла)\n",
    "Реализуйте двухклассовый бустинг с логистической функцией потерь. Вам предлагается ознакомится со структурой классов в sklearn.\n",
    "\n",
    "Теория для выполнения дз:\n",
    "* Hastie, The Elements of Statistical Learning, https://goo.gl/k3wfEU, 10 Boosting and Additive Trees 337\n",
    "* Соколов, Семинары по композиционным методам, https://goo.gl/sn8RyJ, http://goo.gl/ajNTQy\n",
    "\n",
    "P. S. Кому интересно, полное задание части 2 лежит <a href=\"https://github.com/ml-mipt/ml-mipt-part2/blob/master/2016/home_works/hw02_boosting_xgb/task2.ipynb\">тут</a>. Обязательной частью является только то, что приведено здесь."
   ]
  },
  {
   "cell_type": "code",
   "execution_count": null,
   "metadata": {
    "collapsed": true
   },
   "outputs": [],
   "source": [
    "from sklearn.tree import DecisionTreeRegressor\n",
    "from sklearn.cross_validation import cross_val_score\n",
    "from sklearn.base import ClassifierMixin, BaseEstimator\n",
    "from sklearn.ensemble import GradientBoostingClassifier\n",
    "\n",
    "\n",
    "class BinaryBoostingClassifier(BaseEstimator, ClassifierMixin):\n",
    "    def __init__(self, n_estimators, lr=0.1):\n",
    "        self.lr = lr   \n",
    "        self.n_estimators = n_estimators\n",
    "\n",
    "    def loss_grad(self, original_y, pred_y):\n",
    "        return # Градиент на кажом объекте\n",
    "\n",
    "    def fit(self, X, original_y):\n",
    "        # Храните базовые алгоритмы тут\n",
    "        self.estimators_ = [] \n",
    "\n",
    "        for i in range(self.n_estimators):\n",
    "            grad = self.loss_grad(original_y, self._predict(X))\n",
    "            # Настройте базовый алгоритм на градиент\n",
    "            estimator = <your code here>\n",
    "            self.estimators_.append(estimator)\n",
    "\n",
    "        self.out_ = self.outliers(grad)\n",
    "\n",
    "        return self\n",
    "\n",
    "    def _predict(self, X):\n",
    "        y_pred = <Получите ответ композиции до применения решающего правила>\n",
    "        return y_pred\n",
    "    \n",
    "    def predict(self, X):\n",
    "        y_pred = <примените к self._predict решающее правило>\n",
    "        return y_pred\n",
    "    \n",
    "    def outliers(self, grad):\n",
    "        return # Топ-10 объектов с большим отступом"
   ]
  },
  {
   "cell_type": "markdown",
   "metadata": {},
   "source": [
    "Сравните с классификатором из sklearn на датасете:\n",
    "    https://archive.ics.uci.edu/ml/machine-learning-databases/adult/adult.data.\n",
    "\n",
    "Кросс-валидацию разрешается осуществлять только с помощью функции cross_val_score для обоих классификаторов (вашего и из библиотеки)."
   ]
  },
  {
   "cell_type": "code",
   "execution_count": null,
   "metadata": {
    "collapsed": true
   },
   "outputs": [],
   "source": [
    "<your code here>"
   ]
  }
 ],
 "metadata": {
  "kernelspec": {
   "display_name": "Python 3",
   "language": "python",
   "name": "python3"
  },
  "language_info": {
   "codemirror_mode": {
    "name": "ipython",
    "version": 3
   },
   "file_extension": ".py",
   "mimetype": "text/x-python",
   "name": "python",
   "nbconvert_exporter": "python",
   "pygments_lexer": "ipython3",
   "version": "3.6.1"
  }
 },
 "nbformat": 4,
 "nbformat_minor": 2
}
