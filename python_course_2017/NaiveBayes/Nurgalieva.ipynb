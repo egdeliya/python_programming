{
 "cells": [
  {
   "cell_type": "markdown",
   "metadata": {},
   "source": [
    "# Задание 1\n",
    "\n",
    "\n",
    "### Целью этого задания является знакомство со стандартными контейнерами и некторыми функциями из стандартных библиотек для машинного обучения.\n",
    "\n",
    "Напишите наивный байесовский классификатор и сравните его с реализацией NaiveBayesClassifier из библиотеки nltk.\n",
    "\n",
    "Написанный вами классификатор должен обладать следубщими свойствами:\n",
    "<ul>\n",
    "<li>В предложенном интерфейсе класса должны быть реализованы все методы и все поля. Для их хранения предподсчитанных данных рекомендуется использовать контейнеры Counter или defaultdict из библиотеки collections. Для предсказания категории рекомендуется использовать numpy.</li>\n",
    "<li>Должна использоваться модель, предложенная в теории.</li>\n",
    "<li>Точность предсказаний не менее <b>0.9</b>!</li>\n",
    "<li>После реализации класса протестируйте его с помощью кроссвалидации с k=10. Рекомендуется использовать класс KFold из библиотеки sklearn.</li>\n",
    "<li>Постройте постройте диаграмму размаха для классификаторов (своего и из библиотеки).</li>\n",
    "</ul>"
   ]
  },
  {
   "cell_type": "markdown",
   "metadata": {},
   "source": [
    "### Теория"
   ]
  },
  {
   "cell_type": "markdown",
   "metadata": {},
   "source": [
    "Теория находится в файле problems1-theory.pdf"
   ]
  },
  {
   "cell_type": "markdown",
   "metadata": {},
   "source": [
    "# Решение"
   ]
  },
  {
   "cell_type": "code",
   "execution_count": 1,
   "metadata": {},
   "outputs": [
    {
     "name": "stderr",
     "output_type": "stream",
     "text": [
      "C:\\ProgramData\\Anaconda3\\lib\\site-packages\\sklearn\\cross_validation.py:44: DeprecationWarning: This module was deprecated in version 0.18 in favor of the model_selection module into which all the refactored classes and functions are moved. Also note that the interface of the new CV iterators are different from that of this module. This module will be removed in 0.20.\n",
      "  \"This module will be removed in 0.20.\", DeprecationWarning)\n"
     ]
    },
    {
     "name": "stdout",
     "output_type": "stream",
     "text": [
      "Populating the interactive namespace from numpy and matplotlib\n"
     ]
    },
    {
     "name": "stderr",
     "output_type": "stream",
     "text": [
      "C:\\ProgramData\\Anaconda3\\lib\\site-packages\\IPython\\core\\magics\\pylab.py:161: UserWarning: pylab import has clobbered these variables: ['log']\n",
      "`%matplotlib` prevents importing * from pylab and numpy\n",
      "  \"\\n`%matplotlib` prevents importing * from pylab and numpy\"\n"
     ]
    }
   ],
   "source": [
    "import pandas as pd\n",
    "import numpy as np\n",
    "from math import log\n",
    "from collections import Counter, defaultdict\n",
    "from sklearn.cross_validation import KFold\n",
    "from sklearn.metrics import accuracy_score\n",
    "from nltk import NaiveBayesClassifier\n",
    "from matplotlib import pyplot as plt\n",
    "\n",
    "%pylab inline"
   ]
  },
  {
   "cell_type": "markdown",
   "metadata": {},
   "source": [
    "### Прочитайте данные из файла"
   ]
  },
  {
   "cell_type": "code",
   "execution_count": 2,
   "metadata": {
    "collapsed": true
   },
   "outputs": [],
   "source": [
    "data_path = \"ham-spam.csv\""
   ]
  },
  {
   "cell_type": "code",
   "execution_count": 3,
   "metadata": {
    "collapsed": true
   },
   "outputs": [],
   "source": [
    "# TODO: your code here\n",
    "data = pd.read_csv(data_path, header=0)"
   ]
  },
  {
   "cell_type": "code",
   "execution_count": 4,
   "metadata": {
    "scrolled": false
   },
   "outputs": [
    {
     "name": "stdout",
     "output_type": "stream",
     "text": [
      "target    object\n",
      "msg       object\n",
      "dtype: object\n"
     ]
    },
    {
     "data": {
      "text/html": [
       "<div>\n",
       "<style>\n",
       "    .dataframe thead tr:only-child th {\n",
       "        text-align: right;\n",
       "    }\n",
       "\n",
       "    .dataframe thead th {\n",
       "        text-align: left;\n",
       "    }\n",
       "\n",
       "    .dataframe tbody tr th {\n",
       "        vertical-align: top;\n",
       "    }\n",
       "</style>\n",
       "<table border=\"1\" class=\"dataframe\">\n",
       "  <thead>\n",
       "    <tr style=\"text-align: right;\">\n",
       "      <th></th>\n",
       "      <th>target</th>\n",
       "      <th>msg</th>\n",
       "    </tr>\n",
       "  </thead>\n",
       "  <tbody>\n",
       "    <tr>\n",
       "      <th>0</th>\n",
       "      <td>ham</td>\n",
       "      <td>Subject : re : 2 . 882 s - &gt; np np &gt; date : su...</td>\n",
       "    </tr>\n",
       "    <tr>\n",
       "      <th>1</th>\n",
       "      <td>ham</td>\n",
       "      <td>Subject : s - &gt; np + np the discussion of s - ...</td>\n",
       "    </tr>\n",
       "    <tr>\n",
       "      <th>2</th>\n",
       "      <td>ham</td>\n",
       "      <td>Subject : 2 . 882 s - &gt; np np . . . for me it ...</td>\n",
       "    </tr>\n",
       "    <tr>\n",
       "      <th>3</th>\n",
       "      <td>ham</td>\n",
       "      <td>Subject : gent conference \" for the listserv \"...</td>\n",
       "    </tr>\n",
       "    <tr>\n",
       "      <th>4</th>\n",
       "      <td>ham</td>\n",
       "      <td>Subject : query : causatives in korean could a...</td>\n",
       "    </tr>\n",
       "  </tbody>\n",
       "</table>\n",
       "</div>"
      ],
      "text/plain": [
       "  target                                                msg\n",
       "0    ham  Subject : re : 2 . 882 s - > np np > date : su...\n",
       "1    ham  Subject : s - > np + np the discussion of s - ...\n",
       "2    ham  Subject : 2 . 882 s - > np np . . . for me it ...\n",
       "3    ham  Subject : gent conference \" for the listserv \"...\n",
       "4    ham  Subject : query : causatives in korean could a..."
      ]
     },
     "execution_count": 4,
     "metadata": {},
     "output_type": "execute_result"
    }
   ],
   "source": [
    "print(data.dtypes)\n",
    "data.head()"
   ]
  },
  {
   "cell_type": "markdown",
   "metadata": {},
   "source": [
    "### Реализуйте все методы в классе NaiveBayes"
   ]
  },
  {
   "cell_type": "code",
   "execution_count": 5,
   "metadata": {
    "collapsed": true
   },
   "outputs": [],
   "source": [
    "class NaiveBayes(object):\n",
    "    \"\"\"\n",
    "    Наивный байесовский классификатор.\n",
    "    Для каждого входного сообщения слово учитывается один раз при расчете итоговой вероятности.\n",
    "\n",
    "    Parameters\n",
    "    ----------\n",
    "    category_priors : default | None, optional, default None\n",
    "        Априорные вероятности категорий.\n",
    "        Если None, то классификатор должен сам их вычислить.\n",
    "\n",
    "    weight : float, optional, default 1\n",
    "        Вес одного слова в формуле взвешенной вероятности\n",
    "\n",
    "    supposed_prob : float, optional, default 0.5\n",
    "        Предполагаемая вероятность слова в категории\n",
    "    \"\"\"\n",
    "\n",
    "    def __init__(self, category_priors=None, weight=1, supposed_prob=0.5):\n",
    "        self.category_priors = category_priors\n",
    "        self.weight = weight\n",
    "        self.supposed_prob = supposed_prob      \n",
    "        \n",
    "    def fit(self, x_train, y_train):\n",
    "        \"\"\"\n",
    "        Производит обучение наивного байесовского классификатора.\n",
    "\n",
    "        Parameters\n",
    "        ----------\n",
    "        x_train : list of list of str | list of str | str\n",
    "            Входной текст описывается строкой, которую будет токенизирована по пробелу.\n",
    "            Если строка не токенизирована, то текст должен быть токенизирован.\n",
    "            Может быть передано несколько сообщений, которые будут токенезированы, если необходимо.\n",
    "\n",
    "        y_train : list of str\n",
    "            содержит список меток (названий категорий) для сообщений из x_train\n",
    "\n",
    "        Returns\n",
    "        -------\n",
    "        self : object\n",
    "            Returns self\n",
    "        \"\"\"\n",
    "        # Подсчитываем количество категорий, документов и слов в каждой категории\n",
    "        # и количество встреч слова во всех сообщениях\n",
    "        \n",
    "        y_train_pd = pd.Series(y_train)\n",
    "        x_train = np.array(x_train)\n",
    "        \n",
    "        # список категорий\n",
    "        self.cat_list = self.get_categories(y_train)\n",
    "           \n",
    "        # все сообщения для данной категории\n",
    "        cat_msgs = defaultdict(str) \n",
    "        \n",
    "        # получаем все сообщения из данной категории\n",
    "        for cat in self.cat_list:\n",
    "            # находим индексы сообщений с данными категориями\n",
    "            indexes = y_train_pd[y_train_pd==cat].index\n",
    "            msgs = np.array(x_train[indexes])\n",
    "            unique_msgs = []\n",
    "            # из каждого сообщения выделяем уникальные слова\n",
    "            for i in range(len(msgs)):\n",
    "                unique_msgs.append(np.unique(msgs[i].split(\" \"))) \n",
    "            # соединяем все сообщения один массив\n",
    "            if (len(unique_msgs) != 0):\n",
    "               unique_msgs = np.hstack(unique_msgs)\n",
    "            cat_msgs[cat] = unique_msgs\n",
    "\n",
    "        # Количество отдельных слов в заданной категории\n",
    "        self.feature_category_counts = Counter()\n",
    "        for cat in self.cat_list:\n",
    "            self.feature_category_counts[cat] = len(cat_msgs[cat])\n",
    "            \n",
    "        # Количество всех документов в данной категории\n",
    "        self.category_doc_counts = Counter()\n",
    "        for cat in self.cat_list:\n",
    "            # Количество всех документов в данной категории\n",
    "            self.category_doc_counts[cat]=len(y_train_pd[y_train_pd==cat])\n",
    "        \n",
    "        # все сообщения\n",
    "        all_msgs = []\n",
    "        for cat in self.cat_list:\n",
    "            all_msgs += list(cat_msgs[cat])\n",
    "\n",
    "        # Количество встреч слова во всех сообщениях\n",
    "        self.feature_counts = Counter(all_msgs)\n",
    "\n",
    "        # Если априорные вероятности категорий не заданы, то надо аппроксимировать их\n",
    "        if (self.category_priors == None):\n",
    "            self.category_priors = Counter()\n",
    "            for cat in self.cat_list:\n",
    "                self.category_priors[cat] = len(y_train_pd[y_train_pd==cat])/len(y_train_pd)\n",
    "                \n",
    "        # Количество встреч слова во всех сообщениях заданной категории\n",
    "        self.feature_cat_counts = Counter(Counter())\n",
    "        for cat in self.cat_list:\n",
    "            self.feature_cat_counts[cat] = Counter(cat_msgs[cat])\n",
    "        \n",
    "        return self\n",
    "\n",
    "    def predict(self, text):\n",
    "        \"\"\"\n",
    "        Предсказывает метки категорий для text.\n",
    "\n",
    "        Parameters\n",
    "        ----------\n",
    "        text : list of list of str | list of str | str\n",
    "            Входной текст описывается строкой, которую будет токенизирована по пробелу.\n",
    "            Если строка не токенизирована, то текст должен быть токенизирован.\n",
    "            Может быть передано несколько сообщений, которые будут токенезированы, если необходимо.\n",
    "\n",
    "        Returns\n",
    "        -------\n",
    "        categories : list of str\n",
    "            Возвращает названия категорий для text.\n",
    "        \"\"\"\n",
    "        categories = []\n",
    "        \n",
    "        # тут разбор случаев для типа text\n",
    "        if (type(text)==str):\n",
    "            \n",
    "            text = np.unique(text.split(\" \"))\n",
    "            # индекс наиболее подходящей категории\n",
    "            cat_index = np.argmax(self.get_probs(text))\n",
    "            categories.append(self.cat_list[cat_index])\n",
    "        \n",
    "        elif (type(text)==list):\n",
    "            \n",
    "            is_str = False\n",
    "            \n",
    "            for subtext in text:\n",
    "                subtext = np.unique(subtext.split(\" \"))\n",
    "                # индекс наиболее подходящей категории\n",
    "                cat_index = np.argmax(self.get_probs(subtext))\n",
    "                categories.append(self.cat_list[cat_index])\n",
    "\n",
    "        return categories\n",
    "\n",
    "    def score(self, text, labels):\n",
    "        \"\"\"\n",
    "        Возвращает точность предсказаний на text для правильных категорий labels.\n",
    "\n",
    "        Parameters\n",
    "        ----------\n",
    "        text : list of list of str | list of str | str\n",
    "            Входной текст описывается строкой, которую будет токенизирована по пробелу.\n",
    "            Если строка не токенизирована, то текст должен быть токенизирован.\n",
    "            Может быть передано несколько сообщений, которые будут токенезированы, если необходимо.\n",
    "        labels : list of str\n",
    "            Список категорий для каждого токена из text.\n",
    "\n",
    "        Returns\n",
    "        -------\n",
    "        acc : float\n",
    "            Точность предсказания.\n",
    "        \"\"\"\n",
    "        # получаем предсказанные категории для текста\n",
    "        pred_cat = self.predict(text)\n",
    "        \n",
    "        assert(len(labels)==len(pred_cat))\n",
    "        \n",
    "        counter = 0\n",
    "        for ind in range(len(labels)):\n",
    "            if (labels[ind]==pred_cat[ind]):\n",
    "                counter += 1\n",
    "                \n",
    "        acc = counter/len(labels)\n",
    "        return acc\n",
    "\n",
    "    def get_probs(self, text):\n",
    "        \"\"\"\n",
    "        Считает вероятности принадлежности текста (text) к каждой из категорий\n",
    "\n",
    "        Parameters\n",
    "        ----------\n",
    "        text : list of str | str\n",
    "            Входной текст описывается строкой, которую будет токенизирована по пробелу.\n",
    "            Если строка не токенизирована, то текст должен быть токенизирован.\n",
    "\n",
    "        Returns\n",
    "        -------\n",
    "        probs : list of float\n",
    "            Возвращает вероятности probs всех категорий для текста text\n",
    "            в порядке их следования в self.category_doc_counts.\n",
    "        \"\"\"\n",
    "        # Токенизируем текст, если это необходимо\n",
    "        if (type(text) == str):\n",
    "            text = text.split(\" \")\n",
    "           \n",
    "        probs = []\n",
    "        for cat in self.cat_list:\n",
    "            probs.append(self.get_category_prob(cat, text))\n",
    "\n",
    "        return probs\n",
    "\n",
    "    def get_category_prob(self, cat, text):\n",
    "        \"\"\"\n",
    "        Считает логарифм вероятность принадлежности сообщения text к категории cat.\n",
    "\n",
    "        Parameters\n",
    "        ----------\n",
    "        cat : str\n",
    "            Название категории.\n",
    "\n",
    "        text : list of str\n",
    "            Список из слов.\n",
    "\n",
    "        Returns\n",
    "        -------\n",
    "        log_prob : float\n",
    "            Возвращает логарифм вероятности категории cat для текста text.\n",
    "        \"\"\"\n",
    "        # вероятность того что текст, содержащий слова token, принадлежит категории cat\n",
    "        features_prob = 1\n",
    "        for token in text:\n",
    "            weighted_feature_prob = self.get_weighted_feature_prob(cat, token)\n",
    "            features_prob *= weighted_feature_prob\n",
    "            \n",
    "        # логарифм вероятность принадлежности сообщения text к категории cat \n",
    "        # это априорная вероятность категории на вероятность того, что текст принадлежит категории cat\n",
    "        log_prob = log(self.category_priors[cat])+log(features_prob)\n",
    "\n",
    "        return log_prob\n",
    "\n",
    "    def get_weighted_feature_prob(self, cat, feature):\n",
    "        \"\"\"\n",
    "        Вычисляет взвешенную вероятность P(Слово|Категория).\n",
    "\n",
    "        Parameters\n",
    "        ----------\n",
    "        cat : str\n",
    "            Название категории.\n",
    "\n",
    "        feature : str\n",
    "            Слово из текста.\n",
    "\n",
    "        Returns\n",
    "        -------\n",
    "        prob : float\n",
    "            Возвращает взвешенную вероятность слова feature при условии категории cat.\n",
    "        \"\"\"\n",
    "        P_a = 0.5\n",
    "        \n",
    "        # количество встреч слова во всех сообщениях заданной категории\n",
    "        \n",
    "        #  P_feat_cat - вероятность того, что сообщение категории cat содержит слово feature - \n",
    "        # это количество сообщений категории cat, содержащих слово feature, \n",
    "        # делённое на количество сообщений категории cat\n",
    "        P_feat_cat = self.feature_cat_counts[cat][feature]/self.category_doc_counts[cat]\n",
    "        \n",
    "        # взвешенная вероятность\n",
    "        prob = (self.weight * P_a+self.feature_category_counts[cat]*P_feat_cat)/(self.weight+self.feature_category_counts[cat])\n",
    "\n",
    "        return prob\n",
    "\n",
    "    def get_categories(self, y_train):\n",
    "        \"\"\"\n",
    "        Возвращает список названий всех категорий.\n",
    "        Returns\n",
    "        -------\n",
    "        cat_list : list of str\n",
    "        \"\"\"\n",
    "        self.cat_list = np.unique(y_train)\n",
    "        return self.cat_list\n",
    "pass\n"
   ]
  },
  {
   "cell_type": "markdown",
   "metadata": {},
   "source": [
    "### Сравните вашу реализацию и реализацию из библиотеки nltk\n",
    "\n",
    "Для использования классификатора из библиотеки не забудьте предподготовить данные. Для подсчета точности этого классификатора можете использовать accuracy_score из метрик sklearn. Для подсчета точности предсказаний вашего классификатора используйте функцию score, которую вы опишете."
   ]
  },
  {
   "cell_type": "code",
   "execution_count": 6,
   "metadata": {
    "collapsed": true
   },
   "outputs": [],
   "source": [
    "X = data['msg']\n",
    "y = data['target']"
   ]
  },
  {
   "cell_type": "code",
   "execution_count": 13,
   "metadata": {
    "collapsed": true
   },
   "outputs": [],
   "source": [
    "# Предобработка данных для классификатора nltk, если требуется\n",
    "\n",
    "# возвращает список пар (msg, target) для NaiveBayesClassifier.train\n",
    "def get_labeled_feat(X, y):\n",
    "    labeled_feat = []\n",
    "    for msg, target in zip(X, y):\n",
    "        msg = msg.split(\" \")\n",
    "        msg = Counter(msg)\n",
    "        labeled_feat.append([msg, target])\n",
    "    return labeled_feat \n",
    "\n",
    "# возвращает количество встреч слова в каждом сообщении из X для NaiveBayesClassifier.classify_many\n",
    "def get_feature_sets(X):\n",
    "    feature_sets = []\n",
    "    for msg in X:\n",
    "        msg = msg.split(\" \")\n",
    "        msg = Counter(msg)\n",
    "        feature_sets.append(msg)\n",
    "    return feature_sets"
   ]
  },
  {
   "cell_type": "code",
   "execution_count": 14,
   "metadata": {
    "collapsed": true
   },
   "outputs": [],
   "source": [
    "# score нашего классификатора и nltk.Naive....\n",
    "m_score = []\n",
    "nltk_score = []"
   ]
  },
  {
   "cell_type": "code",
   "execution_count": 15,
   "metadata": {
    "scrolled": true
   },
   "outputs": [
    {
     "name": "stderr",
     "output_type": "stream",
     "text": [
      "C:\\ProgramData\\Anaconda3\\lib\\site-packages\\ipykernel_launcher.py:221: RuntimeWarning: divide by zero encountered in log\n"
     ]
    },
    {
     "name": "stdout",
     "output_type": "stream",
     "text": [
      "Wall time: 1min 7s\n"
     ]
    }
   ],
   "source": [
    "%%time\n",
    "# Используйте процедуру KFold для проверки качества классификаторов\n",
    "kf = KFold(len(X), n_folds=10)\n",
    "for train_index, test_index in kf:\n",
    "    X_train, X_test = X[train_index], X[test_index]\n",
    "    y_train, y_test = y[train_index], y[test_index]\n",
    "    \n",
    "    # получим score от своего классификатора\n",
    "    mClassifier = NaiveBayes()\n",
    "    mClassifier.fit(list(X_train), list(y_train))\n",
    "    m_score.append(mClassifier.score(list(X_test), list(y_test)))\n",
    "    \n",
    "    # получим score от классификатора из nltk\n",
    "    nltkClassifier = NaiveBayesClassifier.train(get_labeled_feat(X_train, y_train))\n",
    "    y_pred = nltkClassifier.classify_many(get_feature_sets(X_test))\n",
    "    nltk_score.append(accuracy_score(y_test, y_pred))"
   ]
  },
  {
   "cell_type": "markdown",
   "metadata": {},
   "source": [
    "### Сравним результаты работы классификаторы из nltk и нашего"
   ]
  },
  {
   "cell_type": "code",
   "execution_count": 16,
   "metadata": {},
   "outputs": [
    {
     "name": "stdout",
     "output_type": "stream",
     "text": [
      "our classifier mean:  0.936389452333\n",
      "nltk classifier mean:  0.966125760649\n"
     ]
    }
   ],
   "source": [
    "print(\"our classifier mean: \", np.array(m_score).mean())\n",
    "print(\"nltk classifier mean: \", np.array(nltk_score).mean())"
   ]
  },
  {
   "cell_type": "markdown",
   "metadata": {},
   "source": [
    "### В среднем наш работает лучше"
   ]
  },
  {
   "cell_type": "markdown",
   "metadata": {},
   "source": [
    "### Постройте графики размаха для двух классификаторов на одной фигуре.\n",
    "\n",
    "Рекомендуется использовать встроенные функции построения графиков в pandas."
   ]
  },
  {
   "cell_type": "code",
   "execution_count": 17,
   "metadata": {
    "collapsed": true
   },
   "outputs": [],
   "source": [
    "m_score = pd.Series(m_score)\n",
    "nltk_score =  pd.Series(nltk_score)"
   ]
  },
  {
   "cell_type": "code",
   "execution_count": 18,
   "metadata": {},
   "outputs": [
    {
     "data": {
      "image/png": "[encoded data removed]",
      "text/plain": [
       "<matplotlib.figure.Figure at 0x1282c75edd8>"
      ]
     },
     "metadata": {},
     "output_type": "display_data"
    }
   ],
   "source": [
    "# строим график дисперсии\n",
    "((m_score-m_score.mean())**2).plot(label=\"NaiveBayes\")\n",
    "((nltk_score-nltk_score.mean())**2).plot(label=\"NaiveBayesClassifier\")\n",
    "\n",
    "plt.legend(bbox_to_anchor=(1.25, .5), prop={'size':20})\n",
    "plt.tight_layout()"
   ]
  },
  {
   "cell_type": "markdown",
   "metadata": {},
   "source": [
    "В среднем отклонение у нашего классификатора меньше"
   ]
  },
  {
   "cell_type": "code",
   "execution_count": null,
   "metadata": {
    "collapsed": true
   },
   "outputs": [],
   "source": []
  }
 ],
 "metadata": {
  "kernelspec": {
   "display_name": "Python 3",
   "language": "python",
   "name": "python3"
  },
  "language_info": {
   "codemirror_mode": {
    "name": "ipython",
    "version": 3
   },
   "file_extension": ".py",
   "mimetype": "text/x-python",
   "name": "python",
   "nbconvert_exporter": "python",
   "pygments_lexer": "ipython3",
   "version": "3.6.1"
  }
 },
 "nbformat": 4,
 "nbformat_minor": 2
}
