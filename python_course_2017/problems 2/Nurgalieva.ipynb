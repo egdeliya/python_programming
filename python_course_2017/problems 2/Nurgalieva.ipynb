{
 "cells": [
  {
   "cell_type": "code",
   "execution_count": 109,
   "metadata": {
    "collapsed": true
   },
   "outputs": [],
   "source": [
    "import pandas as pd\n",
    "import codecs\n",
    "import chardet\n",
    "import numpy as np"
   ]
  },
  {
   "cell_type": "markdown",
   "metadata": {},
   "source": [
    "Считываем файлы"
   ]
  },
  {
   "cell_type": "code",
   "execution_count": 35,
   "metadata": {
    "collapsed": true
   },
   "outputs": [],
   "source": [
    "first = pd.read_csv(\"2.tmp\",encoding='utf-8', sep='\\n', header=None)\n",
    "second = pd.read_csv(\"3.tmp\", encoding='utf-8', sep='\\n', header=None)\n",
    "third = pd.read_csv(\"4.tmp\", encoding='utf-8', sep='\\n', header=None)"
   ]
  },
  {
   "cell_type": "markdown",
   "metadata": {},
   "source": [
    "Переименовываем колонки"
   ]
  },
  {
   "cell_type": "code",
   "execution_count": 36,
   "metadata": {},
   "outputs": [],
   "source": [
    "first.columns = ['line']"
   ]
  },
  {
   "cell_type": "markdown",
   "metadata": {},
   "source": [
    "Добавляем колонку target - номер файла"
   ]
  },
  {
   "cell_type": "code",
   "execution_count": 37,
   "metadata": {
    "collapsed": true
   },
   "outputs": [],
   "source": [
    "first['target'] = [1]*len(first)"
   ]
  },
  {
   "cell_type": "markdown",
   "metadata": {},
   "source": [
    "Отчищаем от значений NaN и выводим на экран"
   ]
  },
  {
   "cell_type": "code",
   "execution_count": 38,
   "metadata": {
    "scrolled": true
   },
   "outputs": [
    {
     "data": {
      "text/html": [
       "<div>\n",
       "<style>\n",
       "    .dataframe thead tr:only-child th {\n",
       "        text-align: right;\n",
       "    }\n",
       "\n",
       "    .dataframe thead th {\n",
       "        text-align: left;\n",
       "    }\n",
       "\n",
       "    .dataframe tbody tr th {\n",
       "        vertical-align: top;\n",
       "    }\n",
       "</style>\n",
       "<table border=\"1\" class=\"dataframe\">\n",
       "  <thead>\n",
       "    <tr style=\"text-align: right;\">\n",
       "      <th></th>\n",
       "      <th>line</th>\n",
       "      <th>target</th>\n",
       "    </tr>\n",
       "  </thead>\n",
       "  <tbody>\n",
       "    <tr>\n",
       "      <th>0</th>\n",
       "      <td>Bag End先生的Bilbo Baggins先生宣布，他不久將以特別的輝煌的聚會慶祝他的第...</td>\n",
       "      <td>1</td>\n",
       "    </tr>\n",
       "    <tr>\n",
       "      <th>3</th>\n",
       "      <td>什麼，人們普遍相信，Bag End山充滿了寶藏的隧道。如果這還不夠名聲，那麼他也有長期的活力...</td>\n",
       "      <td>1</td>\n",
       "    </tr>\n",
       "    <tr>\n",
       "      <th>6</th>\n",
       "      <td>青年以及（著名地）無窮無盡的財富似乎是不公平的。他們說：“這將需要支付。” “這不是自然的，...</td>\n",
       "      <td>1</td>\n",
       "    </tr>\n",
       "    <tr>\n",
       "      <th>8</th>\n",
       "      <td>仍然與親屬（除了當然是薩克維爾 - 巴金斯）的訪問條件，他在貧窮和不重要的家庭的愛好中有許多...</td>\n",
       "      <td>1</td>\n",
       "    </tr>\n",
       "    <tr>\n",
       "      <th>30</th>\n",
       "      <td>＃＃”你說得對，爸爸！“Gaffer說。 “不是巴剋土地的白蘭地酒在老森林裡生活，但他們似乎...</td>\n",
       "      <td>1</td>\n",
       "    </tr>\n",
       "  </tbody>\n",
       "</table>\n",
       "</div>"
      ],
      "text/plain": [
       "                                                 line  target\n",
       "0   Bag End先生的Bilbo Baggins先生宣布，他不久將以特別的輝煌的聚會慶祝他的第...       1\n",
       "3   什麼，人們普遍相信，Bag End山充滿了寶藏的隧道。如果這還不夠名聲，那麼他也有長期的活力...       1\n",
       "6   青年以及（著名地）無窮無盡的財富似乎是不公平的。他們說：“這將需要支付。” “這不是自然的，...       1\n",
       "8   仍然與親屬（除了當然是薩克維爾 - 巴金斯）的訪問條件，他在貧窮和不重要的家庭的愛好中有許多...       1\n",
       "30  ＃＃”你說得對，爸爸！“Gaffer說。 “不是巴剋土地的白蘭地酒在老森林裡生活，但他們似乎...       1"
      ]
     },
     "execution_count": 38,
     "metadata": {},
     "output_type": "execute_result"
    }
   ],
   "source": [
    "first.dropna(inplace=True)\n",
    "first.head()"
   ]
  },
  {
   "cell_type": "markdown",
   "metadata": {},
   "source": [
    "То же самое проделываем с остальными файлами"
   ]
  },
  {
   "cell_type": "code",
   "execution_count": 39,
   "metadata": {
    "scrolled": true
   },
   "outputs": [
    {
     "data": {
      "text/html": [
       "<div>\n",
       "<style>\n",
       "    .dataframe thead tr:only-child th {\n",
       "        text-align: right;\n",
       "    }\n",
       "\n",
       "    .dataframe thead th {\n",
       "        text-align: left;\n",
       "    }\n",
       "\n",
       "    .dataframe tbody tr th {\n",
       "        vertical-align: top;\n",
       "    }\n",
       "</style>\n",
       "<table border=\"1\" class=\"dataframe\">\n",
       "  <thead>\n",
       "    <tr style=\"text-align: right;\">\n",
       "      <th></th>\n",
       "      <th>line</th>\n",
       "      <th>target</th>\n",
       "    </tr>\n",
       "  </thead>\n",
       "  <tbody>\n",
       "    <tr>\n",
       "      <th>0</th>\n",
       "      <td>When Mr. Bilbo Baggins of Bag End announced th...</td>\n",
       "      <td>2</td>\n",
       "    </tr>\n",
       "    <tr>\n",
       "      <th>5</th>\n",
       "      <td>Bilbo was very rich and very peculiar, and had b</td>\n",
       "      <td>2</td>\n",
       "    </tr>\n",
       "    <tr>\n",
       "      <th>23</th>\n",
       "      <td>‘It will have to be paid f</td>\n",
       "      <td>2</td>\n",
       "    </tr>\n",
       "    <tr>\n",
       "      <th>26</th>\n",
       "      <td>But so far trouble had not come;</td>\n",
       "      <td>2</td>\n",
       "    </tr>\n",
       "    <tr>\n",
       "      <th>35</th>\n",
       "      <td>The eldest o</td>\n",
       "      <td>2</td>\n",
       "    </tr>\n",
       "  </tbody>\n",
       "</table>\n",
       "</div>"
      ],
      "text/plain": [
       "                                                 line  target\n",
       "0   When Mr. Bilbo Baggins of Bag End announced th...       2\n",
       "5    Bilbo was very rich and very peculiar, and had b       2\n",
       "23                         ‘It will have to be paid f       2\n",
       "26                   But so far trouble had not come;       2\n",
       "35                                       The eldest o       2"
      ]
     },
     "execution_count": 39,
     "metadata": {},
     "output_type": "execute_result"
    }
   ],
   "source": [
    "second.columns = ['line']\n",
    "second['target'] = [2]*len(second)\n",
    "second.dropna(inplace=True)\n",
    "second.head()"
   ]
  },
  {
   "cell_type": "code",
   "execution_count": 40,
   "metadata": {
    "scrolled": false
   },
   "outputs": [
    {
     "data": {
      "text/html": [
       "<div>\n",
       "<style>\n",
       "    .dataframe thead tr:only-child th {\n",
       "        text-align: right;\n",
       "    }\n",
       "\n",
       "    .dataframe thead th {\n",
       "        text-align: left;\n",
       "    }\n",
       "\n",
       "    .dataframe tbody tr th {\n",
       "        vertical-align: top;\n",
       "    }\n",
       "</style>\n",
       "<table border=\"1\" class=\"dataframe\">\n",
       "  <thead>\n",
       "    <tr style=\"text-align: right;\">\n",
       "      <th></th>\n",
       "      <th>line</th>\n",
       "      <th>target</th>\n",
       "    </tr>\n",
       "  </thead>\n",
       "  <tbody>\n",
       "    <tr>\n",
       "      <th>0</th>\n",
       "      <td>Bag EndのBilbo Baggins氏は、18歳の誕生日を特別な壮大なパーティでまもな...</td>\n",
       "      <td>3</td>\n",
       "    </tr>\n",
       "    <tr>\n",
       "      <th>2</th>\n",
       "      <td>失踪と予期せぬ復帰以来、60年にわたりシャイアの驚異であった。彼が旅行から持ち帰った富は今や...</td>\n",
       "      <td>3</td>\n",
       "    </tr>\n",
       "    <tr>\n",
       "      <th>4</th>\n",
       "      <td>に信じられていました。それが名声のために十分でないならば、彼の長年の活力も驚くべきものでした...</td>\n",
       "      <td>3</td>\n",
       "    </tr>\n",
       "    <tr>\n",
       "      <th>5</th>\n",
       "      <td>かかりましたが、バギンズ氏にはほとんど影響がないようでした。 90歳で彼は50歳とほとんど同...</td>\n",
       "      <td>3</td>\n",
       "    </tr>\n",
       "    <tr>\n",
       "      <th>8</th>\n",
       "      <td>富を所有すべきであるということは不公平に思えました。 \"それは支払われなければならないだろう...</td>\n",
       "      <td>3</td>\n",
       "    </tr>\n",
       "  </tbody>\n",
       "</table>\n",
       "</div>"
      ],
      "text/plain": [
       "                                                line  target\n",
       "0  Bag EndのBilbo Baggins氏は、18歳の誕生日を特別な壮大なパーティでまもな...       3\n",
       "2  失踪と予期せぬ復帰以来、60年にわたりシャイアの驚異であった。彼が旅行から持ち帰った富は今や...       3\n",
       "4  に信じられていました。それが名声のために十分でないならば、彼の長年の活力も驚くべきものでした...       3\n",
       "5  かかりましたが、バギンズ氏にはほとんど影響がないようでした。 90歳で彼は50歳とほとんど同...       3\n",
       "8  富を所有すべきであるということは不公平に思えました。 \"それは支払われなければならないだろう...       3"
      ]
     },
     "execution_count": 40,
     "metadata": {},
     "output_type": "execute_result"
    }
   ],
   "source": [
    "third.columns = ['line']\n",
    "third['target'] = [3]*len(third)\n",
    "third.dropna(inplace=True)\n",
    "third.head()"
   ]
  },
  {
   "cell_type": "markdown",
   "metadata": {},
   "source": [
    "Соединяем файлы"
   ]
  },
  {
   "cell_type": "code",
   "execution_count": 111,
   "metadata": {
    "scrolled": false
   },
   "outputs": [
    {
     "data": {
      "text/html": [
       "<div>\n",
       "<style>\n",
       "    .dataframe thead tr:only-child th {\n",
       "        text-align: right;\n",
       "    }\n",
       "\n",
       "    .dataframe thead th {\n",
       "        text-align: left;\n",
       "    }\n",
       "\n",
       "    .dataframe tbody tr th {\n",
       "        vertical-align: top;\n",
       "    }\n",
       "</style>\n",
       "<table border=\"1\" class=\"dataframe\">\n",
       "  <thead>\n",
       "    <tr style=\"text-align: right;\">\n",
       "      <th></th>\n",
       "      <th>line</th>\n",
       "      <th>target</th>\n",
       "    </tr>\n",
       "  </thead>\n",
       "  <tbody>\n",
       "    <tr>\n",
       "      <th>0</th>\n",
       "      <td>Bag End先生的Bilbo Baggins先生宣布，他不久將以特別的輝煌的聚會慶祝他的第...</td>\n",
       "      <td>1</td>\n",
       "    </tr>\n",
       "    <tr>\n",
       "      <th>1</th>\n",
       "      <td>什麼，人們普遍相信，Bag End山充滿了寶藏的隧道。如果這還不夠名聲，那麼他也有長期的活力...</td>\n",
       "      <td>1</td>\n",
       "    </tr>\n",
       "    <tr>\n",
       "      <th>2</th>\n",
       "      <td>青年以及（著名地）無窮無盡的財富似乎是不公平的。他們說：“這將需要支付。” “這不是自然的，...</td>\n",
       "      <td>1</td>\n",
       "    </tr>\n",
       "    <tr>\n",
       "      <th>3</th>\n",
       "      <td>仍然與親屬（除了當然是薩克維爾 - 巴金斯）的訪問條件，他在貧窮和不重要的家庭的愛好中有許多...</td>\n",
       "      <td>1</td>\n",
       "    </tr>\n",
       "    <tr>\n",
       "      <th>4</th>\n",
       "      <td>＃＃”你說得對，爸爸！“Gaffer說。 “不是巴剋土地的白蘭地酒在老森林裡生活，但他們似乎...</td>\n",
       "      <td>1</td>\n",
       "    </tr>\n",
       "  </tbody>\n",
       "</table>\n",
       "</div>"
      ],
      "text/plain": [
       "                                                line  target\n",
       "0  Bag End先生的Bilbo Baggins先生宣布，他不久將以特別的輝煌的聚會慶祝他的第...       1\n",
       "1  什麼，人們普遍相信，Bag End山充滿了寶藏的隧道。如果這還不夠名聲，那麼他也有長期的活力...       1\n",
       "2  青年以及（著名地）無窮無盡的財富似乎是不公平的。他們說：“這將需要支付。” “這不是自然的，...       1\n",
       "3  仍然與親屬（除了當然是薩克維爾 - 巴金斯）的訪問條件，他在貧窮和不重要的家庭的愛好中有許多...       1\n",
       "4  ＃＃”你說得對，爸爸！“Gaffer說。 “不是巴剋土地的白蘭地酒在老森林裡生活，但他們似乎...       1"
      ]
     },
     "execution_count": 111,
     "metadata": {},
     "output_type": "execute_result"
    }
   ],
   "source": [
    "data = pd.concat([first, second, third], ignore_index=True)\n",
    "data.head()"
   ]
  },
  {
   "cell_type": "code",
   "execution_count": 113,
   "metadata": {},
   "outputs": [
    {
     "data": {
      "text/html": [
       "<div>\n",
       "<style>\n",
       "    .dataframe thead tr:only-child th {\n",
       "        text-align: right;\n",
       "    }\n",
       "\n",
       "    .dataframe thead th {\n",
       "        text-align: left;\n",
       "    }\n",
       "\n",
       "    .dataframe tbody tr th {\n",
       "        vertical-align: top;\n",
       "    }\n",
       "</style>\n",
       "<table border=\"1\" class=\"dataframe\">\n",
       "  <thead>\n",
       "    <tr style=\"text-align: right;\">\n",
       "      <th></th>\n",
       "      <th>line</th>\n",
       "      <th>target</th>\n",
       "    </tr>\n",
       "  </thead>\n",
       "  <tbody>\n",
       "    <tr>\n",
       "      <th>0</th>\n",
       "      <td>Bag End先生的Bilbo Baggins先生宣布，他不久將以特別的輝煌的聚會慶祝他的第...</td>\n",
       "      <td>1</td>\n",
       "    </tr>\n",
       "    <tr>\n",
       "      <th>1</th>\n",
       "      <td>什麼，人們普遍相信，Bag End山充滿了寶藏的隧道。如果這還不夠名聲，那麼他也有長期的活力...</td>\n",
       "      <td>1</td>\n",
       "    </tr>\n",
       "    <tr>\n",
       "      <th>2</th>\n",
       "      <td>青年以及（著名地）無窮無盡的財富似乎是不公平的。他們說：“這將需要支付。” “這不是自然的，...</td>\n",
       "      <td>1</td>\n",
       "    </tr>\n",
       "    <tr>\n",
       "      <th>3</th>\n",
       "      <td>仍然與親屬（除了當然是薩克維爾 - 巴金斯）的訪問條件，他在貧窮和不重要的家庭的愛好中有許多...</td>\n",
       "      <td>1</td>\n",
       "    </tr>\n",
       "    <tr>\n",
       "      <th>4</th>\n",
       "      <td>＃＃”你說得對，爸爸！“Gaffer說。 “不是巴剋土地的白蘭地酒在老森林裡生活，但他們似乎...</td>\n",
       "      <td>1</td>\n",
       "    </tr>\n",
       "  </tbody>\n",
       "</table>\n",
       "</div>"
      ],
      "text/plain": [
       "                                                line  target\n",
       "0  Bag End先生的Bilbo Baggins先生宣布，他不久將以特別的輝煌的聚會慶祝他的第...       1\n",
       "1  什麼，人們普遍相信，Bag End山充滿了寶藏的隧道。如果這還不夠名聲，那麼他也有長期的活力...       1\n",
       "2  青年以及（著名地）無窮無盡的財富似乎是不公平的。他們說：“這將需要支付。” “這不是自然的，...       1\n",
       "3  仍然與親屬（除了當然是薩克維爾 - 巴金斯）的訪問條件，他在貧窮和不重要的家庭的愛好中有許多...       1\n",
       "4  ＃＃”你說得對，爸爸！“Gaffer說。 “不是巴剋土地的白蘭地酒在老森林裡生活，但他們似乎...       1"
      ]
     },
     "execution_count": 113,
     "metadata": {},
     "output_type": "execute_result"
    }
   ],
   "source": [
    "data.index = range(len(data))\n",
    "data.head()"
   ]
  },
  {
   "cell_type": "code",
   "execution_count": 114,
   "metadata": {},
   "outputs": [
    {
     "name": "stdout",
     "output_type": "stream",
     "text": [
      "1943\n"
     ]
    }
   ],
   "source": [
    "size = len(data)\n",
    "print(len(data))\n",
    "data = data[:size]"
   ]
  },
  {
   "cell_type": "markdown",
   "metadata": {},
   "source": [
    "Поробуем предсказывать метки классов, используя логистическую регрессию, в качестве признаков будем использовать n-граммы"
   ]
  },
  {
   "cell_type": "code",
   "execution_count": 115,
   "metadata": {
    "collapsed": true
   },
   "outputs": [],
   "source": [
    "from sklearn.linear_model import LogisticRegression\n",
    "from sklearn.feature_extraction.text import CountVectorizer"
   ]
  },
  {
   "cell_type": "code",
   "execution_count": 122,
   "metadata": {
    "collapsed": true
   },
   "outputs": [],
   "source": [
    "vectorizer = CountVectorizer(ngram_range=(3,5), analyzer='char_wb', lowercase=False, max_df=0.84, binary=True)"
   ]
  },
  {
   "cell_type": "code",
   "execution_count": 123,
   "metadata": {
    "scrolled": false
   },
   "outputs": [
    {
     "name": "stdout",
     "output_type": "stream",
     "text": [
      "Wall time: 638 ms\n"
     ]
    }
   ],
   "source": [
    "%%time\n",
    "data_matrix = vectorizer.fit_transform(data['line'])"
   ]
  },
  {
   "cell_type": "code",
   "execution_count": 124,
   "metadata": {},
   "outputs": [
    {
     "data": {
      "text/plain": [
       "<1943x133091 sparse matrix of type '<class 'numpy.int64'>'\n",
       "\twith 205262 stored elements in Compressed Sparse Row format>"
      ]
     },
     "execution_count": 124,
     "metadata": {},
     "output_type": "execute_result"
    }
   ],
   "source": [
    "data_matrix"
   ]
  },
  {
   "cell_type": "markdown",
   "metadata": {},
   "source": [
    "Оцениваем результат, используя KFold и accuracy_score"
   ]
  },
  {
   "cell_type": "code",
   "execution_count": 125,
   "metadata": {},
   "outputs": [],
   "source": [
    "from sklearn.cross_validation import KFold\n",
    "from sklearn.metrics import accuracy_score"
   ]
  },
  {
   "cell_type": "code",
   "execution_count": 126,
   "metadata": {
    "scrolled": true
   },
   "outputs": [
    {
     "name": "stdout",
     "output_type": "stream",
     "text": [
      "Wall time: 4.28 s\n"
     ]
    }
   ],
   "source": [
    "%%time\n",
    "score = []\n",
    "predictions = []\n",
    "# Используйте процедуру KFold для проверки качества классификаторов, не забываем перемешивать данные\n",
    "kf = KFold(len(data), n_folds=10, shuffle=True)\n",
    "for train_index, test_index in kf:\n",
    "    X_train, X_test = data_matrix[train_index], data_matrix[test_index]\n",
    "    y_train, y_test = data['target'][train_index], data['target'][test_index]\n",
    "    \n",
    "    model = LogisticRegression(penalty='l1', n_jobs=-1, random_state=45)\n",
    "    model.fit(X_train, y_train)\n",
    "    predictions = model.predict(X_test)\n",
    "    score.append(accuracy_score(y_test, predictions))"
   ]
  },
  {
   "cell_type": "markdown",
   "metadata": {},
   "source": [
    "Посмотрим на результат классификации"
   ]
  },
  {
   "cell_type": "code",
   "execution_count": 130,
   "metadata": {
    "scrolled": true
   },
   "outputs": [
    {
     "name": "stdout",
     "output_type": "stream",
     "text": [
      "Accurasy scores: [0.93333333333333335, 0.96923076923076923, 0.94871794871794868, 0.96391752577319589, 0.93814432989690721, 0.96907216494845361, 0.95360824742268047, 0.96907216494845361, 0.98453608247422686, 0.96907216494845361]\n",
      "\n",
      "\n",
      "Mean accurasy score: 0.9598704731694422\n"
     ]
    }
   ],
   "source": [
    "print(\"Accurasy scores: {}\\n\\n\".format(score))\n",
    "print(\"Mean accurasy score: {}\".format(np.array(score).mean()))"
   ]
  },
  {
   "cell_type": "markdown",
   "metadata": {},
   "source": [
    "Точность достаточно высокая"
   ]
  },
  {
   "cell_type": "code",
   "execution_count": 25,
   "metadata": {},
   "outputs": [
    {
     "data": {
      "text/plain": [
       "['Bag End先生的Bilbo Baggins先生宣布，他不久將以特別的輝煌的聚會慶祝他的第二十一歲']"
      ]
     },
     "execution_count": 25,
     "metadata": {},
     "output_type": "execute_result"
    }
   ],
   "source": [
    "# type(first['line'][0])\n",
    "line = first['line'][0].split(\" \")\n",
    "line"
   ]
  },
  {
   "cell_type": "code",
   "execution_count": 28,
   "metadata": {},
   "outputs": [
    {
     "name": "stdout",
     "output_type": "stream",
     "text": [
      "{'encoding': 'ascii', 'confidence': 1.0, 'language': ''}\n",
      "{'encoding': 'ascii', 'confidence': 1.0, 'language': ''}\n",
      "{'encoding': 'ascii', 'confidence': 1.0, 'language': ''}\n",
      "{'encoding': 'ascii', 'confidence': 1.0, 'language': ''}\n",
      "{'encoding': 'ascii', 'confidence': 1.0, 'language': ''}\n",
      "{'encoding': 'ascii', 'confidence': 1.0, 'language': ''}\n",
      "{'encoding': 'ascii', 'confidence': 1.0, 'language': ''}\n",
      "{'encoding': 'ascii', 'confidence': 1.0, 'language': ''}\n",
      "{'encoding': 'ascii', 'confidence': 1.0, 'language': ''}\n",
      "{'encoding': 'ascii', 'confidence': 1.0, 'language': ''}\n",
      "{'encoding': 'ascii', 'confidence': 1.0, 'language': ''}\n",
      "{'encoding': 'ascii', 'confidence': 1.0, 'language': ''}\n",
      "{'encoding': 'ascii', 'confidence': 1.0, 'language': ''}\n",
      "{'encoding': 'ascii', 'confidence': 1.0, 'language': ''}\n",
      "{'encoding': 'ascii', 'confidence': 1.0, 'language': ''}\n",
      "{'encoding': 'ascii', 'confidence': 1.0, 'language': ''}\n",
      "{'encoding': 'ascii', 'confidence': 1.0, 'language': ''}\n",
      "{'encoding': 'ascii', 'confidence': 1.0, 'language': ''}\n",
      "{'encoding': 'ascii', 'confidence': 1.0, 'language': ''}\n",
      "{'encoding': 'ascii', 'confidence': 1.0, 'language': ''}\n",
      "{'encoding': 'ascii', 'confidence': 1.0, 'language': ''}\n",
      "{'encoding': 'ascii', 'confidence': 1.0, 'language': ''}\n",
      "{'encoding': 'ascii', 'confidence': 1.0, 'language': ''}\n",
      "{'encoding': 'ascii', 'confidence': 1.0, 'language': ''}\n",
      "{'encoding': 'ascii', 'confidence': 1.0, 'language': ''}\n",
      "{'encoding': 'ascii', 'confidence': 1.0, 'language': ''}\n",
      "{'encoding': 'ascii', 'confidence': 1.0, 'language': ''}\n",
      "{'encoding': 'ascii', 'confidence': 1.0, 'language': ''}\n",
      "{'encoding': 'ascii', 'confidence': 1.0, 'language': ''}\n",
      "{'encoding': 'ascii', 'confidence': 1.0, 'language': ''}\n",
      "{'encoding': 'ascii', 'confidence': 1.0, 'language': ''}\n",
      "{'encoding': 'ascii', 'confidence': 1.0, 'language': ''}\n",
      "{'encoding': 'ascii', 'confidence': 1.0, 'language': ''}\n",
      "{'encoding': 'ascii', 'confidence': 1.0, 'language': ''}\n",
      "{'encoding': 'ascii', 'confidence': 1.0, 'language': ''}\n",
      "{'encoding': 'ascii', 'confidence': 1.0, 'language': ''}\n",
      "{'encoding': 'ascii', 'confidence': 1.0, 'language': ''}\n",
      "{'encoding': 'ascii', 'confidence': 1.0, 'language': ''}\n",
      "{'encoding': 'ascii', 'confidence': 1.0, 'language': ''}\n",
      "{'encoding': 'ascii', 'confidence': 1.0, 'language': ''}\n",
      "{'encoding': 'ascii', 'confidence': 1.0, 'language': ''}\n",
      "{'encoding': 'ascii', 'confidence': 1.0, 'language': ''}\n",
      "{'encoding': 'ascii', 'confidence': 1.0, 'language': ''}\n",
      "{'encoding': 'ascii', 'confidence': 1.0, 'language': ''}\n",
      "{'encoding': 'ascii', 'confidence': 1.0, 'language': ''}\n",
      "{'encoding': 'ascii', 'confidence': 1.0, 'language': ''}\n",
      "{'encoding': 'ascii', 'confidence': 1.0, 'language': ''}\n",
      "{'encoding': 'ascii', 'confidence': 1.0, 'language': ''}\n",
      "{'encoding': 'ascii', 'confidence': 1.0, 'language': ''}\n",
      "{'encoding': 'ascii', 'confidence': 1.0, 'language': ''}\n"
     ]
    }
   ],
   "source": [
    "# for ch in second['line'][0]:\n",
    "#     print(chardet.detect(codecs.encode(ch)), sep=\" \")"
   ]
  },
  {
   "cell_type": "code",
   "execution_count": 26,
   "metadata": {},
   "outputs": [
    {
     "data": {
      "text/plain": [
       "{'confidence': 1.0, 'encoding': 'ascii', 'language': ''}"
      ]
     },
     "execution_count": 26,
     "metadata": {},
     "output_type": "execute_result"
    }
   ],
   "source": [
    "chardet.charsetprober.CharSetProber.(codecs.encode(\"first['line'][0]\"))"
   ]
  },
  {
   "cell_type": "code",
   "execution_count": null,
   "metadata": {
    "collapsed": true
   },
   "outputs": [],
   "source": []
  }
 ],
 "metadata": {
  "kernelspec": {
   "display_name": "Python 3",
   "language": "python",
   "name": "python3"
  },
  "language_info": {
   "codemirror_mode": {
    "name": "ipython",
    "version": 3
   },
   "file_extension": ".py",
   "mimetype": "text/x-python",
   "name": "python",
   "nbconvert_exporter": "python",
   "pygments_lexer": "ipython3",
   "version": "3.6.1"
  }
 },
 "nbformat": 4,
 "nbformat_minor": 2
}
