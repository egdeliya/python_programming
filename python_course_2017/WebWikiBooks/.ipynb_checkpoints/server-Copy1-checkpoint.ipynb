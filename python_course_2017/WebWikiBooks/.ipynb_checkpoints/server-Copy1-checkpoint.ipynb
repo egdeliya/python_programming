{
 "cells": [
  {
   "cell_type": "markdown",
   "metadata": {},
   "source": [
    "## Пишем свой python-сервер с bottle\n",
    "Просто, зато эффективно"
   ]
  },
  {
   "cell_type": "code",
   "execution_count": 2,
   "metadata": {},
   "outputs": [
    {
     "name": "stdout",
     "output_type": "stream",
     "text": [
      "Collecting bottle\n",
      "  Downloading bottle-0.12.13.tar.gz (70kB)\n",
      "Building wheels for collected packages: bottle\n",
      "  Running setup.py bdist_wheel for bottle: started\n",
      "  Running setup.py bdist_wheel for bottle: finished with status 'done'\n",
      "  Stored in directory: C:\\Users\\Delya\\AppData\\Local\\pip\\Cache\\wheels\\49\\cf\\37\\132916b926fae01d6e27d94c0018e3ad07452ec3760e24a36a\n",
      "Successfully built bottle\n",
      "Installing collected packages: bottle\n",
      "Successfully installed bottle-0.12.13\n"
     ]
    }
   ],
   "source": [
    "!pip install bottle"
   ]
  },
  {
   "cell_type": "code",
   "execution_count": 1,
   "metadata": {
    "collapsed": true
   },
   "outputs": [],
   "source": [
    "from bottle import request, run, route\n",
    "import urllib\n",
    "import urllib.parse\n",
    "import requests\n",
    "\n",
    "LOGIN = \"king_menin\"\n",
    "PASS = \"pass\""
   ]
  },
  {
   "cell_type": "code",
   "execution_count": 2,
   "metadata": {
    "collapsed": true
   },
   "outputs": [],
   "source": [
    "@route('/')\n",
    "def main():\n",
    "    query = \"q=котики&tbm=isch\"\n",
    "    template = 'https://www.google.ru/search?{}'.format(query)\n",
    "    url = template.format(urllib.parse.urlencode({'q': query}))\n",
    "    req = requests.get(url)\n",
    "    return req.text\n",
    "\n",
    "\n",
    "@route('/login')\n",
    "def login():\n",
    "    return '''\n",
    "        <form action=\"/login\" method=\"post\">\n",
    "            Username: <input name=\"username\" type=\"text\" />\n",
    "            Password: <input name=\"password\" type=\"password\" />\n",
    "            <input value=\"Login\" type=\"submit\" />\n",
    "        </form>\n",
    "    '''\n",
    "\n",
    "\n",
    "def check_login(username, password):\n",
    "    return username == LOGIN and password == PASS\n",
    "\n",
    "\n",
    "@route('/login', method='POST')\n",
    "def do_login():\n",
    "    username = request.forms.get('username')\n",
    "    password = request.forms.get('password')\n",
    "    if check_login(username, password):\n",
    "        return \"<p>Your login information was correct.</p>\"\n",
    "    else:\n",
    "        return \"<p>Login failed.</p>\"\n"
   ]
  },
  {
   "cell_type": "code",
   "execution_count": 3,
   "metadata": {
    "scrolled": true
   },
   "outputs": [
    {
     "name": "stderr",
     "output_type": "stream",
     "text": [
      "Bottle v0.12.13 server starting up (using WSGIRefServer())...\n",
      "Listening on http://localhost:80/\n",
      "Hit Ctrl-C to quit.\n",
      "\n",
      "127.0.0.1 - - [16/Dec/2017 18:02:57] \"GET / HTTP/1.1\" 200 44461\n",
      "127.0.0.1 - - [16/Dec/2017 18:03:09] \"POST /login HTTP/1.1\" 200 42\n",
      "C:\\ProgramData\\Anaconda3\\lib\\site-packages\\bottle.py:3129: ResourceWarning: unclosed <socket.socket fd=1380, family=AddressFamily.AF_INET, type=SocketKind.SOCK_STREAM, proto=0, laddr=('127.0.0.1', 80)>\n",
      "  pass\n"
     ]
    }
   ],
   "source": [
    "run(host='localhost', port=80, debug=True)"
   ]
  },
  {
   "cell_type": "code",
   "execution_count": null,
   "metadata": {
    "collapsed": true
   },
   "outputs": [],
   "source": []
  }
 ],
 "metadata": {
  "kernelspec": {
   "display_name": "Python 3",
   "language": "python",
   "name": "python3"
  },
  "language_info": {
   "codemirror_mode": {
    "name": "ipython",
    "version": 3
   },
   "file_extension": ".py",
   "mimetype": "text/x-python",
   "name": "python",
   "nbconvert_exporter": "python",
   "pygments_lexer": "ipython3",
   "version": "3.6.1"
  }
 },
 "nbformat": 4,
 "nbformat_minor": 2
}
