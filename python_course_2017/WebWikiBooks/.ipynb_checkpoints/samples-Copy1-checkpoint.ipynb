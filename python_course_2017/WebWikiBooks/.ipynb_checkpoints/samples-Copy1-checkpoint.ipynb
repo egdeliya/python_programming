{
 "cells": [
  {
   "cell_type": "markdown",
   "metadata": {},
   "source": [
    "## \"Обычные запросы\" в google"
   ]
  },
  {
   "cell_type": "code",
   "execution_count": 1,
   "metadata": {},
   "outputs": [
    {
     "data": {
      "text/html": [
       "<i>0.</i>  <a href=\"http://www.google.com/url?q=https://ru.wikipedia.org/wiki/Hello,_world!&amp;sa=U&amp;ved=0ahUKEwjS37e05o7YAhUiQJoKHTAHCRkQFggcMAI&amp;usg=AOvVaw1VuToEur41i_q8ivWeJcp8\" target=\"_blank\"><b>Hello</b>, <b>world</b>! — Википедия</a>"
      ],
      "text/plain": [
       "<IPython.core.display.HTML object>"
      ]
     },
     "metadata": {},
     "output_type": "display_data"
    },
    {
     "data": {
      "text/html": [
       "<i>1.</i>  <a href=\"http://www.google.com/url?q=https://ru.wikipedia.org/wiki/Hello,_world!&amp;sa=U&amp;ved=0ahUKEwjS37e05o7YAhUiQJoKHTAHCRkQFgggMAM&amp;usg=AOvVaw1KDhB8W3E0glUadl4jF6ul\" target=\"_blank\"><b>Hello</b>, <b>world</b>! — Википедия</a>"
      ],
      "text/plain": [
       "<IPython.core.display.HTML object>"
      ]
     },
     "metadata": {},
     "output_type": "display_data"
    },
    {
     "data": {
      "text/html": [
       "<i>2.</i>  <a href=\"http://www.google.com/search?q=Hello,+World!&amp;newwindow=1&amp;ie=UTF-8&amp;prmd=ivns&amp;tbm=isch&amp;tbo=u&amp;source=univ&amp;sa=X&amp;ved=0ahUKEwjS37e05o7YAhUiQJoKHTAHCRkQsAQIKg\">Картинки по запросу <b>Hello, World!</b></a>"
      ],
      "text/plain": [
       "<IPython.core.display.HTML object>"
      ]
     },
     "metadata": {},
     "output_type": "display_data"
    },
    {
     "data": {
      "text/html": [
       "<i>3.</i>  <a href=\"http://www.google.com/url?q=https://en.wikipedia.org/wiki/%2522Hello,_World!%2522_program&amp;sa=U&amp;ved=0ahUKEwjS37e05o7YAhUiQJoKHTAHCRkQFgg2MAk&amp;usg=AOvVaw0E3P2tWpeS_93J3GKPkOgG\" target=\"_blank\">\"<b>Hello</b>, <b>World</b>!\" program - Wikipedia</a>"
      ],
      "text/plain": [
       "<IPython.core.display.HTML object>"
      ]
     },
     "metadata": {},
     "output_type": "display_data"
    },
    {
     "data": {
      "text/html": [
       "<i>4.</i>  <a href=\"http://www.google.com/url?q=https://lurkmore.to/%25D0%259A%25D0%25BE%25D0%25BF%25D0%25B8%25D0%25BF%25D0%25B0%25D1%2581%25D1%2582%25D0%25B0:Hello,_world!&amp;sa=U&amp;ved=0ahUKEwjS37e05o7YAhUiQJoKHTAHCRkQFgg8MAo&amp;usg=AOvVaw3rp_fP0lngvoLy5WgTenAl\" target=\"_blank\">Копипаста:<b>Hello</b>, <b>world</b>! — Lurkmore</a>"
      ],
      "text/plain": [
       "<IPython.core.display.HTML object>"
      ]
     },
     "metadata": {},
     "output_type": "display_data"
    },
    {
     "data": {
      "text/html": [
       "<i>5.</i>  <a href=\"http://www.google.com/url?q=https://www.bloomberg.com/features/2016-hello-world-russia/&amp;sa=U&amp;ved=0ahUKEwjS37e05o7YAhUiQJoKHTAHCRkQFghIMAs&amp;usg=AOvVaw2ZTmzV3MXC6mcP_aNEPEVx\" target=\"_blank\"><b>Hello World</b>, Episode 9: Inside Russia's Creepy, Innovative Internet</a>"
      ],
      "text/plain": [
       "<IPython.core.display.HTML object>"
      ]
     },
     "metadata": {},
     "output_type": "display_data"
    },
    {
     "data": {
      "text/html": [
       "<i>6.</i>  <a href=\"http://www.google.com/url?q=http://helloworld.by/&amp;sa=U&amp;ved=0ahUKEwjS37e05o7YAhUiQJoKHTAHCRkQFghPMAw&amp;usg=AOvVaw1jSlw2NdYPbsgq_7OtRLhg\" target=\"_blank\"><b>HELLO WORLD</b></a>"
      ],
      "text/plain": [
       "<IPython.core.display.HTML object>"
      ]
     },
     "metadata": {},
     "output_type": "display_data"
    },
    {
     "data": {
      "text/html": [
       "<i>7.</i>  <a href=\"http://www.google.com/url?q=https://www.helloworld.com.au/&amp;sa=U&amp;ved=0ahUKEwjS37e05o7YAhUiQJoKHTAHCRkQFghVMA0&amp;usg=AOvVaw1whVRIKUMoFVfDj-5DNuuK\" target=\"_blank\"><b>Helloworld</b> Travel – Deals on Accommodation, Flights, Cruises and ...</a>"
      ],
      "text/plain": [
       "<IPython.core.display.HTML object>"
      ]
     },
     "metadata": {},
     "output_type": "display_data"
    },
    {
     "data": {
      "text/html": [
       "<i>8.</i>  <a href=\"http://www.google.com/url?q=https://vk.com/helloworldru&amp;sa=U&amp;ved=0ahUKEwjS37e05o7YAhUiQJoKHTAHCRkQFghbMA4&amp;usg=AOvVaw0e6pAEm4DlvZ15XY8u0_aG\" target=\"_blank\"><b>HelloWorld</b>: Идеи для бюджетных путешествий | ВКонтакте</a>"
      ],
      "text/plain": [
       "<IPython.core.display.HTML object>"
      ]
     },
     "metadata": {},
     "output_type": "display_data"
    },
    {
     "data": {
      "text/html": [
       "<i>9.</i>  <a href=\"http://www.google.com/url?q=https://www.learnpython.org/en/Hello%252C_World%2521&amp;sa=U&amp;ved=0ahUKEwjS37e05o7YAhUiQJoKHTAHCRkQFghiMA8&amp;usg=AOvVaw29X8G-OI5aRNjXLxj5y9gv\" target=\"_blank\"><b>Hello</b>, <b>World</b>! - Learn Python - Free Interactive Python Tutorial</a>"
      ],
      "text/plain": [
       "<IPython.core.display.HTML object>"
      ]
     },
     "metadata": {},
     "output_type": "display_data"
    },
    {
     "data": {
      "text/html": [
       "<i>10.</i>  <a href=\"http://www.google.com/url?q=https://www.helloworldlive.com/&amp;sa=U&amp;ved=0ahUKEwjS37e05o7YAhUiQJoKHTAHCRkQFghoMBA&amp;usg=AOvVaw0Z5hQdcY2rgAzT_Ep-6Y0l\" target=\"_blank\"><b>HelloWorld</b> 2018. This is your World.</a>"
      ],
      "text/plain": [
       "<IPython.core.display.HTML object>"
      ]
     },
     "metadata": {},
     "output_type": "display_data"
    }
   ],
   "source": [
    "from requests import get, post\n",
    "import urllib\n",
    "import urllib.parse\n",
    "from bs4 import BeautifulSoup\n",
    "from IPython.core.display import display, HTML\n",
    "\n",
    "\n",
    "def google(query):\n",
    "    template = 'https://www.google.ru/search?{}'\n",
    "    url = template.format(urllib.parse.urlencode({'q' : query}))\n",
    "    req = get(url)\n",
    "    \n",
    "    assert req.status_code == 200, 'request failed'\n",
    "    soup = BeautifulSoup(req.text, \"lxml\")\n",
    "    \n",
    "    for i, li in enumerate(soup.findAll('h3', attrs={'class' : 'r'})):\n",
    "#         print(li)\n",
    "        link = li.find('a')\n",
    "        if link:\n",
    "            link['href'] = 'http://www.google.com' +  link['href']\n",
    "            link = '<i>{}.</i>  {}'.format(i, link)\n",
    "            display(HTML(str(link)))\n",
    "\n",
    "            \n",
    "google('Hello, World!')"
   ]
  },
  {
   "cell_type": "markdown",
   "metadata": {},
   "source": [
    "## Метод get"
   ]
  },
  {
   "cell_type": "code",
   "execution_count": 3,
   "metadata": {},
   "outputs": [
    {
     "data": {
      "text/html": [
       "<table class=\"images_table\" style=\"table-layout:fixed\" width=\"100%\"><tr><td style=\"width:25%;word-wrap:break-word\"><a href=\"/url?q=https://ok.ru/koty.kotik&amp;sa=U&amp;ved=0ahUKEwjbn5XN5o7YAhWHCpoKHVj2BDwQwW4IFjAA&amp;usg=AOvVaw3rJciIfVSMY60urVM5hkf5\" target=\"_blank\"><img alt=\"Картинки по запросу котики\" height=\"115\" src=\"https://encrypted-tbn0.gstatic.com/images?q=tbn:ANd9GcSUC41yXbfo-D1LYRHXstV6EG-tz2xY9B6d_jNTP5f_sxu4GBfzB7RZ8SM\" width=\"115\"/></a><br/><cite title=\"ok.ru\">ok.ru</cite><br/>Коты. <b>Котики</b>. Котята. | OK.RU<br/>288 Х 288; 34 КБ</td><td style=\"width:25%;word-wrap:break-word\"><a href=\"/url?q=https://www.youtube.com/watch%3Fv%3DM-XtB0R3ri4&amp;sa=U&amp;ved=0ahUKEwjbn5XN5o7YAhWHCpoKHVj2BDwQwW4IGDAB&amp;usg=AOvVaw1N8yQZwPD6EZKystmpfSrE\" target=\"_blank\"><img alt=\"Картинки по запросу котики\" height=\"84\" src=\"https://encrypted-tbn0.gstatic.com/images?q=tbn:ANd9GcQD90Zeb-KDfAz6qLRlAyy_jUEvyh3_JL28SMu1BO_6_w5Eivl5hoSHRv8\" width=\"150\"/></a><br/><cite title=\"youtube.com\">youtube.com</cite><br/>ПОДБОРКА ЛУЧШИХ МОМЕНТОВ 2016 СМЕШНЫЕ КОТЫ! СМЕШНЫЕ <b>КОТИКИ</b> НЕЛЕПЫЕ ...<br/>1280 Х 720; 28 КБ - jpg</td><td style=\"width:25%;word-wrap:break-word\"><a href=\"/url?q=https://www.ctclove.ru/news/kotiki-koshki-koty/&amp;sa=U&amp;ved=0ahUKEwjbn5XN5o7YAhWHCpoKHVj2BDwQwW4IGjAC&amp;usg=AOvVaw1VGg3EjS2QNbjy89gEfCvp\" target=\"_blank\"><img alt=\"Картинки по запросу котики\" height=\"77\" src=\"https://encrypted-tbn0.gstatic.com/images?q=tbn:ANd9GcSwwnyBpGfQbYSUcPEbp7P6Rlvrw-xUD6jc5cyOKWBBZw0Q_oHMfhb5zX3C\" width=\"137\"/></a><br/><cite title=\"ctclove.ru\">ctclove.ru</cite><br/><b>Котики</b>, кошки, коты - Новости CTC Love<br/>632 Х 355; 31 КБ - jpg</td><td style=\"width:25%;word-wrap:break-word\"><a href=\"/url?q=https://www.youtube.com/watch%3Fv%3DmK72EwuxZAU&amp;sa=U&amp;ved=0ahUKEwjbn5XN5o7YAhWHCpoKHVj2BDwQwW4IHDAD&amp;usg=AOvVaw0NgE-gf_5DrFUEZoJMMfGS\" target=\"_blank\"><img alt=\"Картинки по запросу котики\" height=\"97\" src=\"https://encrypted-tbn0.gstatic.com/images?q=tbn:ANd9GcRGmgTiBZNo6gRZQgFhXuyJ6t3dGL_enzST14H6vZw5r3xGHr5iPxP2VDvB\" width=\"129\"/></a><br/><cite title=\"youtube.com\">youtube.com</cite><br/>Смешные <b>котики</b>! - YouTube<br/>480 Х 360; 24 КБ - jpg</td></tr><tr><td style=\"width:25%;word-wrap:break-word\"><a href=\"/url?q=https://www.elle.ru/celebrities/samyie-populyarnyie-kotiki-interneta/&amp;sa=U&amp;ved=0ahUKEwjbn5XN5o7YAhWHCpoKHVj2BDwQwW4IHjAE&amp;usg=AOvVaw02Qfc6ht2FtwiOwex4lpJ3\" target=\"_blank\"><img alt=\"Картинки по запросу котики\" height=\"99\" src=\"https://encrypted-tbn0.gstatic.com/images?q=tbn:ANd9GcS-83APtNmIEdp6vQA5mxAyofsOQw4Cnv27hGrKDUG-vH8uhAM61T7C29I\" width=\"148\"/></a><br/><cite title=\"elle.ru\">elle.ru</cite><br/>Мимишные ролики с котами<br/>940 Х 627; 211 КБ - jpeg</td><td style=\"width:25%;word-wrap:break-word\"><a href=\"/url?q=http://marmazov.ru/3918-kotiki-i-indejtsy-ugrozhayut-natsionalnoj-bezopasnosti&amp;sa=U&amp;ved=0ahUKEwjbn5XN5o7YAhWHCpoKHVj2BDwQwW4IIDAF&amp;usg=AOvVaw3vBe9xiEhIqbSJdGjfPin2\" target=\"_blank\"><img alt=\"Картинки по запросу котики\" height=\"105\" src=\"https://encrypted-tbn0.gstatic.com/images?q=tbn:ANd9GcRR_La5YNJSG9E2OHaT8SAa7Ds3huXAKeH0Sh0N0pO68mVRFLqbgLlQlaA\" width=\"140\"/></a><br/><cite title=\"marmazov.ru\">marmazov.ru</cite><br/><b>Котики</b> и индейцы угрожают национальной безопасности — Мармазов.Ру<br/>720 Х 538; 43 КБ - jpg</td><td style=\"width:25%;word-wrap:break-word\"><a href=\"/url?q=https://yandex.ru/collections/card/591b2785432acd94aea24a9c/&amp;sa=U&amp;ved=0ahUKEwjbn5XN5o7YAhWHCpoKHVj2BDwQwW4IIjAG&amp;usg=AOvVaw391mWuEbj_GFO3p8yKGOOA\" target=\"_blank\"><img alt=\"Картинки по запросу котики\" height=\"102\" src=\"https://encrypted-tbn0.gstatic.com/images?q=tbn:ANd9GcQXRtHIMGeFEbHUZN9SGDhn9ersdzDwXYPMKqEEgKRCxGpybcbGXAkGW03J\" width=\"135\"/></a><br/><cite title=\"yandex.ru\">yandex.ru</cite><br/>милые маленькие <b>котики</b> и их шикарные глаза фото домашние <b>котики</b> ...<br/>600 Х 454; 48 КБ</td><td style=\"width:25%;word-wrap:break-word\"><a href=\"/url?q=http://nastroenie.tv/episode/99952&amp;sa=U&amp;ved=0ahUKEwjbn5XN5o7YAhWHCpoKHVj2BDwQwW4IJDAH&amp;usg=AOvVaw0fJzNASY6t0brlDt7toCcC\" target=\"_blank\"><img alt=\"Картинки по запросу котики\" height=\"92\" src=\"https://encrypted-tbn0.gstatic.com/images?q=tbn:ANd9GcSAv-IFhIbt_1Tx7-ZVaSAzlLu1s-gYzfm4o-ziyssV83-0RivNb3_WfJ9x\" width=\"147\"/></a><br/><cite title=\"nastroenie.tv\">nastroenie.tv</cite><br/><b>Котики</b>: терапия или наркотики? : Включи настроение<br/>905 Х 566; 92 КБ - jpg</td></tr><tr><td style=\"width:25%;word-wrap:break-word\"><a href=\"/url?q=https://ria.ru/photolents/20170301/1488412994.html&amp;sa=U&amp;ved=0ahUKEwjbn5XN5o7YAhWHCpoKHVj2BDwQwW4IJjAI&amp;usg=AOvVaw05mwAqu5axb3eUvigCeQw4\" target=\"_blank\"><img alt=\"Картинки по запросу котики\" height=\"148\" src=\"https://encrypted-tbn0.gstatic.com/images?q=tbn:ANd9GcTSzwc1UrrsRqU4LTIzP5XwxqcPBQCXHBwyYafa30bW7bIKKangRRkU0zSu\" width=\"148\"/></a><br/><cite title=\"ria.ru\">ria.ru</cite><br/>Знаменитые <b>котики</b> - РИА Новости, 01.03.2017<br/>960 Х 960; 87 КБ - jpg</td><td style=\"width:25%;word-wrap:break-word\"><a href=\"/url?q=http://kaifolog.ru/pozitiv/5332-smeshnye-kotiki-55-foto.html&amp;sa=U&amp;ved=0ahUKEwjbn5XN5o7YAhWHCpoKHVj2BDwQwW4IKDAJ&amp;usg=AOvVaw1vg5Ceex8LxTwbOH3Atn1E\" target=\"_blank\"><img alt=\"Картинки по запросу котики\" height=\"138\" src=\"https://encrypted-tbn0.gstatic.com/images?q=tbn:ANd9GcQ1JdFArO2ecBkFzT0o_Rd7qCsUwKYkm15lucUDLjuED8s_2rrGja5hL8KPfw\" width=\"135\"/></a><br/><cite title=\"kaifolog.ru\">kaifolog.ru</cite><br/><b>котики</b> (55 фото)<br/>640 Х 653; 85 КБ - jpg</td><td style=\"width:25%;word-wrap:break-word\"><a href=\"/url?q=https://www.youtube.com/watch%3Fv%3D-qj4O2aHQqc&amp;sa=U&amp;ved=0ahUKEwjbn5XN5o7YAhWHCpoKHVj2BDwQwW4IKjAK&amp;usg=AOvVaw2cVZNAqTF2k-_6EajxrEch\" target=\"_blank\"><img alt=\"Картинки по запросу котики\" height=\"150\" src=\"https://encrypted-tbn0.gstatic.com/images?q=tbn:ANd9GcSvTZCdMLW0dkon8Rc-dXLEobfV9SXQhLQaTxS8fP40PcBdIRQIbS5KIs8\" width=\"150\"/></a><br/><cite title=\"youtube.com\">youtube.com</cite><br/>Самые милые <b>котики</b>. Подборка 2016. - YouTube<br/>1080 Х 1080; 68 КБ - jpg</td><td style=\"width:25%;word-wrap:break-word\"><a href=\"/url?q=http://medialeaks.ru/2210dalex-kotiki-na-hlebushke-vyizvali-azhiotazh-v-tvittere-posmotrite-sami-kak-oni-prekrasnyi/&amp;sa=U&amp;ved=0ahUKEwjbn5XN5o7YAhWHCpoKHVj2BDwQwW4ILDAL&amp;usg=AOvVaw1DcGl1aXOXRr5wRUqojRzR\" target=\"_blank\"><img alt=\"Картинки по запросу котики\" height=\"90\" src=\"https://encrypted-tbn0.gstatic.com/images?q=tbn:ANd9GcSNSRRVe-kJhNUe6_j6gYEveRmrJCAZhyyOV-zAADhlA7gCOyqTT4Sq-R_1\" width=\"135\"/></a><br/><cite title=\"medialeaks.ru\">medialeaks.ru</cite><br/><b>Котики</b> на хлебушке - самое прекрасное, что у нас есть<br/>600 Х 400; 16 КБ - jpg</td></tr><tr><td style=\"width:25%;word-wrap:break-word\"><a href=\"/url?q=http://fonday.ru/info/16710-416710e7a5b.html&amp;sa=U&amp;ved=0ahUKEwjbn5XN5o7YAhWHCpoKHVj2BDwQwW4ILjAM&amp;usg=AOvVaw1UPDXeY_IoCgfJVUeUdIRf\" target=\"_blank\"><img alt=\"Картинки по запросу котики\" height=\"84\" src=\"https://encrypted-tbn0.gstatic.com/images?q=tbn:ANd9GcTLIlEEx0DNSOa3T2pN-9Z1gdU_xpAIrrQGh4kLqKd7Q6Q4rpnerdc9ZumW\" width=\"150\"/></a><br/><cite title=\"fonday.ru\">fonday.ru</cite><br/>Обои корзинка, <b>котик</b>, котята, <b>котики</b><br/>3840 Х 2160; 854 КБ - jpg</td><td style=\"width:25%;word-wrap:break-word\"><a href=\"/url?q=https://m.pikabu.ru/story/lyubov_i_kotiki_4966516&amp;sa=U&amp;ved=0ahUKEwjbn5XN5o7YAhWHCpoKHVj2BDwQwW4IMDAN&amp;usg=AOvVaw2XHN0CMO1oG8wDEvJAZ9QR\" target=\"_blank\"><img alt=\"Картинки по запросу котики\" height=\"139\" src=\"https://encrypted-tbn0.gstatic.com/images?q=tbn:ANd9GcQMTTKaeAfUgRSR2CAGpHg6J1uh9v-E5sDDckgTCFrDkxHkeKPwXhrwYmpV\" width=\"150\"/></a><br/><cite title=\"m.pikabu.ru\">m.pikabu.ru</cite><br/>Любовь и <b>котики</b><br/>1077 Х 997; 272 КБ - jpg</td><td style=\"width:25%;word-wrap:break-word\"><a href=\"/url?q=http://www.catcoffeeshop.ru/cats&amp;sa=U&amp;ved=0ahUKEwjbn5XN5o7YAhWHCpoKHVj2BDwQwW4IMjAO&amp;usg=AOvVaw3B4XaMGNWbwURJllmSNuLS\" target=\"_blank\"><img alt=\"Картинки по запросу котики\" height=\"124\" src=\"https://encrypted-tbn0.gstatic.com/images?q=tbn:ANd9GcRREmo9dh8-y_ojWAeDja1lwso-_uEuXGuWuw1aZ9swgWn70CsxoDxAJ3Y\" width=\"124\"/></a><br/><cite title=\"catcoffeeshop.ru\">catcoffeeshop.ru</cite><br/>Котофейня - Наши <b>котики</b><br/>403 Х 403; 302 КБ - png</td><td style=\"width:25%;word-wrap:break-word\"><a href=\"/url?q=https://www.youtube.com/watch%3Fv%3DdvSnEeMlbb0&amp;sa=U&amp;ved=0ahUKEwjbn5XN5o7YAhWHCpoKHVj2BDwQwW4INDAP&amp;usg=AOvVaw383qWvb-ggKRzgo_B0UlLD\" target=\"_blank\"><img alt=\"Картинки по запросу котики\" height=\"94\" src=\"https://encrypted-tbn0.gstatic.com/images?q=tbn:ANd9GcTGiV23CD1Hw_fN-1ORT-wyFGsy4Y9zq-TKI77hi47rFFlRMDbj5kxibEfb\" width=\"150\"/></a><br/><cite title=\"youtube.com\">youtube.com</cite><br/>Sweety cats(Милые <b>котики</b>) - YouTube<br/>1280 Х 800; 87 КБ - jpg</td></tr><tr><td style=\"width:25%;word-wrap:break-word\"><a href=\"/url?q=https://yandex.ru/collections/user/mr-makedonsky2018/kotiki/&amp;sa=U&amp;ved=0ahUKEwjbn5XN5o7YAhWHCpoKHVj2BDwQwW4INjAQ&amp;usg=AOvVaw27OJsFGxyyaZ8Egn0-qUa-\" target=\"_blank\"><img alt=\"Картинки по запросу котики\" height=\"103\" src=\"https://encrypted-tbn0.gstatic.com/images?q=tbn:ANd9GcQRbOYt_n_HeLiHMarcxbNTFGsT-LZrUpOFG_BUKobgMWauFcwkMZEgQ9DM\" width=\"149\"/></a><br/><cite title=\"yandex.ru\">yandex.ru</cite><br/><b>Котики</b>» — коллекция пользователя Александр Македонский в Яндекс ...<br/>1000 Х 694; 152 КБ - jpg</td><td style=\"width:25%;word-wrap:break-word\"><a href=\"/url?q=http://www.pet4me.ru/koshki/samye-izvestnye-kotiki-interneta&amp;sa=U&amp;ved=0ahUKEwjbn5XN5o7YAhWHCpoKHVj2BDwQwW4IODAR&amp;usg=AOvVaw2eVwdvcsXW-FPu467CDco_\" target=\"_blank\"><img alt=\"Картинки по запросу котики\" height=\"99\" src=\"https://encrypted-tbn0.gstatic.com/images?q=tbn:ANd9GcSWffThogHmsfDKm0-yOfZ3_cTKPJE0Vl3itBsDL4YgIa3zCFcgtIENnVA\" width=\"149\"/></a><br/><cite title=\"pet4me.ru\">pet4me.ru</cite><br/>Самые известные <b>котики</b> интернета | Pet4Me.ru<br/>1000 Х 667; 72 КБ - jpg</td><td style=\"width:25%;word-wrap:break-word\"><a href=\"/url?q=http://fishki.net/2202582-kotiki-milye-zabavnye-smeshnye-koshki.html&amp;sa=U&amp;ved=0ahUKEwjbn5XN5o7YAhWHCpoKHVj2BDwQwW4IOjAS&amp;usg=AOvVaw2g2k1jyOPclyb462p9kP_j\" target=\"_blank\"><img alt=\"Картинки по запросу котики\" height=\"89\" src=\"https://encrypted-tbn0.gstatic.com/images?q=tbn:ANd9GcRLriXYBXAzkHlEdzpBo9U1B2KluKz1LPvA_uybjRR0yxvxTiIrNaviJSY\" width=\"143\"/></a><br/><cite title=\"fishki.net\">fishki.net</cite><br/><b>Котики</b>. Милые, забавные, смешные кошки<br/>800 Х 496; 101 КБ - jpg</td><td style=\"width:25%;word-wrap:break-word\"><a href=\"/url?q=https://ok.ru/nashikoti&amp;sa=U&amp;ved=0ahUKEwjbn5XN5o7YAhWHCpoKHVj2BDwQwW4IPDAT&amp;usg=AOvVaw2kypc8TpMe5ghAPZjj7jFF\" target=\"_blank\"><img alt=\"Картинки по запросу котики\" height=\"115\" src=\"https://encrypted-tbn0.gstatic.com/images?q=tbn:ANd9GcSMPby0J-sFxezIXJXoZ3Itl3KMPVAiJTdOEv0xBClL2D8oiMZWJPli_3A\" width=\"115\"/></a><br/><cite title=\"ok.ru\">ok.ru</cite><br/>♥ Наши <b>Котики</b> ♥ | OK.RU<br/>288 Х 288; 39 КБ</td></tr></table>"
      ],
      "text/plain": [
       "<IPython.core.display.HTML object>"
      ]
     },
     "metadata": {},
     "output_type": "display_data"
    }
   ],
   "source": [
    "query = \"\"\n",
    "template = 'http://localhost:80/'\n",
    "url = template.format(urllib.parse.urlencode({'q' : query}))\n",
    "req = get(url)\n",
    "\n",
    "assert req.status_code == 200, 'request failed'\n",
    "soup = BeautifulSoup(req.text, \"lxml\")\n",
    "\n",
    "display(HTML(str(soup.findAll(\"table\", attrs={\"class\": \"images_table\"})[0])))"
   ]
  },
  {
   "cell_type": "markdown",
   "metadata": {},
   "source": [
    "## Метод post"
   ]
  },
  {
   "cell_type": "code",
   "execution_count": 4,
   "metadata": {},
   "outputs": [
    {
     "data": {
      "text/html": [
       "<p>Your login information was correct.</p>"
      ],
      "text/plain": [
       "<IPython.core.display.HTML object>"
      ]
     },
     "metadata": {},
     "output_type": "display_data"
    }
   ],
   "source": [
    "def login(username, password):\n",
    "    req = post(\"http://localhost:80/login\", data={\"username\": username, \"password\": password})\n",
    "    display(HTML(str(req.text)))\n",
    "    \n",
    "login(\"king_menin\", \"pass\")"
   ]
  },
  {
   "cell_type": "code",
   "execution_count": null,
   "metadata": {
    "collapsed": true
   },
   "outputs": [],
   "source": []
  }
 ],
 "metadata": {
  "kernelspec": {
   "display_name": "Python 3",
   "language": "python",
   "name": "python3"
  },
  "language_info": {
   "codemirror_mode": {
    "name": "ipython",
    "version": 3
   },
   "file_extension": ".py",
   "mimetype": "text/x-python",
   "name": "python",
   "nbconvert_exporter": "python",
   "pygments_lexer": "ipython3",
   "version": "3.6.1"
  }
 },
 "nbformat": 4,
 "nbformat_minor": 2
}
