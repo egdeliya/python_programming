{
 "cells": [
  {
   "cell_type": "markdown",
   "metadata": {},
   "source": [
    "### Двумерное уравнение теплопроводности"
   ]
  },
  {
   "cell_type": "code",
   "execution_count": 34,
   "metadata": {},
   "outputs": [],
   "source": [
    "# x = [[pi, 2*pi, 3*pi], [4*pi, 5*pi, 6*pi]]\n",
    "# y = [4*pi, 5*pi, 6*pi]\n",
    "# np.sin(x)"
   ]
  },
  {
   "cell_type": "code",
   "execution_count": 1,
   "metadata": {
    "collapsed": true
   },
   "outputs": [],
   "source": [
    "from math import cos, sin, pi, exp\n",
    "import numpy as np\n",
    "import matplotlib.pyplot as plt \n",
    "%matplotlib inline"
   ]
  },
  {
   "cell_type": "code",
   "execution_count": 33,
   "metadata": {},
   "outputs": [],
   "source": [
    "# exp(1)"
   ]
  },
  {
   "cell_type": "code",
   "execution_count": 2,
   "metadata": {
    "collapsed": true
   },
   "outputs": [],
   "source": [
    "Nx, Ny = 100, 100\n",
    "delta_t = 1e-2\n",
    "t_max = 10\n",
    "Alpha = np.array([1, 2, 5, 100])\n",
    "lambda_x = 1e-4\n",
    "Lambda_y = Alpha * lambda_x"
   ]
  },
  {
   "cell_type": "code",
   "execution_count": 44,
   "metadata": {
    "collapsed": true
   },
   "outputs": [],
   "source": [
    "def fi_range(x_range, y, t, lambda_y):\n",
    "#     print(lambda_x, lambda_y, t)\n",
    "#     print\n",
    "    return np.cos(x_range * pi) * sin(pi * y) * exp(-(lambda_x + lambda_y) * t * (pi**2))"
   ]
  },
  {
   "cell_type": "code",
   "execution_count": 45,
   "metadata": {
    "collapsed": true
   },
   "outputs": [],
   "source": [
    "def fi(x, y, t, lambda_y):\n",
    "#     print(lambda_x, lambda_y, t)\n",
    "#     print\n",
    "    return cos(x * pi) * sin(pi * y) * exp(-(lambda_x + lambda_y) * t * (pi**2))"
   ]
  },
  {
   "cell_type": "code",
   "execution_count": 46,
   "metadata": {
    "collapsed": true
   },
   "outputs": [],
   "source": [
    "x_range, y_range = np.linspace(0, 1, Nx), np.linspace(0, 1, Ny)"
   ]
  },
  {
   "cell_type": "code",
   "execution_count": 47,
   "metadata": {},
   "outputs": [],
   "source": [
    "# x_range[-1]"
   ]
  },
  {
   "cell_type": "code",
   "execution_count": 48,
   "metadata": {},
   "outputs": [],
   "source": [
    "# plt.plot(x_range, fi_range(x_range, 1/2, 0, 0))"
   ]
  },
  {
   "cell_type": "code",
   "execution_count": 60,
   "metadata": {},
   "outputs": [],
   "source": [
    "# plt.plot(x_range, np.sin(x_range))"
   ]
  },
  {
   "cell_type": "code",
   "execution_count": 49,
   "metadata": {},
   "outputs": [],
   "source": [
    "# print(list(i**2 for i in range(10)))"
   ]
  },
  {
   "cell_type": "code",
   "execution_count": 109,
   "metadata": {
    "collapsed": true
   },
   "outputs": [],
   "source": [
    "# fi_matrix = np.zeros((Nx, Ny))\n"
   ]
  },
  {
   "cell_type": "code",
   "execution_count": 155,
   "metadata": {},
   "outputs": [],
   "source": [
    "# mtr = np.matrix([[0, 1], [2, 3]])\n",
    "# mtr[0, 0] = 3"
   ]
  },
  {
   "cell_type": "code",
   "execution_count": 156,
   "metadata": {},
   "outputs": [],
   "source": [
    "# print(fi_matrix.max())"
   ]
  },
  {
   "cell_type": "code",
   "execution_count": 152,
   "metadata": {
    "collapsed": true
   },
   "outputs": [],
   "source": [
    "h_step, tau_step = 1 / Nx, 1e-2\n",
    "gamma = 1 / tau_step "
   ]
  },
  {
   "cell_type": "code",
   "execution_count": 153,
   "metadata": {
    "collapsed": true
   },
   "outputs": [],
   "source": [
    "c, b = lambda_x / (h_step ** 2), lambda_x / (h_step ** 2)\n",
    "g, f = Lambda_y[0] / (h_step ** 2), Lambda_y[0] / (h_step ** 2)\n",
    "a = -(c + b + g + f + gamma)"
   ]
  },
  {
   "cell_type": "code",
   "execution_count": 137,
   "metadata": {
    "scrolled": true
   },
   "outputs": [],
   "source": [
    "# print(a, c, b, g, f)"
   ]
  },
  {
   "cell_type": "code",
   "execution_count": 154,
   "metadata": {},
   "outputs": [],
   "source": [
    "# print(fi_matrix)\n",
    "# d_matrix = - gamma * fi_matrix "
   ]
  },
  {
   "cell_type": "code",
   "execution_count": 150,
   "metadata": {
    "scrolled": true
   },
   "outputs": [
    {
     "name": "stdout",
     "output_type": "stream",
     "text": [
      "[[  0.00000000e+00   0.00000000e+00   0.00000000e+00 ...,   0.00000000e+00\n",
      "    0.00000000e+00   0.00000000e+00]\n",
      " [ -3.17279335e+00  -2.04704916e+00  -9.81963724e-01 ...,   9.81010592e-01\n",
      "    2.04709821e+00   3.17279335e+00]\n",
      " [ -6.34239197e+00  -4.09250405e+00  -1.96380215e+00 ...,   1.96189797e+00\n",
      "    4.09260211e+00   6.34239197e+00]\n",
      " ..., \n",
      " [ -6.34239197e+00  -4.09846434e+00  -1.97482932e+00 ...,   1.97293413e+00\n",
      "    4.09856276e+00   6.34239197e+00]\n",
      " [ -3.17279335e+00  -2.05049705e+00  -9.88342463e-01 ...,   9.87394948e-01\n",
      "    2.05054629e+00   3.17279335e+00]\n",
      " [ -1.22464680e-14  -1.22403024e-14  -1.22218119e-14 ...,   1.22218119e-14\n",
      "    1.22403024e-14   1.22464680e-14]] \n",
      "\n",
      "\n",
      "[[  0.00000000e+00   0.00000000e+00   0.00000000e+00 ...,  -0.00000000e+00\n",
      "   -0.00000000e+00  -0.00000000e+00]\n",
      " [  3.17279335e-02   2.04704916e-02   9.81963724e-03 ...,  -9.81010592e-03\n",
      "   -2.04709821e-02  -3.17279335e-02]\n",
      " [  6.34239197e-02   4.09250405e-02   1.96380215e-02 ...,  -1.96189797e-02\n",
      "   -4.09260211e-02  -6.34239197e-02]\n",
      " ..., \n",
      " [  6.34239197e-02   4.09846434e-02   1.97482932e-02 ...,  -1.97293413e-02\n",
      "   -4.09856276e-02  -6.34239197e-02]\n",
      " [  3.17279335e-02   2.05049705e-02   9.88342463e-03 ...,  -9.87394948e-03\n",
      "   -2.05054629e-02  -3.17279335e-02]\n",
      " [  1.22464680e-16   1.22403024e-16   1.22218119e-16 ...,  -1.22218119e-16\n",
      "   -1.22403024e-16  -1.22464680e-16]]\n"
     ]
    }
   ],
   "source": [
    "# print(d_matrix, '\\n\\n')\n",
    "# print(fi_matrix)\n"
   ]
  },
  {
   "cell_type": "code",
   "execution_count": 140,
   "metadata": {},
   "outputs": [],
   "source": [
    "# print(-np.infty < -1010010133333333333300000000000)"
   ]
  },
  {
   "cell_type": "code",
   "execution_count": 141,
   "metadata": {
    "collapsed": true
   },
   "outputs": [],
   "source": [
    "# def max_matrix_delta(matrix):\n",
    "#     max_ = - np.infty\n",
    "    \n",
    "        \n",
    "#     return max(max_)"
   ]
  },
  {
   "cell_type": "code",
   "execution_count": 142,
   "metadata": {},
   "outputs": [],
   "source": [
    "# max_matrix_element(fi_matrix)"
   ]
  },
  {
   "cell_type": "code",
   "execution_count": 151,
   "metadata": {
    "collapsed": true
   },
   "outputs": [],
   "source": [
    "fi_matrix = np.matrix([fi_range(x_range, y, 0, Lambda_y[0]) for y in y_range])"
   ]
  },
  {
   "cell_type": "code",
   "execution_count": 159,
   "metadata": {},
   "outputs": [
    {
     "name": "stdout",
     "output_type": "stream",
     "text": [
      "Wall time: 1min 49s\n"
     ]
    }
   ],
   "source": [
    "%%time\n",
    "prev_fi = fi\n",
    "t = 1e-2\n",
    "t_max = 10\n",
    "delta = []\n",
    "max_delta = - np.infty\n",
    "while (t <= t_max):\n",
    "#     prev_max = fi_matrix.max()\n",
    "    for i in range(1, Nx - 1):\n",
    "        for j in range(1, Ny - 1):\n",
    "            fi_matrix[i, j] = 1 / a * (d_matrix[i, j] - c * fi_matrix[i - 1, j] - b * fi_matrix[i + 1, j] - g * fi_matrix[i, j - 1] - f * fi_matrix[i, j + 1])\n",
    "            if (max_delta < abs(fi_matrix[i, j] - fi(x_range[i], y_range[j], t, Lambda_y[0]))):\n",
    "                max_delta = abs(fi_matrix[i, j] - fi(x_range[i], y_range[j], t, Lambda_y[0]))\n",
    "#             fi_matrix.item(i, j) = 1 / a * (d_matrix.item(i, j) - c * fi_matrix.item(i - 1, j)  \\\n",
    "#                                                  - b * fi_matrix.item(i + 1, j) - g * fi_matrix.item(i, j - 1) - f * fi_matrix.item(i, j + 1))\n",
    "    delta.append(abs(max_))\n",
    "    d_matrix = - gamma * fi_matrix \n",
    "    t += tau_step"
   ]
  },
  {
   "cell_type": "code",
   "execution_count": 160,
   "metadata": {},
   "outputs": [
    {
     "data": {
      "text/plain": [
       "[<matplotlib.lines.Line2D at 0x239086732e8>]"
      ]
     },
     "execution_count": 160,
     "metadata": {},
     "output_type": "execute_result"
    },
    {
     "data": {
      "image/png": "[encoded data removed]",
      "text/plain": [
       "<matplotlib.figure.Figure at 0x23907647208>"
      ]
     },
     "metadata": {},
     "output_type": "display_data"
    }
   ],
   "source": [
    "plt.plot(range(len(delta)), delta)"
   ]
  },
  {
   "cell_type": "code",
   "execution_count": null,
   "metadata": {
    "collapsed": true
   },
   "outputs": [],
   "source": []
  }
 ],
 "metadata": {
  "kernelspec": {
   "display_name": "Python 3",
   "language": "python",
   "name": "python3"
  },
  "language_info": {
   "codemirror_mode": {
    "name": "ipython",
    "version": 3
   },
   "file_extension": ".py",
   "mimetype": "text/x-python",
   "name": "python",
   "nbconvert_exporter": "python",
   "pygments_lexer": "ipython3",
   "version": "3.6.1"
  }
 },
 "nbformat": 4,
 "nbformat_minor": 2
}
